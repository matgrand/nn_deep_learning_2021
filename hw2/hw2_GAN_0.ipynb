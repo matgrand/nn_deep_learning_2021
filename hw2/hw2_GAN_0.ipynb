{
 "cells": [
  {
   "cell_type": "markdown",
   "metadata": {},
   "source": [
    "## Variational autoencoder / GAN / SimCLR\n",
    "- 2 pt: implement and test variational (convolutional) autoencoder or GAN or SimCLR"
   ]
  }
 ],
 "metadata": {
  "language_info": {
   "name": "python"
  },
  "orig_nbformat": 4
 },
 "nbformat": 4,
 "nbformat_minor": 2
}
