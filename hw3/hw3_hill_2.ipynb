{
 "cells": [
  {
   "cell_type": "markdown",
   "metadata": {},
   "source": [
    "# HOMEWORK 3 NEURAL NETWORKS AND DEEP LEARNING\n",
    "\n",
    "---\n",
    "A.A. 2021/22 (6 CFU) - Dr. Alberto Testolin, Dr. Umberto Michieli\n",
    "---\n",
    "Student: Matteo Grandin\n",
    "---\n",
    "id: 2020374"
   ]
  },
  {
   "cell_type": "markdown",
   "metadata": {},
   "source": [
    "# Reinforced Learning"
   ]
  },
  {
   "cell_type": "markdown",
   "metadata": {},
   "source": [
    "### General overview\n",
    "In this homework you will learn how to implement and test neural network models for\n",
    "solving reinforcement learning problems. The basic tasks for the homework will require to implement some\n",
    "extensions to the code that you have seen in the Lab. The advanced tasks will require to train and test your\n",
    "learning agent on a different type of input (image pixels) or Gym environment. You can just choose one of\n",
    "the advanced tasks to get the maximum grade. If you are interested in improving your skills, feel free to try\n",
    "both advanced tasks. Given the higher computational complexity of RL, in this homework you don’t need to\n",
    "tune learning hyperparameters using search procedures and cross-validation; however, you are encouraged\n",
    "to play with model hyperparameters to find a satisfactory configuration.\n",
    "\n",
    "\n",
    "- 3 pt: use the notebook of Lab 07 to study how the exploration profile (either using eps-greedy or\n",
    "softmax) impacts the learning curve. Tune a bit the model hyperparameters or tweak the reward\n",
    "function to speed-up learning convergence (i.e., reach the same accuracy with fewer training episodes).\n",
    "\n",
    "YOU CAN DO JUST 1 OR BOTH\n",
    "- 5 pt: extend the notebook used in Lab 07, in order to learn to control the CartPole environment using\n",
    "directly the screen pixels, rather than the compact state representation used during the Lab (cart\n",
    "position, cart velocity, pole angle, pole angular velocity). NB: this will require to change the\n",
    "“observation_space” and to look for smart ways of encoding the pixels in a compact way to reduce\n",
    "computational complexity (e.g., crop the image around the pole, use difference of consecutive frames\n",
    "as input to consider temporal context, etc.).\n",
    "\n",
    "OR\n",
    "\n",
    "- 5 pt: train a deep RL agent on a different Gym environment. You are free to choose whatever Gym\n",
    "environment you like from the available list, or even explore other simulation platforms."
   ]
  },
  {
   "cell_type": "code",
   "execution_count": 59,
   "metadata": {},
   "outputs": [],
   "source": [
    "# Boolean value to check if we are in colab or not\n",
    "colab = False \n",
    "show_video = False\n",
    "show_render = False"
   ]
  },
  {
   "cell_type": "code",
   "execution_count": 60,
   "metadata": {
    "id": "jBelL8nBZVsn"
   },
   "outputs": [
    {
     "name": "stdout",
     "output_type": "stream",
     "text": [
      "Requirement already satisfied: gym in /home/irong/nn_deep_learning_2021/dl_env/lib/python3.7/site-packages (0.21.0)\n",
      "Requirement already satisfied: importlib-metadata>=4.8.1 in /home/irong/nn_deep_learning_2021/dl_env/lib/python3.7/site-packages (from gym) (4.8.2)\n",
      "Requirement already satisfied: numpy>=1.18.0 in /home/irong/nn_deep_learning_2021/dl_env/lib/python3.7/site-packages (from gym) (1.19.5)\n",
      "Requirement already satisfied: cloudpickle>=1.2.0 in /home/irong/nn_deep_learning_2021/dl_env/lib/python3.7/site-packages (from gym) (2.0.0)\n",
      "Requirement already satisfied: zipp>=0.5 in /home/irong/nn_deep_learning_2021/dl_env/lib/python3.7/site-packages (from importlib-metadata>=4.8.1->gym) (3.6.0)\n",
      "Requirement already satisfied: typing-extensions>=3.6.4 in /home/irong/nn_deep_learning_2021/dl_env/lib/python3.7/site-packages (from importlib-metadata>=4.8.1->gym) (4.0.1)\n",
      "Note: you may need to restart the kernel to use updated packages.\n"
     ]
    }
   ],
   "source": [
    "if colab:\n",
    "    !pip install gym\n",
    "else:\n",
    "    %pip install gym"
   ]
  },
  {
   "cell_type": "code",
   "execution_count": 61,
   "metadata": {
    "id": "a7EkHQ0VsNnJ"
   },
   "outputs": [],
   "source": [
    "import random\n",
    "import torch\n",
    "import numpy as np\n",
    "import gym\n",
    "import matplotlib.pyplot as plt\n",
    "from tqdm.notebook import tqdm\n",
    "\n",
    "from torch import nn\n",
    "from collections import deque # this python module implements exactly what we need for the replay memeory\n",
    "\n",
    "#use gpu if available\n",
    "device = torch.device(\"cuda:0\" if torch.cuda.is_available() else \"cpu\")"
   ]
  },
  {
   "cell_type": "code",
   "execution_count": 62,
   "metadata": {
    "id": "E0oXbzI2ZAfv"
   },
   "outputs": [],
   "source": [
    "if colab:\n",
    "    !apt update\n",
    "    !apt-get install python-opengl -y\n",
    "    !apt install xvfb -y\n",
    "    !pip install pyvirtualdisplay\n",
    "    !pip install piglet\n",
    "    import glob\n",
    "    import io\n",
    "    import base64\n",
    "    import os\n",
    "    from IPython.display import HTML\n",
    "    from IPython import display as ipythondisplay\n",
    "    from pyvirtualdisplay import Display\n",
    "    from gym.wrappers import Monitor\n",
    "\n",
    "    display = Display(visible=0, size=(1400, 900))\n",
    "    display.start()\n",
    "\n",
    "    if type(os.environ.get(\"DISPLAY\")) is not str or len(os.environ.get(\"DISPLAY\"))==0:\n",
    "        !bash ../xvfb start\n",
    "        %env DISPLAY=:1\n",
    "\n",
    "    \"\"\"\n",
    "    Utility functions to enable video recording of gym environment and displaying it\n",
    "    To enable video, just do \"env = wrap_env(env)\"\"\n",
    "    \"\"\"\n",
    "\n",
    "    def show_videos():\n",
    "        mp4list = glob.glob('video/*.mp4')\n",
    "        mp4list.sort()\n",
    "        for mp4 in mp4list:\n",
    "            print(f\"\\nSHOWING VIDEO {mp4}\")\n",
    "            video = io.open(mp4, 'r+b').read()\n",
    "            encoded = base64.b64encode(video)\n",
    "            ipythondisplay.display(HTML(data='''<video alt=\"test\" autoplay \n",
    "                        loop controls style=\"height: 400px;\">\n",
    "                        <source src=\"data:video/mp4;base64,{0}\" type=\"video/mp4\" />\n",
    "                    </video>'''.format(encoded.decode('ascii'))))\n",
    "            \n",
    "    def wrap_env(env, video_callable=None):\n",
    "        env = Monitor(env, './video', force=True, video_callable=video_callable)\n",
    "        return env"
   ]
  },
  {
   "cell_type": "code",
   "execution_count": 63,
   "metadata": {
    "id": "1axKWEBl8uik"
   },
   "outputs": [],
   "source": [
    "class ReplayMemory(object):\n",
    "\n",
    "    def __init__(self, capacity, state_size=2):\n",
    "        #capacity, state, action, reward, next_state, mask\n",
    "        self.memory = torch.zeros((capacity, 2*state_size+1+1+1), dtype=torch.float32, device=device) #capacity, action, reward, 2 states\n",
    "        self.state_size = state_size\n",
    "        self.memory_index = 0\n",
    "        self.capacity = capacity\n",
    "        self.full = False\n",
    "\n",
    "    def push(self, state, action, next_state, reward):\n",
    "        if state is None or action is None or reward is None:\n",
    "            print(\"WARNING: None value passed to ReplayMemory.push()\")\n",
    "            return\n",
    "        # TODO: Add the tuple (state, action, next_state, reward) to the queue\n",
    "        s = torch.from_numpy(state).float().to(device)\n",
    "        a = torch.tensor([action], dtype=torch.float32, device=device)\n",
    "        r = torch.tensor([reward], dtype=torch.float32, device=device)\n",
    "        if next_state is not None:\n",
    "            next_s = torch.from_numpy(next_state).float().to(device) \n",
    "            mask = torch.tensor([1], dtype=torch.float32, device=device)\n",
    "        else:\n",
    "            next_s = torch.zeros((self.state_size), dtype=torch.float32, device=device)\n",
    "            mask = torch.tensor([0], dtype=torch.float32, device=device) # mask is false\n",
    "        \n",
    "        to_add = torch.cat((s, a, r, next_s, mask), dim=0 )\n",
    "        #assert to_add.shape == (1, 2*self.state_size+1+1+1),  f\"to_add: {to_add.shape}, \\n {to_add}\"\n",
    "        self.memory[self.memory_index, :] = to_add\n",
    "\n",
    "        #increase the index, and wrap it around if it is bigger than the capacity\n",
    "        if self.memory_index == self.capacity-1:\n",
    "            self.full = True\n",
    "        self.memory_index = (self.memory_index + 1) % self.memory.shape[0]\n",
    "        \n",
    "    def sample(self, batch_size):\n",
    "        batch_size = min(batch_size, len(self)) # Get all the samples if the requested batch_size is higher than the number of sample currently in the memory\n",
    "        # select indeces\n",
    "        pool = self.capacity if self.full else self.memory_index-1\n",
    "        indeces = np.random.choice(pool, batch_size, replace=False)\n",
    "        # return the samples\n",
    "        ret = self.memory[indeces, :]\n",
    "        states = ret[:, 0:self.state_size].unsqueeze(1)\n",
    "        actions = ret[:, self.state_size].long()\n",
    "        rewards = ret[:, self.state_size+1].float()\n",
    "        non_final_mask = ret[:, self.state_size+2].bool()\n",
    "        non_final_next_states = ret[:, self.state_size+3:].unsqueeze(1)\n",
    "        non_final_next_states = non_final_next_states[non_final_mask]\n",
    "\n",
    "        #print(f\"states: {states.shape}, actions: {actions.shape}, rewards: {rewards.shape}, non_final_next_states: {non_final_next_states.shape}, non_final_mask: {non_final_mask.shape}\")\n",
    "        return states, actions, rewards, non_final_next_states, non_final_mask\n",
    "\n",
    "\n",
    "    def __len__(self):\n",
    "        if self.full:\n",
    "            return self.capacity\n",
    "        else:\n",
    "            return self.memory_index\n",
    "        # return len(self.memory) # Return the number of samples currently stored in the memory"
   ]
  },
  {
   "cell_type": "code",
   "execution_count": 64,
   "metadata": {
    "id": "W41rXekb8x7K"
   },
   "outputs": [],
   "source": [
    "class DQN(nn.Module):\n",
    "\n",
    "    def __init__(self, state_space_dim, action_space_dim):\n",
    "        super().__init__()\n",
    "        n_hid = 128\n",
    "        self.linear = nn.Sequential(\n",
    "            #inpt layer\n",
    "            nn.Linear(state_space_dim, n_hid),\n",
    "            nn.Tanh(),\n",
    "            #nn.Dropout(0.2), #bad\n",
    "            #hidden layer\n",
    "            nn.Linear(n_hid, n_hid),\n",
    "            nn.Tanh(),\n",
    "            #nn.Dropout(0.2), #bad\n",
    "            #outpt layer\n",
    "            nn.Linear(n_hid, action_space_dim),\n",
    "                )\n",
    "\n",
    "    def forward(self, x):\n",
    "        return self.linear(x)"
   ]
  },
  {
   "cell_type": "markdown",
   "metadata": {
    "id": "ynfEXqjGfbpl"
   },
   "source": [
    "## Exploration Policy"
   ]
  },
  {
   "cell_type": "code",
   "execution_count": 65,
   "metadata": {
    "id": "ZXfh_Ub1fv4c"
   },
   "outputs": [],
   "source": [
    "def choose_action_epsilon_greedy(net, state, epsilon):\n",
    "    if epsilon > 1 or epsilon < 0:\n",
    "        raise Exception('The epsilon value must be between 0 and 1')\n",
    "                \n",
    "    # Evaluate the network output from the current state\n",
    "    with torch.no_grad():\n",
    "        net.eval()\n",
    "        state = torch.tensor(state, dtype=torch.float32,device=device) # Convert the state to tensor\n",
    "        net_out = net(state)\n",
    "\n",
    "    # Get the best action (argmax of the network output)\n",
    "    best_action = int(net_out.argmax())\n",
    "    # Get the number of possible actions\n",
    "    action_space_dim = net_out.shape[-1]\n",
    "\n",
    "    # Select a non optimal action with probability epsilon, otherwise choose the best action\n",
    "    if random.random() < epsilon:\n",
    "        # List of non-optimal actions\n",
    "        non_optimal_actions = [a for a in range(action_space_dim) if a != best_action]\n",
    "        # Select randomly\n",
    "        action = random.choice(non_optimal_actions)\n",
    "    else:\n",
    "        # Select best action\n",
    "        action = best_action\n",
    "        \n",
    "    return action, net_out.cpu().numpy()"
   ]
  },
  {
   "cell_type": "code",
   "execution_count": 66,
   "metadata": {
    "id": "taW_cjBsf4sW"
   },
   "outputs": [],
   "source": [
    "def choose_action_softmax(net, state, temperature):\n",
    "    if temperature < 0:\n",
    "        raise Exception('The temperature value must be greater than or equal to 0 ')\n",
    "        \n",
    "    # If the temperature is 0, just select the best action using the eps-greedy policy with epsilon = 0\n",
    "    if temperature == 0:\n",
    "        return choose_action_epsilon_greedy(net, state, 0)\n",
    "    \n",
    "    # Evaluate the network output from the current state\n",
    "    with torch.no_grad():\n",
    "        net.eval()\n",
    "        state = torch.tensor(state, dtype=torch.float32, device=device)\n",
    "        net_out = net(state)\n",
    "\n",
    "    # Apply softmax with temp\n",
    "    temperature = max(temperature, 1e-8) # set a minimum to the temperature for numerical stability\n",
    "    softmax_out = nn.functional.softmax(net_out / temperature, dim=0).cpu().numpy()\n",
    "                \n",
    "    # Sample the action using softmax output as mass pdf\n",
    "    all_possible_actions = np.arange(0, softmax_out.shape[-1])\n",
    "    action = np.random.choice(all_possible_actions, p=softmax_out) # this samples a random element from \"all_possible_actions\" with the probability distribution p (softmax_out in this case)\n",
    "    \n",
    "    return action, net_out.cpu().numpy()"
   ]
  },
  {
   "cell_type": "markdown",
   "metadata": {
    "id": "QMXhJfZcpqIA"
   },
   "source": [
    "### Exploration profile"
   ]
  },
  {
   "cell_type": "code",
   "execution_count": 67,
   "metadata": {
    "id": "G-f78CC3ptt2"
   },
   "outputs": [
    {
     "data": {
      "text/plain": [
       "Text(0, 0.5, 'Exploration profile (Softmax temperature)')"
      ]
     },
     "execution_count": 67,
     "metadata": {},
     "output_type": "execute_result"
    },
    {
     "data": {
      "image/png": "[encoded data removed]",
      "text/plain": [
       "<Figure size 864x216 with 1 Axes>"
      ]
     },
     "metadata": {
      "needs_background": "light"
     },
     "output_type": "display_data"
    }
   ],
   "source": [
    "### Define exploration profile\n",
    "def get_exploration_profile(initial_value=0.5, num_iterations=1000, speed = 3): # speed = speed of convergence, bigger is faster to reach 0\n",
    "    if initial_value < 0:\n",
    "        raise Exception('The initial value must be > 0')\n",
    "    if initial_value > 1:\n",
    "        exp_decay = np.exp(-np.log(initial_value) / num_iterations * speed) # We compute the exponential decay in such a way the shape of the exploration profile does not depend on the number of iterations\n",
    "    else :\n",
    "        exp_decay = np.exp(np.log(initial_value) / num_iterations * speed)\n",
    "    exploration_profile = [initial_value * (exp_decay ** i) for i in range(num_iterations)]\n",
    "    return exploration_profile\n",
    "\n",
    "exploration_profile = get_exploration_profile()\n",
    "\n",
    "### Plot exploration profile\n",
    "plt.figure(figsize=(12,3))\n",
    "plt.plot(exploration_profile)\n",
    "plt.grid()\n",
    "plt.xlabel('Iteration')\n",
    "plt.ylabel('Exploration profile (Softmax temperature)')"
   ]
  },
  {
   "cell_type": "markdown",
   "metadata": {
    "id": "zjKmdFhowRbj"
   },
   "source": [
    "# Gym Environment ('MountainCar-v0')"
   ]
  },
  {
   "cell_type": "code",
   "execution_count": 68,
   "metadata": {
    "id": "Ar0yNaNrCnjn"
   },
   "outputs": [
    {
     "name": "stdout",
     "output_type": "stream",
     "text": [
      "state_space_dim: 2, action_space_dim: 3\n"
     ]
    }
   ],
   "source": [
    "### Create environment\n",
    "chosen_env = 'MountainCar-v0'\n",
    "env = gym.make(chosen_env) # Initialize the Gym environment\n",
    "env.seed(0) # Set a random seed for the environment (reproducible results)\n",
    "\n",
    "# Get the shapes of the state space (observation_space) and action space (action_space)\n",
    "state_space_dim = env.observation_space.shape[0]\n",
    "action_space_dim = env.action_space.n\n",
    "print(f\"state_space_dim: {state_space_dim}, action_space_dim: {action_space_dim}\")\n",
    "\n",
    "if colab:\n",
    "  env = wrap_env(env, video_callable=lambda episode_id: True)"
   ]
  },
  {
   "cell_type": "markdown",
   "metadata": {
    "id": "9KXpjzf2vdeL"
   },
   "source": [
    "# Network update"
   ]
  },
  {
   "cell_type": "code",
   "execution_count": 69,
   "metadata": {
    "id": "lVpk-g0i9d-B"
   },
   "outputs": [],
   "source": [
    "# Set random seeds\n",
    "torch.manual_seed(0)\n",
    "np.random.seed(0)\n",
    "random.seed(0)\n",
    "\n",
    "### PARAMETERS\n",
    "gamma = 0.97  #0.97 gamma parameter for the long term reward \n",
    "replay_memory_capacity = 10000   #10000 Replay memory capacity \n",
    "lr = 2e-2   #1e-2 Optimizer learning rate \n",
    "target_net_update_steps = 10   #10 Number of episodes to wait before updating the target network \n",
    "batch_size = 128   #128 Number of samples to take from the replay memory for each update \n",
    "bad_state_penalty = 0   #0 Penalty to the reward when we are in a bad state (in this case when the pole falls down)\n",
    "min_samples_for_training = 800   #1000 Minimum samples in the replay memory to enable the training \n",
    "use_epsilon_greedy = True   #False Use epsilon greedy exploration or not \n",
    "#set up exploration profile for softmax\n",
    "initial_value = 0.5 #5 Initial temperature/epsilon value for the exploration profile \n",
    "num_iterations = 150 # Number of episodes 1000, \n",
    "convergence_speed = 1 #6 Speed of convergence of the exploration profile  \n",
    "exploration_profile = get_exploration_profile(initial_value, num_iterations, speed = convergence_speed)"
   ]
  },
  {
   "cell_type": "markdown",
   "metadata": {},
   "source": [
    "lowering target_net_update_steps from 10 to 8 had a huge impact, learning rate could be set higher too and gamma could be lowered."
   ]
  },
  {
   "cell_type": "code",
   "execution_count": 70,
   "metadata": {
    "id": "2k3ZQuh8xHo7"
   },
   "outputs": [],
   "source": [
    "### Initialize the replay memory\n",
    "replay_mem = ReplayMemory(replay_memory_capacity)    \n",
    "\n",
    "### Initialize the policy network\n",
    "policy_net = DQN(state_space_dim, action_space_dim).to(device)\n",
    "\n",
    "### Initialize the target network with the same weights of the policy network\n",
    "target_net = DQN(state_space_dim, action_space_dim).to(device)\n",
    "target_net.load_state_dict(policy_net.state_dict()) # This will copy the weights of the policy network to the target network\n",
    "\n",
    "### Initialize the optimizer\n",
    "optimizer = torch.optim.SGD(policy_net.parameters(), lr=lr) # The optimizer will update ONLY the parameters of the policy network\n",
    "\n",
    "### Initialize the loss function (Huber loss)\n",
    "loss_fn = nn.SmoothL1Loss()"
   ]
  },
  {
   "cell_type": "code",
   "execution_count": 71,
   "metadata": {
    "id": "Sj1hEvPOvkBX"
   },
   "outputs": [],
   "source": [
    "def update_step(policy_net, target_net, replay_mem, gamma, optimizer, loss_fn, batch_size):\n",
    "        \n",
    "  # Sample the data from the replay memory\n",
    "  states, actions, rewards, non_final_next_states, non_final_mask = replay_mem.sample(batch_size)\n",
    "\n",
    "  #print(f\"states: {states.shape}, actions: {actions.shape}, rewards: {rewards.shape}, non_final_next_states: {non_final_next_states.shape}, non_final_mask: {non_final_mask.shape}\")\n",
    "\n",
    "  # Compute all the Q values (forward pass)\n",
    "  policy_net.train()\n",
    "  q_values = policy_net(states).squeeze(1)\n",
    "\n",
    "  # Select the proper Q value for the corresponding action taken Q(s_t, a)\n",
    "  #print(f\"q_values: {q_values.shape}, actions: {actions}\")\n",
    "  state_action_values = q_values.gather(1, actions.unsqueeze(1))\n",
    "\n",
    "  # Compute the value function of the next states using the target network V(s_{t+1}) = max_a( Q_target(s_{t+1}, a)) )\n",
    "  with torch.no_grad():\n",
    "    target_net.eval()\n",
    "    q_values_target = target_net(non_final_next_states).squeeze(1)\n",
    "  next_state_max_q_values = torch.zeros(batch_size, device=device)\n",
    "  #print(f\"q_values_target: {q_values_target.shape}, non_final_mask: {non_final_mask.shape}, next_state_max_q_values: {next_state_max_q_values.shape}\")\n",
    "  next_state_max_q_values[non_final_mask] = q_values_target.max(dim=1)[0]\n",
    "\n",
    "  # Compute the expected Q values\n",
    "  expected_state_action_values = rewards + (next_state_max_q_values * gamma)\n",
    "  expected_state_action_values = expected_state_action_values.unsqueeze(1) # Set the required tensor shape\n",
    "\n",
    "  # Compute the Huber loss\n",
    "  loss = loss_fn(state_action_values, expected_state_action_values)\n",
    "\n",
    "  # Optimize the model\n",
    "  optimizer.zero_grad()\n",
    "  loss.backward()\n",
    "  # Apply gradient clipping (clip all the gradients greater than 2 for training stability)\n",
    "  nn.utils.clip_grad_norm_(policy_net.parameters(), 2)\n",
    "  optimizer.step()\n",
    "  return loss.item()"
   ]
  },
  {
   "cell_type": "code",
   "execution_count": 72,
   "metadata": {
    "id": "WF6Zf53FoRDZ"
   },
   "outputs": [
    {
     "data": {
      "application/vnd.jupyter.widget-view+json": {
       "model_id": "286498a59eeb47db9284a20f59ce3985",
       "version_major": 2,
       "version_minor": 0
      },
      "text/plain": [
       "  0%|          | 0/150 [00:00<?, ?it/s]"
      ]
     },
     "metadata": {},
     "output_type": "display_data"
    },
    {
     "name": "stdout",
     "output_type": "stream",
     "text": [
      "EPISODE: 1 - FINAL SCORE: 0.836942833662033 - Temperature/epsilon: 0.5\n",
      "EPISODE: 2 - FINAL SCORE: 0.8675926744937896 - Temperature/epsilon: 0.49769483955161453\n",
      "EPISODE: 3 - FINAL SCORE: 0.6104109406471252 - Temperature/epsilon: 0.49540030663261464\n",
      "EPISODE: 4 - FINAL SCORE: 0.6854962825775146 - Temperature/epsilon: 0.4931163522466796\n",
      "EPISODE: 5 - FINAL SCORE: 0.627172839641571 - Temperature/epsilon: 0.4908429276233773\n",
      "EPISODE: 6 - FINAL SCORE: 0.6453136920928955 - Temperature/epsilon: 0.488579984217123\n",
      "EPISODE: 7 - FINAL SCORE: 0.7130383968353271 - Temperature/epsilon: 0.48632747370614277\n",
      "EPISODE: 8 - FINAL SCORE: 0.8219185888767242 - Temperature/epsilon: 0.48408534799144154\n",
      "EPISODE: 9 - FINAL SCORE: 0.8262812912464141 - Temperature/epsilon: 0.48185355919577594\n",
      "EPISODE: 10 - FINAL SCORE: 0.677547287940979 - Temperature/epsilon: 0.4796320596626322\n",
      "EPISODE: 11 - FINAL SCORE: 0.8233434677124023 - Temperature/epsilon: 0.4774208019552083\n",
      "EPISODE: 12 - FINAL SCORE: 0.5817663788795471 - Temperature/epsilon: 0.4752197388554011\n",
      "EPISODE: 13 - FINAL SCORE: 0.7920231640338897 - Temperature/epsilon: 0.473028823362798\n",
      "EPISODE: 14 - FINAL SCORE: 0.6522797465324401 - Temperature/epsilon: 0.4708480086936735\n",
      "EPISODE: 15 - FINAL SCORE: 0.7372181832790374 - Temperature/epsilon: 0.4686772482799901\n",
      "EPISODE: 16 - FINAL SCORE: 0.7512052178382873 - Temperature/epsilon: 0.46651649576840376\n",
      "EPISODE: 17 - FINAL SCORE: 0.8230426430702209 - Temperature/epsilon: 0.4643657050192743\n",
      "EPISODE: 18 - FINAL SCORE: 0.711321485042572 - Temperature/epsilon: 0.46222483010568016\n",
      "EPISODE: 19 - FINAL SCORE: 1.066281434893608 - Temperature/epsilon: 0.4600938253124376\n",
      "EPISODE: 20 - FINAL SCORE: 0.6476088285446167 - Temperature/epsilon: 0.45797264513512437\n",
      "EPISODE: 21 - FINAL SCORE: 0.6296697378158569 - Temperature/epsilon: 0.45586124427910846\n",
      "EPISODE: 22 - FINAL SCORE: 0.8762790977954864 - Temperature/epsilon: 0.45375957765858044\n",
      "EPISODE: 23 - FINAL SCORE: 0.9168401777744293 - Temperature/epsilon: 0.4516676003955912\n",
      "EPISODE: 24 - FINAL SCORE: 0.8220232844352722 - Temperature/epsilon: 0.44958526781909297\n",
      "EPISODE: 25 - FINAL SCORE: 0.7868635177612304 - Temperature/epsilon: 0.4475125354639863\n",
      "EPISODE: 26 - FINAL SCORE: 0.7367149412631988 - Temperature/epsilon: 0.4454493590701697\n",
      "EPISODE: 27 - FINAL SCORE: 0.781835389137268 - Temperature/epsilon: 0.4433956945815953\n",
      "EPISODE: 28 - FINAL SCORE: 0.6171968102455139 - Temperature/epsilon: 0.4413514981453275\n",
      "EPISODE: 29 - FINAL SCORE: 0.6135502576828002 - Temperature/epsilon: 0.4393167261106069\n",
      "EPISODE: 30 - FINAL SCORE: 0.648419451713562 - Temperature/epsilon: 0.43729133502791817\n",
      "EPISODE: 31 - FINAL SCORE: 0.7928260684013366 - Temperature/epsilon: 0.4352752816480621\n",
      "EPISODE: 32 - FINAL SCORE: 0.6545520544052124 - Temperature/epsilon: 0.4332685229212322\n",
      "EPISODE: 33 - FINAL SCORE: 0.7425708591938018 - Temperature/epsilon: 0.43127101599609535\n",
      "EPISODE: 34 - FINAL SCORE: 0.7185877978801727 - Temperature/epsilon: 0.4292827182188769\n",
      "EPISODE: 35 - FINAL SCORE: 0.7670255124568939 - Temperature/epsilon: 0.4273035871324498\n",
      "EPISODE: 36 - FINAL SCORE: 0.8045288145542144 - Temperature/epsilon: 0.4253335804754279\n",
      "EPISODE: 37 - FINAL SCORE: 0.7457101464271545 - Temperature/epsilon: 0.42337265618126363\n",
      "EPISODE: 38 - FINAL SCORE: 0.6676073193550109 - Temperature/epsilon: 0.42142077237734976\n",
      "EPISODE: 39 - FINAL SCORE: 0.997452375292778 - Temperature/epsilon: 0.4194778873841251\n",
      "EPISODE: 40 - FINAL SCORE: 0.864442092180252 - Temperature/epsilon: 0.41754395971418473\n",
      "EPISODE: 41 - FINAL SCORE: 0.699965488910675 - Temperature/epsilon: 0.41561894807139393\n",
      "EPISODE: 42 - FINAL SCORE: 0.7393822491168975 - Temperature/epsilon: 0.41370281135000647\n",
      "EPISODE: 43 - FINAL SCORE: 0.7672204196453094 - Temperature/epsilon: 0.4117955086337866\n",
      "EPISODE: 44 - FINAL SCORE: 0.5652490377426147 - Temperature/epsilon: 0.4098969991951359\n",
      "EPISODE: 45 - FINAL SCORE: 0.7078361928462982 - Temperature/epsilon: 0.4080072424942228\n",
      "EPISODE: 46 - FINAL SCORE: 0.6948222637176513 - Temperature/epsilon: 0.40612619817811785\n",
      "EPISODE: 47 - FINAL SCORE: 0.7141466259956359 - Temperature/epsilon: 0.4042538260799311\n",
      "EPISODE: 48 - FINAL SCORE: 0.7140281915664672 - Temperature/epsilon: 0.4023900862179552\n",
      "EPISODE: 49 - FINAL SCORE: 0.6311814308166503 - Temperature/epsilon: 0.4005349387948111\n",
      "EPISODE: 50 - FINAL SCORE: 0.6589512348175048 - Temperature/epsilon: 0.39868834419659854\n",
      "EPISODE: 51 - FINAL SCORE: 0.8479935944080352 - Temperature/epsilon: 0.39685026299204995\n",
      "EPISODE: 52 - FINAL SCORE: 0.7526520013809204 - Temperature/epsilon: 0.39502065593168867\n",
      "EPISODE: 53 - FINAL SCORE: 0.7460844933986663 - Temperature/epsilon: 0.3931994839469906\n",
      "EPISODE: 54 - FINAL SCORE: 0.7507576763629913 - Temperature/epsilon: 0.3913867081495503\n",
      "EPISODE: 55 - FINAL SCORE: 0.6384398460388183 - Temperature/epsilon: 0.38958228983025\n",
      "EPISODE: 56 - FINAL SCORE: 0.7990571677684783 - Temperature/epsilon: 0.3877861904584337\n",
      "EPISODE: 57 - FINAL SCORE: 0.560983669757843 - Temperature/epsilon: 0.38599837168108403\n",
      "EPISODE: 58 - FINAL SCORE: 0.8395041942596435 - Temperature/epsilon: 0.38421879532200315\n",
      "EPISODE: 59 - FINAL SCORE: 0.7693157613277435 - Temperature/epsilon: 0.38244742338099796\n",
      "EPISODE: 60 - FINAL SCORE: 0.6276440143585205 - Temperature/epsilon: 0.38068421803306834\n",
      "EPISODE: 61 - FINAL SCORE: 0.6096502661705017 - Temperature/epsilon: 0.3789291416275996\n",
      "EPISODE: 62 - FINAL SCORE: 0.8233241558074951 - Temperature/epsilon: 0.3771821566875584\n",
      "EPISODE: 63 - FINAL SCORE: 0.8024567484855651 - Temperature/epsilon: 0.3754432259086926\n",
      "EPISODE: 64 - FINAL SCORE: 0.6482778310775756 - Temperature/epsilon: 0.3737123121587347\n",
      "EPISODE: 65 - FINAL SCORE: 0.8977928876876831 - Temperature/epsilon: 0.3719893784766087\n",
      "EPISODE: 66 - FINAL SCORE: 1.0105528503656387 - Temperature/epsilon: 0.37027438807164115\n",
      "EPISODE: 67 - FINAL SCORE: 0.6161571264266967 - Temperature/epsilon: 0.3685673043227754\n",
      "EPISODE: 68 - FINAL SCORE: 0.9606999427080154 - Temperature/epsilon: 0.3668680907777896\n",
      "EPISODE: 69 - FINAL SCORE: 0.7815381407737731 - Temperature/epsilon: 0.36517671115251826\n",
      "EPISODE: 70 - FINAL SCORE: 0.5773622512817382 - Temperature/epsilon: 0.3634931293300777\n",
      "EPISODE: 71 - FINAL SCORE: 0.9304843366146087 - Temperature/epsilon: 0.3618173093600946\n",
      "EPISODE: 72 - FINAL SCORE: 0.737046194076538 - Temperature/epsilon: 0.3601492154579383\n",
      "EPISODE: 73 - FINAL SCORE: 0.8747960746288299 - Temperature/epsilon: 0.35848881200395694\n",
      "EPISODE: 74 - FINAL SCORE: 0.7206589102745056 - Temperature/epsilon: 0.3568360635427165\n",
      "EPISODE: 75 - FINAL SCORE: 0.8367955207824707 - Temperature/epsilon: 0.35519093478224406\n",
      "EPISODE: 76 - FINAL SCORE: 0.865041834115982 - Temperature/epsilon: 0.35355339059327384\n",
      "EPISODE: 77 - FINAL SCORE: 0.7875636637210846 - Temperature/epsilon: 0.3519233960084975\n",
      "EPISODE: 78 - FINAL SCORE: 0.6652476906776428 - Temperature/epsilon: 0.3503009162218169\n",
      "EPISODE: 79 - FINAL SCORE: 0.6682549834251403 - Temperature/epsilon: 0.34868591658760145\n",
      "EPISODE: 80 - FINAL SCORE: 0.7084433257579803 - Temperature/epsilon: 0.3470783626199479\n",
      "EPISODE: 81 - FINAL SCORE: 0.9464794516563415 - Temperature/epsilon: 0.3454782199919441\n",
      "EPISODE: 82 - FINAL SCORE: 0.8648299396038055 - Temperature/epsilon: 0.343885454534936\n",
      "EPISODE: 83 - FINAL SCORE: 0.7415318310260772 - Temperature/epsilon: 0.34230003223779804\n",
      "EPISODE: 84 - FINAL SCORE: 0.7667020976543426 - Temperature/epsilon: 0.34072191924620676\n",
      "EPISODE: 85 - FINAL SCORE: 0.6618154764175415 - Temperature/epsilon: 0.33915108186191806\n",
      "EPISODE: 86 - FINAL SCORE: 0.6213936328887939 - Temperature/epsilon: 0.3375874865420476\n",
      "EPISODE: 87 - FINAL SCORE: 0.7899383127689361 - Temperature/epsilon: 0.33603109989835445\n",
      "EPISODE: 88 - FINAL SCORE: 0.7526209771633148 - Temperature/epsilon: 0.3344818886965281\n",
      "EPISODE: 89 - FINAL SCORE: 0.7052184164524078 - Temperature/epsilon: 0.3329398198554791\n",
      "EPISODE: 90 - FINAL SCORE: 0.9399207055568695 - Temperature/epsilon: 0.33140486044663225\n",
      "EPISODE: 91 - FINAL SCORE: 0.720544022321701 - Temperature/epsilon: 0.32987697769322366\n",
      "EPISODE: 92 - FINAL SCORE: 0.8187955141067504 - Temperature/epsilon: 0.328356138969601\n",
      "EPISODE: 93 - FINAL SCORE: 0.9014518678188324 - Temperature/epsilon: 0.3268423118005264\n",
      "EPISODE: 94 - FINAL SCORE: 0.7186673700809478 - Temperature/epsilon: 0.3253354638604835\n",
      "EPISODE: 95 - FINAL SCORE: 0.5262184858322143 - Temperature/epsilon: 0.3238355629729869\n",
      "EPISODE: 96 - FINAL SCORE: 0.6584414362907409 - Temperature/epsilon: 0.3223425771098949\n",
      "EPISODE: 97 - FINAL SCORE: 0.5669568300247192 - Temperature/epsilon: 0.3208564743907262\n",
      "EPISODE: 98 - FINAL SCORE: 0.6777104258537292 - Temperature/epsilon: 0.31937722308197836\n",
      "EPISODE: 99 - FINAL SCORE: 0.7234346985816955 - Temperature/epsilon: 0.31790479159645085\n",
      "EPISODE: 100 - FINAL SCORE: 0.7955606698989868 - Temperature/epsilon: 0.3164391484925701\n",
      "EPISODE: 101 - FINAL SCORE: 0.9211489379405975 - Temperature/epsilon: 0.3149802624737184\n",
      "EPISODE: 102 - FINAL SCORE: 0.8526960730552673 - Temperature/epsilon: 0.31352810238756545\n",
      "EPISODE: 103 - FINAL SCORE: 0.7012158751487731 - Temperature/epsilon: 0.3120826372254031\n",
      "EPISODE: 104 - FINAL SCORE: 0.7780793726444244 - Temperature/epsilon: 0.31064383612148344\n",
      "EPISODE: 105 - FINAL SCORE: 1.032946389913559 - Temperature/epsilon: 0.30921166835235947\n",
      "EPISODE: 106 - FINAL SCORE: 0.9595215737819671 - Temperature/epsilon: 0.3077861033362292\n",
      "EPISODE: 107 - FINAL SCORE: 0.6595006704330444 - Temperature/epsilon: 0.3063671106322825\n",
      "EPISODE: 108 - FINAL SCORE: 1.0578720837831497 - Temperature/epsilon: 0.3049546599400511\n",
      "EPISODE: 109 - FINAL SCORE: 0.7627748966217041 - Temperature/epsilon: 0.30354872109876185\n",
      "EPISODE: 110 - FINAL SCORE: 0.7066361129283905 - Temperature/epsilon: 0.3021492640866921\n",
      "EPISODE: 111 - FINAL SCORE: 0.990532648563385 - Temperature/epsilon: 0.30075625902052927\n",
      "EPISODE: 112 - FINAL SCORE: 0.9111450135707855 - Temperature/epsilon: 0.2993696761547323\n",
      "EPISODE: 113 - FINAL SCORE: 0.9362966239452362 - Temperature/epsilon: 0.2979894858808966\n",
      "EPISODE: 114 - FINAL SCORE: 0.7287677943706512 - Temperature/epsilon: 0.29661565872712187\n",
      "EPISODE: 115 - FINAL SCORE: 0.6515051245689392 - Temperature/epsilon: 0.29524816535738274\n",
      "EPISODE: 116 - FINAL SCORE: 0.7202597081661224 - Temperature/epsilon: 0.2938869765709023\n",
      "EPISODE: 117 - FINAL SCORE: 0.8761911809444427 - Temperature/epsilon: 0.29253206330152864\n",
      "EPISODE: 118 - FINAL SCORE: 0.8259204149246215 - Temperature/epsilon: 0.29118339661711407\n",
      "EPISODE: 119 - FINAL SCORE: 0.8343263089656829 - Temperature/epsilon: 0.28984094771889746\n",
      "EPISODE: 120 - FINAL SCORE: 0.8935264766216278 - Temperature/epsilon: 0.2885046879408891\n",
      "EPISODE: 121 - FINAL SCORE: 0.8309798657894134 - Temperature/epsilon: 0.2871745887492589\n",
      "EPISODE: 122 - FINAL SCORE: 0.5895668983459472 - Temperature/epsilon: 0.2858506217417266\n",
      "EPISODE: 123 - FINAL SCORE: 0.6344584345817565 - Temperature/epsilon: 0.2845327586469557\n",
      "EPISODE: 124 - FINAL SCORE: 0.7614385604858398 - Temperature/epsilon: 0.2832209713239498\n",
      "EPISODE: 125 - FINAL SCORE: 0.596441102027893 - Temperature/epsilon: 0.2819152317614512\n",
      "EPISODE: 126 - FINAL SCORE: 0.7545788407325744 - Temperature/epsilon: 0.28061551207734337\n",
      "EPISODE: 127 - FINAL SCORE: 0.8138769388198852 - Temperature/epsilon: 0.2793217845180551\n",
      "EPISODE: 128 - FINAL SCORE: 0.7116648972034454 - Temperature/epsilon: 0.2780340214579682\n",
      "EPISODE: 129 - FINAL SCORE: 0.8324110329151153 - Temperature/epsilon: 0.2767521953988273\n",
      "EPISODE: 130 - FINAL SCORE: 0.8216803193092346 - Temperature/epsilon: 0.27547627896915283\n",
      "EPISODE: 131 - FINAL SCORE: 0.8666798293590545 - Temperature/epsilon: 0.27420624492365664\n",
      "EPISODE: 132 - FINAL SCORE: 0.6044655561447143 - Temperature/epsilon: 0.27294206614266\n",
      "EPISODE: 133 - FINAL SCORE: 0.8759946644306182 - Temperature/epsilon: 0.27168371563151467\n",
      "EPISODE: 134 - FINAL SCORE: 0.9024422585964202 - Temperature/epsilon: 0.2704311665200263\n",
      "EPISODE: 135 - FINAL SCORE: 0.8372570097446441 - Temperature/epsilon: 0.2691843920618809\n",
      "EPISODE: 136 - FINAL SCORE: 0.8132276356220245 - Temperature/epsilon: 0.26794336563407345\n",
      "EPISODE: 137 - FINAL SCORE: 0.7240904688835144 - Temperature/epsilon: 0.2667080607363395\n",
      "EPISODE: 138 - FINAL SCORE: 0.7054863393306732 - Temperature/epsilon: 0.26547845099058953\n",
      "EPISODE: 139 - FINAL SCORE: 0.8354743540287017 - Temperature/epsilon: 0.26425451014034523\n",
      "EPISODE: 140 - FINAL SCORE: 0.6483559727668762 - Temperature/epsilon: 0.26303621205017924\n",
      "EPISODE: 141 - FINAL SCORE: 0.8719786822795867 - Temperature/epsilon: 0.2618235307051568\n",
      "EPISODE: 142 - FINAL SCORE: 0.7712749063968658 - Temperature/epsilon: 0.26061644021028046\n",
      "EPISODE: 143 - FINAL SCORE: 0.7595104992389679 - Temperature/epsilon: 0.259414914789937\n",
      "EPISODE: 144 - FINAL SCORE: 0.8776101291179657 - Temperature/epsilon: 0.25821892878734687\n",
      "EPISODE: 145 - FINAL SCORE: 0.7092820227146148 - Temperature/epsilon: 0.25702845666401675\n",
      "EPISODE: 146 - FINAL SCORE: 1.1294457882642746 - Temperature/epsilon: 0.25584347299919385\n",
      "EPISODE: 147 - FINAL SCORE: 0.7086531043052673 - Temperature/epsilon: 0.2546639524893232\n",
      "EPISODE: 148 - FINAL SCORE: 0.8250523030757904 - Temperature/epsilon: 0.25348986994750744\n",
      "EPISODE: 149 - FINAL SCORE: 0.7257893502712249 - Temperature/epsilon: 0.2523212003029687\n",
      "EPISODE: 150 - FINAL SCORE: 0.7575798153877258 - Temperature/epsilon: 0.25115791860051356\n"
     ]
    }
   ],
   "source": [
    "# Initialize the Gym environment\n",
    "env = gym.make(chosen_env) \n",
    "env.seed(0) # Set a random seed for the environment (reproducible results)\n",
    "\n",
    "# This is for creating the output video in Colab, not required outside Colab\n",
    "if colab:\n",
    "    env = wrap_env(env, video_callable=lambda episode_id: episode_id % 100 == 0) # Save a video every 100 episodes\n",
    "\n",
    "#list of losses and scores\n",
    "losses, scores = [],[]\n",
    "for episode_num, tau in enumerate(tqdm(exploration_profile)):\n",
    "    if use_epsilon_greedy:\n",
    "        epsilon = tau\n",
    "\n",
    "    # Reset the environment and get the initial state\n",
    "    state = env.reset()\n",
    "    # Reset the score, score will be the maximum position reached\n",
    "    position = -0.5\n",
    "    max_speed = 0\n",
    "    done = False\n",
    "    score = -1\n",
    "    episode_loss = []\n",
    "    while not done:\n",
    "        # Choose the action following the policy\n",
    "        action, q_values = choose_action_epsilon_greedy(policy_net, state, epsilon) if use_epsilon_greedy else choose_action_softmax(policy_net, state, temperature=tau)\n",
    "        \n",
    "        # Apply the action and get the next state, the reward and a flag \"done\" that is True if the game is ended\n",
    "        next_state, reward, done, info = env.step(action)\n",
    "\n",
    "        ## SCORE UPDATE AND REWARD UPDATE\n",
    "        curr_position = -1\n",
    "        \n",
    "        if done: # more than 200 steps or car arrived at the end (>= 0.5)\n",
    "            next_state = None\n",
    "            curr_position = -1\n",
    "            curr_speed = -1\n",
    "            score = max(score, state[0]+1.2)\n",
    "        else:\n",
    "            curr_position = next_state[0]\n",
    "            curr_speed = next_state[1]\n",
    "\n",
    "        # big reward if it achieves the goal\n",
    "        if reward == 0:\n",
    "            reward += 30\n",
    "        else:\n",
    "            reward = -0.1\n",
    "\n",
    "        #reward if it beats it's previous score\n",
    "        if curr_position > position:\n",
    "            reward += 1 + 2*(curr_position - position)\n",
    "            position = curr_position\n",
    "\n",
    "        #reward if it achieves a higher speed\n",
    "        if curr_speed > max_speed:\n",
    "            reward += 1 + 1*(curr_speed - max_speed)\n",
    "            max_speed = curr_speed\n",
    "\n",
    "        # Update the replay memory\n",
    "        replay_mem.push(state, action, next_state, reward)\n",
    "\n",
    "        # Update the network\n",
    "        if len(replay_mem) > min_samples_for_training: # we enable the training only if we have enough samples in the replay memory, otherwise the training will use the same samples too often\n",
    "            loss = update_step(policy_net, target_net, replay_mem, gamma, optimizer, loss_fn, batch_size)\n",
    "            episode_loss.append(loss)\n",
    "            \n",
    "        # Visually render the environment (disable to speed up the training)\n",
    "        if not colab and show_render:\n",
    "            env.render()\n",
    "\n",
    "        # Set the current state for the next iteration\n",
    "        state = next_state\n",
    "    #end of while loop\n",
    "\n",
    "    #get episode loss\n",
    "    average_episode_loss = np.mean(episode_loss)\n",
    "    losses.append(average_episode_loss)\n",
    "    #get episode score\n",
    "    scores.append(score)\n",
    "\n",
    "    # Update the target network every target_net_update_steps episodes\n",
    "    if episode_num % target_net_update_steps == 0:\n",
    "        #print('Updating target network...')\n",
    "        target_net.load_state_dict(policy_net.state_dict()) # This will copy the weights of the policy network to the target network\n",
    "\n",
    "    # Print the final score\n",
    "    print(f\"EPISODE: {episode_num + 1} - FINAL SCORE: {score} - Temperature/epsilon: {tau}\") # Print the final score\n",
    "\n",
    "env.close()"
   ]
  },
  {
   "cell_type": "markdown",
   "metadata": {},
   "source": [
    "Reward function is key, in this case the idea is that the agent get rewards only when it beats himself "
   ]
  },
  {
   "cell_type": "code",
   "execution_count": 73,
   "metadata": {
    "id": "7FQjjVTiP2T6"
   },
   "outputs": [],
   "source": [
    "# Display the videos, not required outside Colab\n",
    "if colab and show_video:\n",
    "    show_videos()"
   ]
  },
  {
   "cell_type": "code",
   "execution_count": 74,
   "metadata": {},
   "outputs": [
    {
     "data": {
      "image/png": "[encoded data removed]",
      "text/plain": [
       "<Figure size 864x360 with 2 Axes>"
      ]
     },
     "metadata": {
      "needs_background": "light"
     },
     "output_type": "display_data"
    }
   ],
   "source": [
    "#plot scores and losses\n",
    "plt.figure(figsize=(12,5))\n",
    "plt.subplot(1,2,1)\n",
    "plt.plot(scores)\n",
    "plt.title('Scores')\n",
    "plt.subplot(1,2,2)\n",
    "plt.plot(losses)\n",
    "plt.title('Losses')\n",
    "plt.show()"
   ]
  },
  {
   "cell_type": "markdown",
   "metadata": {},
   "source": [
    "Adding an exploration profile makes the loss go down, however the score goes down with the loss too"
   ]
  },
  {
   "cell_type": "markdown",
   "metadata": {
    "id": "JkG9iDZTIhzc"
   },
   "source": [
    "# Final test"
   ]
  },
  {
   "cell_type": "code",
   "execution_count": 75,
   "metadata": {
    "id": "vJKgnu3_IjWE"
   },
   "outputs": [
    {
     "name": "stdout",
     "output_type": "stream",
     "text": [
      "AVERAGE SCORE: 1.6788218408823012\n"
     ]
    }
   ],
   "source": [
    "# Initialize the Gym environment\n",
    "env = gym.make(chosen_env) \n",
    "env.seed(1) # Set a random seed for the environment (reproducible results)\n",
    "\n",
    "# This is for creating the output video in Colab, not required outside Colab\n",
    "if colab:\n",
    "  env = wrap_env(env, video_callable=lambda episode_id: True) # Save a video every episode\n",
    "\n",
    "show_render = True\n",
    "\n",
    "# Let's try for a total of 10 episodes\n",
    "scores = []\n",
    "for num_episode in range(10): \n",
    "    # Reset the environment and get the initial state\n",
    "    state = env.reset()\n",
    "    # Reset the score. The final score will be the total amount of steps before the pole falls\n",
    "    score = -0.5\n",
    "    done = False\n",
    "    # Go on until the pole falls off or the score reach 490\n",
    "    while not done:\n",
    "      # Choose the best action (temperature 0)\n",
    "      action, q_values = choose_action_epsilon_greedy(policy_net, state, epsilon=0) if use_epsilon_greedy else choose_action_softmax(policy_net, state, temperature=0) \n",
    "      # Apply the action and get the next state, the reward and a flag \"done\" that is True if the game is ended\n",
    "      next_state, reward, done, info = env.step(action)\n",
    "      # Visually render the environment\n",
    "      if not colab and show_render:\n",
    "        env.render()\n",
    "      # Update the final score (+1 for each step)\n",
    "      score = max(score, next_state[0]+1.2)\n",
    "      # Set the current state for the next iteration\n",
    "      state = next_state\n",
    "    # Print the final score\n",
    "    #print(f\"EPISODE {num_episode + 1} - FINAL SCORE: {score}\") \n",
    "    scores.append(score)  \n",
    "env.close()\n",
    "\n",
    "#print the average score\n",
    "print(f\"AVERAGE SCORE: {np.mean(scores)}\")"
   ]
  },
  {
   "cell_type": "code",
   "execution_count": 76,
   "metadata": {},
   "outputs": [],
   "source": [
    "#let an agent play for a few episodes   \n",
    "#doesn't work in colab, but works in local\n",
    "if not colab:\n",
    "  env = gym.make(chosen_env)\n",
    "  #env.seed(42)\n",
    "\n",
    "  show_render = True\n",
    "\n",
    "  scores = []\n",
    "  # Reset the environment and get the initial state\n",
    "  state = env.reset()\n",
    "  # Reset the score. The final score will be the total amount of steps before the pole falls\n",
    "  # Go on\n",
    "  for i in range(1000):\n",
    "      # Choose the best action (temperature 0)\n",
    "      action, q_values = choose_action_epsilon_greedy(policy_net, state, epsilon=0) if use_epsilon_greedy else choose_action_softmax(policy_net, state, temperature=0) \n",
    "      # Apply the action and get the next state, the reward and a flag \"done\" that is True if the game is ended\n",
    "      next_state, reward, done, info = env.step(action)\n",
    "      # Visually render the environment\n",
    "      if not colab and show_render:\n",
    "          env.render()\n",
    "      # Set the current state for the next iteration\n",
    "      state = next_state\n",
    "  env.close()\n",
    "\n",
    "  show_render = False"
   ]
  },
  {
   "cell_type": "code",
   "execution_count": 77,
   "metadata": {
    "id": "mxdtGJutLqlw"
   },
   "outputs": [],
   "source": [
    "# Display the videos, not required outside Colab\n",
    "if colab: \n",
    "    show_videos()"
   ]
  }
 ],
 "metadata": {
  "interpreter": {
   "hash": "cee89b7c6bc96453738565335b56b694d8a30ac65e979633b683f8408c8233c6"
  },
  "kernelspec": {
   "display_name": "Python 3.7.12 64-bit ('dl_env': venv)",
   "language": "python",
   "name": "python3"
  },
  "language_info": {
   "codemirror_mode": {
    "name": "ipython",
    "version": 3
   },
   "file_extension": ".py",
   "mimetype": "text/x-python",
   "name": "python",
   "nbconvert_exporter": "python",
   "pygments_lexer": "ipython3",
   "version": "3.7.12"
  },
  "orig_nbformat": 4
 },
 "nbformat": 4,
 "nbformat_minor": 2
}
