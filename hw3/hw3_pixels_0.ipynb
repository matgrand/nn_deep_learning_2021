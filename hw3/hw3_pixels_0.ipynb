{
 "cells": [
  {
   "cell_type": "markdown",
   "metadata": {},
   "source": [
    "# HOMEWORK 3 NEURAL NETWORKS AND DEEP LEARNING\n",
    "\n",
    "---\n",
    "A.A. 2021/22 (6 CFU) - Dr. Alberto Testolin, Dr. Umberto Michieli\n",
    "---\n",
    "Student: Matteo Grandin\n",
    "---\n",
    "id: 2020374"
   ]
  },
  {
   "cell_type": "markdown",
   "metadata": {},
   "source": [
    "# Reinforced Learning"
   ]
  },
  {
   "cell_type": "markdown",
   "metadata": {},
   "source": [
    "### General overview\n",
    "In this homework you will learn how to implement and test neural network models for\n",
    "solving reinforcement learning problems. The basic tasks for the homework will require to implement some\n",
    "extensions to the code that you have seen in the Lab. The advanced tasks will require to train and test your\n",
    "learning agent on a different type of input (image pixels) or Gym environment. You can just choose one of\n",
    "the advanced tasks to get the maximum grade. If you are interested in improving your skills, feel free to try\n",
    "both advanced tasks. Given the higher computational complexity of RL, in this homework you don’t need to\n",
    "tune learning hyperparameters using search procedures and cross-validation; however, you are encouraged\n",
    "to play with model hyperparameters to find a satisfactory configuration.\n",
    "\n",
    "\n",
    "- 3 pt: use the notebook of Lab 07 to study how the exploration profile (either using eps-greedy or\n",
    "softmax) impacts the learning curve. Tune a bit the model hyperparameters or tweak the reward\n",
    "function to speed-up learning convergence (i.e., reach the same accuracy with fewer training episodes).\n",
    "\n",
    "YOU CAN DO JUST 1 OR BOTH\n",
    "- 5 pt: extend the notebook used in Lab 07, in order to learn to control the CartPole environment using\n",
    "directly the screen pixels, rather than the compact state representation used during the Lab (cart\n",
    "position, cart velocity, pole angle, pole angular velocity). NB: this will require to change the\n",
    "“observation_space” and to look for smart ways of encoding the pixels in a compact way to reduce\n",
    "computational complexity (e.g., crop the image around the pole, use difference of consecutive frames\n",
    "as input to consider temporal context, etc.).\n",
    "\n",
    "OR\n",
    "\n",
    "- 5 pt: train a deep RL agent on a different Gym environment. You are free to choose whatever Gym\n",
    "environment you like from the available list, or even explore other simulation platforms."
   ]
  },
  {
   "cell_type": "code",
   "execution_count": 1,
   "metadata": {},
   "outputs": [],
   "source": [
    "# Boolean value to check if we are in colab or not\n",
    "colab = False \n",
    "show_video = False\n",
    "show_render = False"
   ]
  },
  {
   "cell_type": "code",
   "execution_count": 2,
   "metadata": {
    "id": "jBelL8nBZVsn"
   },
   "outputs": [
    {
     "name": "stdout",
     "output_type": "stream",
     "text": [
      "Requirement already satisfied: gym in /home/irong/nn_deep_learning_2021/dl_env/lib/python3.7/site-packages (0.21.0)\n",
      "Requirement already satisfied: importlib-metadata>=4.8.1 in /home/irong/nn_deep_learning_2021/dl_env/lib/python3.7/site-packages (from gym) (4.8.2)\n",
      "Requirement already satisfied: cloudpickle>=1.2.0 in /home/irong/nn_deep_learning_2021/dl_env/lib/python3.7/site-packages (from gym) (2.0.0)\n",
      "Requirement already satisfied: numpy>=1.18.0 in /home/irong/nn_deep_learning_2021/dl_env/lib/python3.7/site-packages (from gym) (1.19.5)\n",
      "Requirement already satisfied: typing-extensions>=3.6.4 in /home/irong/nn_deep_learning_2021/dl_env/lib/python3.7/site-packages (from importlib-metadata>=4.8.1->gym) (4.0.1)\n",
      "Requirement already satisfied: zipp>=0.5 in /home/irong/nn_deep_learning_2021/dl_env/lib/python3.7/site-packages (from importlib-metadata>=4.8.1->gym) (3.6.0)\n",
      "Note: you may need to restart the kernel to use updated packages.\n"
     ]
    }
   ],
   "source": [
    "if colab:\n",
    "    !pip install gym\n",
    "else:\n",
    "    %pip install gym"
   ]
  },
  {
   "cell_type": "code",
   "execution_count": 3,
   "metadata": {
    "id": "a7EkHQ0VsNnJ"
   },
   "outputs": [],
   "source": [
    "import random\n",
    "import torch\n",
    "import numpy as np\n",
    "import gym\n",
    "import matplotlib.pyplot as plt\n",
    "from tqdm.notebook import tqdm\n",
    "import torch.nn.functional as F\n",
    "import os\n",
    "from torch import nn\n",
    "from collections import deque # this python module implements exactly what we need for the replay memeory\n",
    "\n",
    "#import opencv\n",
    "import cv2\n",
    "\n",
    "#use gpu if available\n",
    "device = torch.device(\"cuda:0\" if torch.cuda.is_available() else \"cpu\")\n",
    "#device = torch.device(\"cpu\")\n",
    "\n",
    "#create a folder called training\n",
    "if not os.path.exists('training'):\n",
    "    os.makedirs('training')"
   ]
  },
  {
   "cell_type": "code",
   "execution_count": 4,
   "metadata": {
    "id": "E0oXbzI2ZAfv"
   },
   "outputs": [],
   "source": [
    "if colab:\n",
    "    !apt update\n",
    "    !apt-get install python-opengl -y\n",
    "    !apt install xvfb -y\n",
    "    !pip install pyvirtualdisplay\n",
    "    !pip install piglet\n",
    "    import glob\n",
    "    import io\n",
    "    import base64\n",
    "    import os\n",
    "    from IPython.display import HTML\n",
    "    from IPython import display as ipythondisplay\n",
    "    from pyvirtualdisplay import Display\n",
    "    from gym.wrappers import Monitor\n",
    "\n",
    "    display = Display(visible=0, size=(1400, 900))\n",
    "    display.start()\n",
    "\n",
    "    if type(os.environ.get(\"DISPLAY\")) is not str or len(os.environ.get(\"DISPLAY\"))==0:\n",
    "        !bash ../xvfb start\n",
    "        %env DISPLAY=:1\n",
    "\n",
    "    \"\"\"\n",
    "    Utility functions to enable video recording of gym environment and displaying it\n",
    "    To enable video, just do \"env = wrap_env(env)\"\"\n",
    "    \"\"\"\n",
    "\n",
    "    def show_videos():\n",
    "        mp4list = glob.glob('video/*.mp4')\n",
    "        mp4list.sort()\n",
    "        for mp4 in mp4list:\n",
    "            print(f\"\\nSHOWING VIDEO {mp4}\")\n",
    "            video = io.open(mp4, 'r+b').read()\n",
    "            encoded = base64.b64encode(video)\n",
    "            ipythondisplay.display(HTML(data='''<video alt=\"test\" autoplay \n",
    "                        loop controls style=\"height: 400px;\">\n",
    "                        <source src=\"data:video/mp4;base64,{0}\" type=\"video/mp4\" />\n",
    "                    </video>'''.format(encoded.decode('ascii'))))\n",
    "            \n",
    "    def wrap_env(env, video_callable=None):\n",
    "        env = Monitor(env, './video', force=True, video_callable=video_callable)\n",
    "        return env"
   ]
  },
  {
   "cell_type": "code",
   "execution_count": 5,
   "metadata": {
    "id": "1axKWEBl8uik"
   },
   "outputs": [],
   "source": [
    "class ReplayMemory(object):\n",
    "\n",
    "    def __init__(self, capacity, x=32, y=16):\n",
    "        #if x and y are small u can fit everything in gpu memory\n",
    "        self.memory = torch.zeros((capacity, 3, y, x), dtype=torch.float32, device=device) #capacity, action, reward, 2 states\n",
    "        self.x = x\n",
    "        self.y = y \n",
    "        self.memory_index = 0\n",
    "        self.capacity = capacity\n",
    "        self.full = False\n",
    "        #self.memory = deque(maxlen=capacity) # Define a queue with maxlen \"capacity\"\n",
    "\n",
    "    def push(self, state, action, next_state, reward):\n",
    "        if state is None or action is None or reward is None:\n",
    "            print(\"WARNING: None value passed to ReplayMemory.push()\")\n",
    "            return\n",
    "        # TODO: Add the tuple (state, action, next_state, reward) to the queue\n",
    "        self.memory[self.memory_index][0] = torch.from_numpy(state).float().to(device)\n",
    "        self.memory[self.memory_index][1,0,0] = action\n",
    "        self.memory[self.memory_index][1,1,0] = reward\n",
    "        if next_state is not None:\n",
    "            self.memory[self.memory_index][2] = torch.from_numpy(next_state).float().to(device) \n",
    "            self.memory[self.memory_index][1,1,1] = 1 # bool true\n",
    "        else:\n",
    "            self.memory[self.memory_index][1,1,1] = 0 #mask is false\n",
    "        #increase the index, and wrap it around if it is bigger than the capacity\n",
    "        if self.memory_index == self.capacity-1:\n",
    "            self.full = True\n",
    "        self.memory_index = (self.memory_index + 1) % self.memory.shape[0]\n",
    "        \n",
    "        # self.memory.append((state, action, next_state, reward))\n",
    "        # print(f\"state: {state.shape}, action: {action}, next_state: {next_state.shape}, reward: {reward}\")\n",
    "\n",
    "    def sample(self, batch_size):\n",
    "        batch_size = min(batch_size, len(self)) # Get all the samples if the requested batch_size is higher than the number of sample currently in the memory\n",
    "        # select indeces\n",
    "        indeces = np.random.choice(self.capacity, batch_size, replace=False)\n",
    "        # return the samples\n",
    "        ret = self.memory[indeces, :]\n",
    "        # ret = torch.from_numpy(ret).float().to(device)\n",
    "        states = ret[:,0].unsqueeze(1)\n",
    "        actions = ret[:,1,0,0].long()\n",
    "        rewards = ret[:,1,1,0]\n",
    "        non_final_mask = ret[:,1,1,1].bool()\n",
    "        non_final_next_states = ret[:,2].unsqueeze(1)\n",
    "        non_final_next_states = non_final_next_states[non_final_mask]\n",
    "\n",
    "        #print(f\"states: {states.shape}, actions: {actions.shape}, rewards: {rewards.shape}, non_final_next_states: {non_final_next_states.shape}, non_final_mask: {non_final_mask.shape}\")\n",
    "\n",
    "        return states, actions, rewards, non_final_next_states, non_final_mask\n",
    "        # return random.sample(self.memory, batch_size) # Randomly select \"batch_size\" samples\n",
    "\n",
    "    def __len__(self):\n",
    "        if self.full:\n",
    "            return self.capacity\n",
    "        else:\n",
    "            return self.memory_index\n",
    "        # return len(self.memory) # Return the number of samples currently stored in the memory"
   ]
  },
  {
   "cell_type": "code",
   "execution_count": 6,
   "metadata": {
    "id": "W41rXekb8x7K"
   },
   "outputs": [],
   "source": [
    "class DQN(nn.Module):\n",
    "\n",
    "    def __init__(self, state_space_dim, action_space_dim):\n",
    "        super().__init__()\n",
    "        n_hid = 128\n",
    "        \n",
    "        self.conv = nn.Sequential( #128x64 #32x32\n",
    "            # First convolutional layer\n",
    "            nn.Conv2d(in_channels=1, out_channels=64, kernel_size=4, stride=2), #61x29 #15x15\n",
    "            nn.ReLU(True),\n",
    "            # Second convolutional layer\n",
    "            nn.Conv2d(in_channels=64, out_channels=64, kernel_size=3, stride=2), #19x8 #7x7\n",
    "            nn.ReLU(True),\n",
    "            # Third convolutional layer\n",
    "            nn.Conv2d(in_channels=64, out_channels=64, kernel_size=3, stride=2), #7x1 #3x3\n",
    "            nn.ReLU(True),\n",
    "        )\n",
    "\n",
    "        self.flatten = nn.Flatten()\n",
    "        \n",
    "        self.linear = nn.Sequential(\n",
    "            #inpt layer\n",
    "            nn.Linear(64*3*3, n_hid), \n",
    "            nn.ReLU(True),\n",
    "            #nn.Dropout(0.2), #bad\n",
    "            #hidden layer\n",
    "            nn.Linear(n_hid, n_hid),\n",
    "            nn.ReLU(True),\n",
    "            #nn.Dropout(0.2), #bad\n",
    "            #outpt layer\n",
    "            nn.Linear(n_hid, action_space_dim),\n",
    "                )\n",
    "\n",
    "    def forward(self, x):\n",
    "        x = self.conv(x)\n",
    "        x = self.flatten(x)\n",
    "        x = self.linear(x)\n",
    "        return x"
   ]
  },
  {
   "cell_type": "markdown",
   "metadata": {
    "id": "ynfEXqjGfbpl"
   },
   "source": [
    "## Exploration Policy"
   ]
  },
  {
   "cell_type": "code",
   "execution_count": 7,
   "metadata": {
    "id": "ZXfh_Ub1fv4c"
   },
   "outputs": [],
   "source": [
    "def choose_action_epsilon_greedy(net, state, epsilon):\n",
    "    if epsilon > 1 or epsilon < 0:\n",
    "        raise Exception('The epsilon value must be between 0 and 1')\n",
    "                \n",
    "    # Evaluate the network output from the current state\n",
    "    with torch.no_grad():\n",
    "        net.eval()\n",
    "        state = state[np.newaxis, :]\n",
    "        state = torch.tensor(state, dtype=torch.float32,device=device) # Convert the state to tensor\n",
    "        net_out = net(state)\n",
    "        \n",
    "\n",
    "    # Get the best action (argmax of the network output)\n",
    "    best_action = int(net_out.argmax())\n",
    "    # Get the number of possible actions\n",
    "    action_space_dim = net_out.shape[-1]\n",
    "\n",
    "    # Select a non optimal action with probability epsilon, otherwise choose the best action\n",
    "    if random.random() < epsilon:\n",
    "        # List of non-optimal actions\n",
    "        non_optimal_actions = [a for a in range(action_space_dim) if a != best_action]\n",
    "        # Select randomly\n",
    "        action = random.choice(non_optimal_actions)\n",
    "    else:\n",
    "        # Select best action\n",
    "        action = best_action\n",
    "        \n",
    "    return action, net_out.cpu().numpy()"
   ]
  },
  {
   "cell_type": "code",
   "execution_count": 8,
   "metadata": {},
   "outputs": [],
   "source": [
    "def choose_action_softmax(net, state, temperature):\n",
    "    if temperature < 0:\n",
    "        raise Exception('The temperature value must be greater than or equal to 0 ')\n",
    "        \n",
    "    # If the temperature is 0, just select the best action using the eps-greedy policy with epsilon = 0\n",
    "    if temperature == 0:\n",
    "        return choose_action_epsilon_greedy(net, state, 0)\n",
    "    \n",
    "    # Evaluate the network output from the current state\n",
    "    with torch.no_grad():\n",
    "        net.eval()\n",
    "        state = torch.tensor(state, dtype=torch.float32, device=device).unsqueeze(1)\n",
    "        net_out = net(state)\n",
    "\n",
    "    # Apply softmax with temp\n",
    "    temperature = max(temperature, 1e-8) # set a minimum to the temperature for numerical stability\n",
    "    softmax_out = F.softmax(net_out/temperature, dim=1).squeeze().cpu().numpy()\n",
    "                \n",
    "    # Sample the action using softmax output as mass pdf\n",
    "    all_possible_actions = np.arange(0, softmax_out.shape[-1])\n",
    "    # print(f\"softmax_out: {softmax_out}, all_possible_actions: {all_possible_actions}\")\n",
    "    action = np.random.choice(all_possible_actions, p=softmax_out) # this samples a random element from \"all_possible_actions\" with the probability distribution p (softmax_out in this case)\n",
    "    \n",
    "    return action, net_out.cpu().numpy()"
   ]
  },
  {
   "cell_type": "markdown",
   "metadata": {
    "id": "QMXhJfZcpqIA"
   },
   "source": [
    "### Exploration profile"
   ]
  },
  {
   "cell_type": "code",
   "execution_count": 9,
   "metadata": {
    "id": "G-f78CC3ptt2"
   },
   "outputs": [
    {
     "data": {
      "text/plain": [
       "Text(0, 0.5, 'Exploration profile (Softmax temperature)')"
      ]
     },
     "execution_count": 9,
     "metadata": {},
     "output_type": "execute_result"
    },
    {
     "data": {
      "image/png": "[encoded data removed]",
      "text/plain": [
       "<Figure size 864x216 with 1 Axes>"
      ]
     },
     "metadata": {
      "needs_background": "light"
     },
     "output_type": "display_data"
    }
   ],
   "source": [
    "### Define exploration profile\n",
    "def get_exploration_profile(initial_value=0.5, num_iterations=1000, speed = 3): # speed = speed of convergence, bigger is faster to reach 0\n",
    "    if initial_value < 0:\n",
    "        raise Exception('The initial value must be > 0')\n",
    "    if initial_value > 1:\n",
    "        exp_decay = np.exp(-np.log(initial_value) / num_iterations * speed) # We compute the exponential decay in such a way the shape of the exploration profile does not depend on the number of iterations\n",
    "    else :\n",
    "        exp_decay = np.exp(np.log(initial_value) / num_iterations * speed)\n",
    "    exploration_profile = [initial_value * (exp_decay ** i) for i in range(num_iterations)]\n",
    "    return exploration_profile\n",
    "\n",
    "exploration_profile = get_exploration_profile()\n",
    "\n",
    "### Plot exploration profile\n",
    "plt.figure(figsize=(12,3))\n",
    "plt.plot(exploration_profile)\n",
    "plt.grid()\n",
    "plt.xlabel('Iteration')\n",
    "plt.ylabel('Exploration profile (Softmax temperature)')"
   ]
  },
  {
   "cell_type": "markdown",
   "metadata": {
    "id": "zjKmdFhowRbj"
   },
   "source": [
    "# Gym Environment (CartPole-v1)"
   ]
  },
  {
   "cell_type": "code",
   "execution_count": 10,
   "metadata": {
    "id": "Ar0yNaNrCnjn"
   },
   "outputs": [],
   "source": [
    "### Create environment\n",
    "env = gym.make('CartPole-v1') # Initialize the Gym environment\n",
    "env.seed(0) # Set a random seed for the environment (reproducible results)\n",
    "\n",
    "# Get the shapes of the state space (observation_space) and action space (action_space)\n",
    "# state_space_dim = env.observation_space.shape[0]\n",
    "action_space_dim = env.action_space.n\n",
    "\n",
    "if colab:\n",
    "  env = wrap_env(env, video_callable=lambda episode_id: True)"
   ]
  },
  {
   "cell_type": "code",
   "execution_count": 11,
   "metadata": {},
   "outputs": [],
   "source": [
    "#function to get the frame\n",
    "def get_frame(env, prev_frame, resize=(32,32), device=device, plot=False):\n",
    "    # Get the current frame \n",
    "    frame = env.render(mode='rgb_array')\n",
    "    pos = env.state[0] #-2.4 to 2.4 in the frame\n",
    "    c = round(pos*300/2.4 + 300) #center of the cart\n",
    "    #convert to grayscale\n",
    "    frame = np.mean(frame, axis=2)\n",
    "    original_frame = frame\n",
    "    #convert to binary\n",
    "    frame[frame < 255] = 0\n",
    "    frame = frame / 255\n",
    "    frame = (1 - frame) \n",
    "    frame[frame==0] = 1/3\n",
    "    frame[frame==1] = 2/3    \n",
    "\n",
    "    if prev_frame is not None:\n",
    "        diff = 2*frame - prev_frame\n",
    "    else :\n",
    "        diff = frame / 2\n",
    "\n",
    "    prev_frame = frame\n",
    "\n",
    "    #draw a small square in the absolute middle of diff\n",
    "    diff[200:240,270:274] = 0.1\n",
    "    diff[200:240,326:330] = 0.9\n",
    "    \n",
    "    if c < 64 or c > (600-64): #out of frame\n",
    "        diff = np.zeros((300,300))\n",
    "    else:\n",
    "        diff = diff[200:300, (c-64):(c+64)]\n",
    "\n",
    "    diff = cv2.resize(diff, resize, interpolation=cv2.INTER_CUBIC)\n",
    "    diff = diff[np.newaxis, :]\n",
    "\n",
    "    if plot and not colab:\n",
    "        #show diff with opencv\n",
    "        cv2.imshow('diff', diff[0])\n",
    "        #cv2.imshow('prev_frame',prev_frame)\n",
    "        cv2.waitKey(1)\n",
    "    \n",
    "    return diff, prev_frame"
   ]
  },
  {
   "cell_type": "code",
   "execution_count": 12,
   "metadata": {},
   "outputs": [],
   "source": [
    "# if not colab:\n",
    "#     env.seed(1)\n",
    "#     observation = env.reset()\n",
    "#     #set seed\n",
    "#     frame, prev_frame = get_frame(env, None)\n",
    "#     for t in range(500):\n",
    "#         frame, prev_frame = get_frame(env, prev_frame, plot=True)\n",
    "#         action = env.action_space.sample()\n",
    "#         observation, reward, done, info = env.step(action)\n",
    "#         done = False\n",
    "\n",
    "#         c = env.state[0]*300/2.4 + 300\n",
    "#         #if c < 64 or c > (600-64):\n",
    "#             #done = True #doesn't work in colab\n",
    "        \n",
    "#         if done:\n",
    "#             print(\"Episode finished after {} timesteps\".format(t+1))\n",
    "#             break\n",
    "#     env.close()"
   ]
  },
  {
   "cell_type": "markdown",
   "metadata": {
    "id": "9FmV7DVqEikG"
   },
   "source": [
    "![image.png](data:image/png;base64,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)"
   ]
  },
  {
   "cell_type": "markdown",
   "metadata": {
    "id": "9KXpjzf2vdeL"
   },
   "source": [
    "# Network update"
   ]
  },
  {
   "cell_type": "code",
   "execution_count": 13,
   "metadata": {
    "id": "lVpk-g0i9d-B"
   },
   "outputs": [],
   "source": [
    "# Set random seeds\n",
    "torch.manual_seed(0)\n",
    "np.random.seed(0)\n",
    "random.seed(0)\n",
    "\n",
    "laod_good_model = False\n",
    "\n",
    "x,y = 32,32 #32, 16\n",
    "state_space_dim = x * y #the image is 32*16\n",
    "\n",
    "### PARAMETERS\n",
    "gamma = 0.9  #0.97 gamma parameter for the long term reward #0.99999 # 0.9\n",
    "replay_memory_capacity = 10000   #10000 Replay memory capacity #10000 # 5000\n",
    "lr = 2e-2   #1e-2 Optimizer learning rate #1e-2 # 0.12\n",
    "target_net_update_steps = 10   #10 Number of episodes to wait before updating the target network #10 # 8\n",
    "batch_size = 256   #128 Number of samples to take from the replay memory for each update #256 # 256\n",
    "bad_state_penalty = -2   #0 Penalty to the reward when we are in a bad state (in this case when the pole falls down)  #0 # 0\n",
    "min_samples_for_training = 1111   #1000 Minimum samples in the replay memory to enable the training #1000 # 500\n",
    "use_epsilon_greedy = True   #False Use epsilon greedy exploration or not #True # False\n",
    "#set up exploration profile for softmax\n",
    "initial_value = 0.5 #5 Initial temperature/epsilon value for the exploration profile #0.5 # 5\n",
    "num_iterations = 500 # Number of episodes 1000, #300 # 120\n",
    "convergence_speed = 6 #6 Speed of convergence of the exploration profile # 1 # 0.8\n",
    "exploration_profile = get_exploration_profile(initial_value, num_iterations, speed = convergence_speed)"
   ]
  },
  {
   "cell_type": "markdown",
   "metadata": {},
   "source": [
    "lowering target_net_update_steps from 10 to 8 had a huge impact, learning rate could be set higher too and gamma could be lowered."
   ]
  },
  {
   "cell_type": "code",
   "execution_count": 14,
   "metadata": {
    "id": "2k3ZQuh8xHo7"
   },
   "outputs": [],
   "source": [
    "### Initialize the replay memory\n",
    "replay_mem = ReplayMemory(replay_memory_capacity, x=x, y=y)\n",
    "\n",
    "### Initialize the policy network\n",
    "policy_net = DQN(state_space_dim, action_space_dim ).to(device)\n",
    "\n",
    "### Initialize the target network with the same weights of the policy network\n",
    "target_net = DQN(state_space_dim, action_space_dim).to(device)\n",
    "target_net.load_state_dict(policy_net.state_dict()) # This will copy the weights of the policy network to the target network\n",
    "\n",
    "### Initialize the optimizer\n",
    "optimizer = torch.optim.SGD(policy_net.parameters(), lr=lr) # The optimizer will update ONLY the parameters of the policy network\n",
    "\n",
    "### Initialize the loss function (Huber loss)\n",
    "loss_fn = nn.SmoothL1Loss()\n",
    "\n",
    "losses, scores = [],[]"
   ]
  },
  {
   "cell_type": "code",
   "execution_count": 15,
   "metadata": {},
   "outputs": [],
   "source": [
    "#load the model\n",
    "policy_net.load_state_dict(torch.load(f'training/cartpole_policy_net_{2500}.pt'))\n",
    "target_net.load_state_dict(torch.load(f'training/cartpole_policy_net_{2500}.pt'))\n",
    "#load scores and losses\n",
    "scores = np.load(f'training/cartpole_scores_{2500}.npy').tolist()\n",
    "losses = np.load(f'training/cartpole_losses_{2500}.npy').tolist()"
   ]
  },
  {
   "cell_type": "code",
   "execution_count": 16,
   "metadata": {
    "id": "Sj1hEvPOvkBX"
   },
   "outputs": [],
   "source": [
    "def update_step(policy_net, target_net, replay_mem, gamma, optimizer, loss_fn, batch_size):\n",
    "        \n",
    "  # Sample the data from the replay memory\n",
    "  states, actions, rewards, non_final_next_states, non_final_mask = replay_mem.sample(batch_size)\n",
    "\n",
    "  #print(f\"states: {states.shape}, actions: {actions.shape}, rewards: {rewards.shape}, non_final_next_states: {non_final_next_states.shape}, non_final_mask: {non_final_mask.shape}\")\n",
    "  \n",
    "  # # Create tensors for each element of the batch\n",
    "  # states      = torch.tensor([s[0] for s in batch], dtype=torch.float32, device=device)\n",
    "  # actions     = torch.tensor([s[1] for s in batch], dtype=torch.int64, device=device)\n",
    "  # rewards     = torch.tensor([s[3] for s in batch], dtype=torch.float32, device=device)\n",
    "\n",
    "  # Compute a mask of non-final states (all the elements where the next state is not None)\n",
    "  # non_final_next_states = torch.tensor([s[2] for s in batch if s[2] is not None], dtype=torch.float32, device=device) # the next state can be None if the game has ended\n",
    "  # non_final_mask = torch.tensor([s[2] is not None for s in batch], dtype=torch.bool, device=device)\n",
    "\n",
    "  # Compute all the Q values (forward pass)\n",
    "  policy_net.train()\n",
    "  q_values = policy_net(states)\n",
    "\n",
    "  # Select the proper Q value for the corresponding action taken Q(s_t, a)\n",
    "  state_action_values = q_values.gather(1, actions.unsqueeze(1))\n",
    "\n",
    "  # Compute the value function of the next states using the target network V(s_{t+1}) = max_a( Q_target(s_{t+1}, a)) )\n",
    "  with torch.no_grad():\n",
    "    target_net.eval()\n",
    "    q_values_target = target_net(non_final_next_states)\n",
    "  next_state_max_q_values = torch.zeros(batch_size, device=device)\n",
    "  next_state_max_q_values[non_final_mask] = q_values_target.max(dim=1)[0]\n",
    "\n",
    "  # Compute the expected Q values\n",
    "  expected_state_action_values = rewards + (next_state_max_q_values * gamma)\n",
    "  expected_state_action_values = expected_state_action_values.unsqueeze(1) # Set the required tensor shape\n",
    "\n",
    "  # Compute the Huber loss\n",
    "  loss = loss_fn(state_action_values, expected_state_action_values)\n",
    "\n",
    "  # Optimize the model\n",
    "  optimizer.zero_grad()\n",
    "  loss.backward()\n",
    "  # Apply gradient clipping (clip all the gradients greater than 2 for training stability)\n",
    "  nn.utils.clip_grad_norm_(policy_net.parameters(), 2)\n",
    "  optimizer.step()\n",
    "  return loss.item()"
   ]
  },
  {
   "cell_type": "code",
   "execution_count": 17,
   "metadata": {
    "id": "WF6Zf53FoRDZ"
   },
   "outputs": [
    {
     "data": {
      "application/vnd.jupyter.widget-view+json": {
       "model_id": "8aefa0dc0ad1416799737c7bb942a055",
       "version_major": 2,
       "version_minor": 0
      },
      "text/plain": [
       "  0%|          | 0/500 [00:00<?, ?it/s]"
      ]
     },
     "metadata": {},
     "output_type": "display_data"
    },
    {
     "name": "stderr",
     "output_type": "stream",
     "text": [
      "/home/irong/nn_deep_learning_2021/dl_env/lib/python3.7/site-packages/numpy/core/fromnumeric.py:3373: RuntimeWarning: Mean of empty slice.\n",
      "  out=out, **kwargs)\n",
      "/home/irong/nn_deep_learning_2021/dl_env/lib/python3.7/site-packages/numpy/core/_methods.py:170: RuntimeWarning: invalid value encountered in double_scalars\n",
      "  ret = ret.dtype.type(ret / rcount)\n"
     ]
    },
    {
     "name": "stdout",
     "output_type": "stream",
     "text": [
      "EPISODE: 1 - FINAL SCORE: 23 - Temperature/epsilo: 0.5\n",
      "EPISODE: 2 - FINAL SCORE: 11 - Temperature/epsilo: 0.4958583653691466\n",
      "EPISODE: 3 - FINAL SCORE: 10 - Temperature/epsilo: 0.4917510370131242\n",
      "EPISODE: 4 - FINAL SCORE: 32 - Temperature/epsilo: 0.487677730763821\n",
      "EPISODE: 5 - FINAL SCORE: 73 - Temperature/epsilo: 0.48363816480696614\n",
      "EPISODE: 6 - FINAL SCORE: 17 - Temperature/epsilo: 0.47963205966263234\n",
      "EPISODE: 7 - FINAL SCORE: 21 - Temperature/epsilo: 0.4756591381658997\n",
      "EPISODE: 8 - FINAL SCORE: 19 - Temperature/epsilo: 0.47171912544768024\n",
      "EPISODE: 9 - FINAL SCORE: 21 - Temperature/epsilo: 0.46781174891570027\n",
      "EPISODE: 10 - FINAL SCORE: 11 - Temperature/epsilo: 0.4639367382356416\n",
      "EPISODE: 11 - FINAL SCORE: 10 - Temperature/epsilo: 0.4600938253124378\n",
      "EPISODE: 12 - FINAL SCORE: 16 - Temperature/epsilo: 0.4562827442717262\n",
      "EPISODE: 13 - FINAL SCORE: 37 - Temperature/epsilo: 0.452503231441453\n",
      "EPISODE: 14 - FINAL SCORE: 17 - Temperature/epsilo: 0.44875502533363104\n",
      "EPISODE: 15 - FINAL SCORE: 12 - Temperature/epsilo: 0.44503786662624856\n",
      "EPISODE: 16 - FINAL SCORE: 13 - Temperature/epsilo: 0.4413514981453278\n",
      "EPISODE: 17 - FINAL SCORE: 37 - Temperature/epsilo: 0.43769566484713235\n",
      "EPISODE: 18 - FINAL SCORE: 15 - Temperature/epsilo: 0.43407011380052185\n",
      "EPISODE: 19 - FINAL SCORE: 13 - Temperature/epsilo: 0.4304745941694524\n",
      "EPISODE: 20 - FINAL SCORE: 14 - Temperature/epsilo: 0.4269088571956229\n",
      "EPISODE: 21 - FINAL SCORE: 26 - Temperature/epsilo: 0.423372656181264\n",
      "EPISODE: 22 - FINAL SCORE: 20 - Temperature/epsilo: 0.41986574647207064\n",
      "EPISODE: 23 - FINAL SCORE: 19 - Temperature/epsilo: 0.416387885440275\n",
      "EPISODE: 24 - FINAL SCORE: 19 - Temperature/epsilo: 0.41293883246786045\n",
      "EPISODE: 25 - FINAL SCORE: 26 - Temperature/epsilo: 0.40951834892991434\n",
      "EPISODE: 26 - FINAL SCORE: 37 - Temperature/epsilo: 0.4061261981781183\n",
      "EPISODE: 27 - FINAL SCORE: 23 - Temperature/epsilo: 0.40276214552437567\n",
      "EPISODE: 28 - FINAL SCORE: 12 - Temperature/epsilo: 0.39942595822457455\n",
      "EPISODE: 29 - FINAL SCORE: 12 - Temperature/epsilo: 0.3961174054624852\n",
      "EPISODE: 30 - FINAL SCORE: 13 - Temperature/epsilo: 0.39283625833379077\n",
      "EPISODE: 31 - FINAL SCORE: 12 - Temperature/epsilo: 0.38958228983025056\n",
      "EPISODE: 32 - FINAL SCORE: 16 - Temperature/epsilo: 0.38635527482399434\n",
      "EPISODE: 33 - FINAL SCORE: 13 - Temperature/epsilo: 0.3831549900519465\n",
      "EPISODE: 34 - FINAL SCORE: 13 - Temperature/epsilo: 0.3799812141003796\n",
      "EPISODE: 35 - FINAL SCORE: 18 - Temperature/epsilo: 0.3768337273895959\n",
      "EPISODE: 36 - FINAL SCORE: 10 - Temperature/epsilo: 0.3737123121587353\n",
      "EPISODE: 37 - FINAL SCORE: 10 - Temperature/epsilo: 0.3706167524507095\n",
      "EPISODE: 38 - FINAL SCORE: 17 - Temperature/epsilo: 0.36754683409726097\n",
      "EPISODE: 39 - FINAL SCORE: 17 - Temperature/epsilo: 0.3645023447041455\n",
      "EPISODE: 40 - FINAL SCORE: 45 - Temperature/epsilo: 0.3614830736364376\n",
      "EPISODE: 41 - FINAL SCORE: 12 - Temperature/epsilo: 0.3584888120039576\n",
      "EPISODE: 42 - FINAL SCORE: 17 - Temperature/epsilo: 0.35551935264681944\n",
      "EPISODE: 43 - FINAL SCORE: 11 - Temperature/epsilo: 0.3525744901210982\n",
      "EPISODE: 44 - FINAL SCORE: 13 - Temperature/epsilo: 0.34965402068461615\n",
      "EPISODE: 45 - FINAL SCORE: 30 - Temperature/epsilo: 0.3467577422828471\n",
      "EPISODE: 46 - FINAL SCORE: 16 - Temperature/epsilo: 0.3438854545349368\n",
      "EPISODE: 47 - FINAL SCORE: 19 - Temperature/epsilo: 0.34103695871983947\n",
      "EPISODE: 48 - FINAL SCORE: 16 - Temperature/epsilo: 0.33821205776256946\n",
      "EPISODE: 49 - FINAL SCORE: 12 - Temperature/epsilo: 0.3354105562205662\n",
      "EPISODE: 50 - FINAL SCORE: 19 - Temperature/epsilo: 0.3326322602701724\n",
      "EPISODE: 51 - FINAL SCORE: 12 - Temperature/epsilo: 0.32987697769322444\n",
      "EPISODE: 52 - FINAL SCORE: 14 - Temperature/epsilo: 0.3271445178637534\n",
      "EPISODE: 53 - FINAL SCORE: 10 - Temperature/epsilo: 0.3244346917347967\n",
      "EPISODE: 54 - FINAL SCORE: 18 - Temperature/epsilo: 0.32174731182531857\n",
      "EPISODE: 55 - FINAL SCORE: 44 - Temperature/epsilo: 0.31908219220723916\n",
      "EPISODE: 56 - FINAL SCORE: 10 - Temperature/epsilo: 0.31643914849257093\n",
      "EPISODE: 57 - FINAL SCORE: 18 - Temperature/epsilo: 0.3138179978206618\n",
      "EPISODE: 58 - FINAL SCORE: 11 - Temperature/epsilo: 0.3112185588455435\n",
      "EPISODE: 59 - FINAL SCORE: 10 - Temperature/epsilo: 0.30864065172338556\n",
      "EPISODE: 60 - FINAL SCORE: 17 - Temperature/epsilo: 0.3060840981000521\n",
      "EPISODE: 61 - FINAL SCORE: 10 - Temperature/epsilo: 0.3035487210987627\n",
      "EPISODE: 62 - FINAL SCORE: 12 - Temperature/epsilo: 0.30103434530785494\n",
      "EPISODE: 63 - FINAL SCORE: 11 - Temperature/epsilo: 0.29854079676864836\n",
      "EPISODE: 64 - FINAL SCORE: 15 - Temperature/epsilo: 0.2960679029634092\n",
      "EPISODE: 65 - FINAL SCORE: 12 - Temperature/epsilo: 0.29361549280341437\n",
      "EPISODE: 66 - FINAL SCORE: 14 - Temperature/epsilo: 0.291183396617115\n",
      "EPISODE: 67 - FINAL SCORE: 11 - Temperature/epsilo: 0.28877144613839706\n",
      "EPISODE: 68 - FINAL SCORE: 16 - Temperature/epsilo: 0.2863794744949403\n",
      "EPISODE: 69 - FINAL SCORE: 31 - Temperature/epsilo: 0.28400731619667263\n",
      "EPISODE: 70 - FINAL SCORE: 25 - Temperature/epsilo: 0.2816548071243209\n",
      "EPISODE: 71 - FINAL SCORE: 35 - Temperature/epsilo: 0.27932178451805606\n",
      "EPISODE: 72 - FINAL SCORE: 32 - Temperature/epsilo: 0.2770080869662326\n",
      "EPISODE: 73 - FINAL SCORE: 24 - Temperature/epsilo: 0.27471355439422096\n",
      "EPISODE: 74 - FINAL SCORE: 16 - Temperature/epsilo: 0.2724380280533331\n",
      "EPISODE: 75 - FINAL SCORE: 13 - Temperature/epsilo: 0.27018135050983894\n",
      "EPISODE: 76 - FINAL SCORE: 14 - Temperature/epsilo: 0.2679433656340744\n",
      "EPISODE: 77 - FINAL SCORE: 9 - Temperature/epsilo: 0.2657239185896394\n",
      "EPISODE: 78 - FINAL SCORE: 54 - Temperature/epsilo: 0.2635228558226856\n",
      "EPISODE: 79 - FINAL SCORE: 10 - Temperature/epsilo: 0.26134002505129234\n",
      "EPISODE: 80 - FINAL SCORE: 21 - Temperature/epsilo: 0.2591752752549313\n",
      "EPISODE: 81 - FINAL SCORE: 18 - Temperature/epsilo: 0.25702845666401775\n",
      "EPISODE: 82 - FINAL SCORE: 23 - Temperature/epsilo: 0.25489942074954874\n",
      "EPISODE: 83 - FINAL SCORE: 16 - Temperature/epsilo: 0.25278802021282715\n",
      "EPISODE: 84 - FINAL SCORE: 10 - Temperature/epsilo: 0.25069410897527056\n",
      "EPISODE: 85 - FINAL SCORE: 30 - Temperature/epsilo: 0.24861754216830473\n",
      "EPISODE: 86 - FINAL SCORE: 10 - Temperature/epsilo: 0.24655817612334094\n",
      "EPISODE: 87 - FINAL SCORE: 9 - Temperature/epsilo: 0.24451586836183598\n",
      "EPISODE: 88 - FINAL SCORE: 13 - Temperature/epsilo: 0.24249047758543485\n",
      "EPISODE: 89 - FINAL SCORE: 18 - Temperature/epsilo: 0.24048186366619484\n",
      "EPISODE: 90 - FINAL SCORE: 14 - Temperature/epsilo: 0.2384898876368907\n",
      "EPISODE: 91 - FINAL SCORE: 11 - Temperature/epsilo: 0.23651441168140014\n",
      "EPISODE: 92 - FINAL SCORE: 11 - Temperature/epsilo: 0.23455529912516893\n",
      "EPISODE: 93 - FINAL SCORE: 38 - Temperature/epsilo: 0.23261241442575498\n",
      "EPISODE: 94 - FINAL SCORE: 29 - Temperature/epsilo: 0.23068562316345073\n",
      "EPISODE: 95 - FINAL SCORE: 29 - Temperature/epsilo: 0.22877479203198325\n",
      "EPISODE: 96 - FINAL SCORE: 13 - Temperature/epsilo: 0.22687978882929138\n",
      "EPISODE: 97 - FINAL SCORE: 29 - Temperature/epsilo: 0.2250004824483792\n",
      "EPISODE: 98 - FINAL SCORE: 35 - Temperature/epsilo: 0.22313674286824534\n",
      "EPISODE: 99 - FINAL SCORE: 29 - Temperature/epsilo: 0.22128844114488744\n",
      "EPISODE: 100 - FINAL SCORE: 41 - Temperature/epsilo: 0.219455449402381\n",
      "EPISODE: 101 - FINAL SCORE: 25 - Temperature/epsilo: 0.21763764082403222\n",
      "EPISODE: 102 - FINAL SCORE: 22 - Temperature/epsilo: 0.21583488964360414\n",
      "EPISODE: 103 - FINAL SCORE: 80 - Temperature/epsilo: 0.2140470711366154\n",
      "EPISODE: 104 - FINAL SCORE: 47 - Temperature/epsilo: 0.2122740616117111\n",
      "EPISODE: 105 - FINAL SCORE: 28 - Temperature/epsilo: 0.2105157384021052\n",
      "EPISODE: 106 - FINAL SCORE: 15 - Temperature/epsilo: 0.20877197985709353\n",
      "EPISODE: 107 - FINAL SCORE: 34 - Temperature/epsilo: 0.2070426653336376\n",
      "EPISODE: 108 - FINAL SCORE: 10 - Temperature/epsilo: 0.20532767518801764\n",
      "EPISODE: 109 - FINAL SCORE: 30 - Temperature/epsilo: 0.20362689076755502\n",
      "EPISODE: 110 - FINAL SCORE: 9 - Temperature/epsilo: 0.2019401944024032\n",
      "EPISODE: 111 - FINAL SCORE: 55 - Temperature/epsilo: 0.20026746939740672\n",
      "EPISODE: 112 - FINAL SCORE: 39 - Temperature/epsilo: 0.1986086000240274\n",
      "EPISODE: 113 - FINAL SCORE: 14 - Temperature/epsilo: 0.19696347151233773\n",
      "EPISODE: 114 - FINAL SCORE: 25 - Temperature/epsilo: 0.19533197004308053\n",
      "EPISODE: 115 - FINAL SCORE: 35 - Temperature/epsilo: 0.19371398273979407\n",
      "EPISODE: 116 - FINAL SCORE: 10 - Temperature/epsilo: 0.19210939766100274\n",
      "EPISODE: 117 - FINAL SCORE: 21 - Temperature/epsilo: 0.19051810379247236\n",
      "EPISODE: 118 - FINAL SCORE: 13 - Temperature/epsilo: 0.18893999103952952\n",
      "EPISODE: 119 - FINAL SCORE: 25 - Temperature/epsilo: 0.18737495021944464\n",
      "EPISODE: 120 - FINAL SCORE: 14 - Temperature/epsilo: 0.18582287305387807\n",
      "EPISODE: 121 - FINAL SCORE: 17 - Temperature/epsilo: 0.18428365216138884\n",
      "EPISODE: 122 - FINAL SCORE: 42 - Temperature/epsilo: 0.18275718105000535\n",
      "EPISODE: 123 - FINAL SCORE: 21 - Temperature/epsilo: 0.18124335410985767\n",
      "EPISODE: 124 - FINAL SCORE: 9 - Temperature/epsilo: 0.17974206660587086\n",
      "EPISODE: 125 - FINAL SCORE: 58 - Temperature/epsilo: 0.1782532146705188\n",
      "EPISODE: 126 - FINAL SCORE: 20 - Temperature/epsilo: 0.1767766952966381\n",
      "EPISODE: 127 - FINAL SCORE: 36 - Temperature/epsilo: 0.17531240633030135\n",
      "EPISODE: 128 - FINAL SCORE: 38 - Temperature/epsilo: 0.1738602464637497\n",
      "EPISODE: 129 - FINAL SCORE: 47 - Temperature/epsilo: 0.17242011522838377\n",
      "EPISODE: 130 - FINAL SCORE: 49 - Temperature/epsilo: 0.17099191298781255\n",
      "EPISODE: 131 - FINAL SCORE: 41 - Temperature/epsilo: 0.16957554093096017\n",
      "EPISODE: 132 - FINAL SCORE: 49 - Temperature/epsilo: 0.16817090106522947\n",
      "EPISODE: 133 - FINAL SCORE: 17 - Temperature/epsilo: 0.16677789620972233\n",
      "EPISODE: 134 - FINAL SCORE: 12 - Temperature/epsilo: 0.1653964299885162\n",
      "EPISODE: 135 - FINAL SCORE: 33 - Temperature/epsilo: 0.1640264068239963\n",
      "EPISODE: 136 - FINAL SCORE: 17 - Temperature/epsilo: 0.1626677319302429\n",
      "EPISODE: 137 - FINAL SCORE: 11 - Temperature/epsilo: 0.16132031130647356\n",
      "EPISODE: 138 - FINAL SCORE: 14 - Temperature/epsilo: 0.15998405173053967\n",
      "EPISODE: 139 - FINAL SCORE: 19 - Temperature/epsilo: 0.1586588607524768\n",
      "EPISODE: 140 - FINAL SCORE: 10 - Temperature/epsilo: 0.15734464668810838\n",
      "EPISODE: 141 - FINAL SCORE: 37 - Temperature/epsilo: 0.15604131861270268\n",
      "EPISODE: 142 - FINAL SCORE: 16 - Temperature/epsilo: 0.1547487863546819\n",
      "EPISODE: 143 - FINAL SCORE: 21 - Temperature/epsilo: 0.1534669604893837\n",
      "EPISODE: 144 - FINAL SCORE: 15 - Temperature/epsilo: 0.15219575233287444\n",
      "EPISODE: 145 - FINAL SCORE: 38 - Temperature/epsilo: 0.1509350739358132\n",
      "EPISODE: 146 - FINAL SCORE: 12 - Temperature/epsilo: 0.14968483807736727\n",
      "EPISODE: 147 - FINAL SCORE: 13 - Temperature/epsilo: 0.14844495825917745\n",
      "EPISODE: 148 - FINAL SCORE: 11 - Temperature/epsilo: 0.14721534869937386\n",
      "EPISODE: 149 - FINAL SCORE: 28 - Temperature/epsilo: 0.1459959243266409\n",
      "EPISODE: 150 - FINAL SCORE: 37 - Temperature/epsilo: 0.14478660077433156\n",
      "EPISODE: 151 - FINAL SCORE: 11 - Temperature/epsilo: 0.14358729437463055\n",
      "EPISODE: 152 - FINAL SCORE: 34 - Temperature/epsilo: 0.14239792215276553\n",
      "EPISODE: 153 - FINAL SCORE: 37 - Temperature/epsilo: 0.1412184018212666\n",
      "EPISODE: 154 - FINAL SCORE: 58 - Temperature/epsilo: 0.14004865177427317\n",
      "EPISODE: 155 - FINAL SCORE: 9 - Temperature/epsilo: 0.13888859108188786\n",
      "EPISODE: 156 - FINAL SCORE: 36 - Temperature/epsilo: 0.1377381394845775\n",
      "EPISODE: 157 - FINAL SCORE: 16 - Temperature/epsilo: 0.1365972173876202\n",
      "EPISODE: 158 - FINAL SCORE: 12 - Temperature/epsilo: 0.13546574585559867\n",
      "EPISODE: 159 - FINAL SCORE: 16 - Temperature/epsilo: 0.13434364660693882\n",
      "EPISODE: 160 - FINAL SCORE: 24 - Temperature/epsilo: 0.13323084200849394\n"
     ]
    }
   ],
   "source": [
    "if not laod_good_model: #TRAIN\n",
    "    # Initialize the Gym environment\n",
    "    env = gym.make('CartPole-v1') \n",
    "    env.seed(0) # Set a random seed for the environment (reproducible results)\n",
    "\n",
    "    # This is for creating the output video in Colab, not required outside Colab\n",
    "    if colab:\n",
    "        env = wrap_env(env, video_callable=lambda episode_id: episode_id % 100 == 0) # Save a video every 100 episodes\n",
    "\n",
    "    #list of losses and scores\n",
    "    for episode_num, tau in enumerate(tqdm(exploration_profile)):\n",
    "        if use_epsilon_greedy:\n",
    "            epsilon = tau\n",
    "\n",
    "        # Reset the environment and get the initial state\n",
    "        state_info = env.reset()\n",
    "        state, prev_frame = get_frame(env, None, resize=(x,y))\n",
    "        # Reset the score. The final score will be the total amount of steps before the pole falls\n",
    "        score = 0\n",
    "        done = False\n",
    "\n",
    "        # Go on until the pole falls off\n",
    "        episode_loss = []\n",
    "        while not done:\n",
    "            # Choose the action following the policy\n",
    "            action, q_values = choose_action_epsilon_greedy(policy_net, state, epsilon) if use_epsilon_greedy else choose_action_softmax(policy_net, state, temperature=tau)\n",
    "            \n",
    "            # Apply the action and get the next state, the reward and a flag \"done\" that is True if the game is ended\n",
    "            state_info, reward, done, info = env.step(action)\n",
    "            next_state, prev_frame = get_frame(env, prev_frame, resize=(x,y), plot=True)\n",
    "\n",
    "            #penalty based on the cart being off the screen\n",
    "            c = env.state[0]*300/2.4 + 300\n",
    "            if c < 64 or c > (600-64):\n",
    "                reward -= 100\n",
    "            \n",
    "            # We apply a (linear) penalty when the cart is far from center\n",
    "            pos_weight = 1.0\n",
    "            reward = reward - pos_weight * np.abs(state_info[0]) \n",
    "\n",
    "            #linear penalty for the angle\n",
    "            angle_weight = 1.0\n",
    "            reward = reward - angle_weight * np.abs(state_info[2])\n",
    "\n",
    "            # Update the final score (+1 for each step)\n",
    "            score += 1\n",
    "\n",
    "            # Apply penalty for bad state\n",
    "            if done: # if the pole has fallen down \n",
    "                reward += bad_state_penalty\n",
    "                next_state = None\n",
    "\n",
    "            # Update the replay memory\n",
    "            replay_mem.push(state, action, next_state, reward)\n",
    "\n",
    "            # # lower learning rate after a certain number of steps, important if the learning rate is very aggressive\n",
    "            # # in the early stages of the training \n",
    "            # if episode_num > 120:\n",
    "            #     for param_group in optimizer.param_groups:\n",
    "            #         param_group['lr'] = 2e-3\n",
    "\n",
    "\n",
    "            # Update the network\n",
    "            if len(replay_mem) > min_samples_for_training: # we enable the training only if we have enough samples in the replay memory, otherwise the training will use the same samples too often\n",
    "                loss = update_step(policy_net, target_net, replay_mem, gamma, optimizer, loss_fn, batch_size)\n",
    "                episode_loss.append(loss)\n",
    "                \n",
    "            # Visually render the environment (disable to speed up the training)\n",
    "            if not colab and show_render:\n",
    "                env.render()\n",
    "\n",
    "            # Set the current state for the next iteration\n",
    "            state = next_state\n",
    "        #end of while loop\n",
    "\n",
    "        #get episode loss\n",
    "        average_episode_loss = np.mean(episode_loss)\n",
    "        losses.append(average_episode_loss)\n",
    "        #get episode score\n",
    "        scores.append(score)\n",
    "\n",
    "        # Update the target network every target_net_update_steps episodes\n",
    "        if episode_num % target_net_update_steps == 0:\n",
    "            #print('Updating target network...')\n",
    "            target_net.load_state_dict(policy_net.state_dict()) # This will copy the weights of the policy network to the target network\n",
    "\n",
    "        #Print the final score\n",
    "        print(f\"EPISODE: {episode_num + 1} - FINAL SCORE: {score} - Temperature/epsilo: {tau}\") # Print the final score\n",
    "    env.close()\n",
    "\n",
    "\n",
    "    #save the model\n",
    "    torch.save(policy_net.state_dict(), f'training/cartpole_policy_net_{num_iterations+2500}.pt')\n",
    "    #save scores and losses\n",
    "    np.save(f'training/cartpole_scores_{num_iterations+2500}.npy', scores)\n",
    "    np.save(f'training/cartpole_losses_{num_iterations+2500}.npy', losses)\n",
    "\n",
    "else: #LOAD MODEL\n",
    "    #load the model\n",
    "    policy_net.load_state_dict(torch.load(f'training/cartpole_policy_net_{num_iterations}.pt'))\n",
    "    target_net.load_state_dict(torch.load(f'training/cartpole_policy_net_{num_iterations}.pt'))\n",
    "    #load scores and losses\n",
    "    scores = np.load(f'training/cartpole_scores_{num_iterations}.npy')\n",
    "    losses = np.load(f'training/cartpole_losses_{num_iterations}.npy')\n"
   ]
  },
  {
   "cell_type": "code",
   "execution_count": null,
   "metadata": {
    "id": "7FQjjVTiP2T6"
   },
   "outputs": [],
   "source": [
    "# Display the videos, not required outside Colab\n",
    "if colab and show_video:\n",
    "    show_videos()"
   ]
  },
  {
   "cell_type": "code",
   "execution_count": null,
   "metadata": {},
   "outputs": [
    {
     "data": {
      "image/png": "[encoded data removed]",
      "text/plain": [
       "<Figure size 864x360 with 2 Axes>"
      ]
     },
     "metadata": {
      "needs_background": "light"
     },
     "output_type": "display_data"
    }
   ],
   "source": [
    "#plot scores and losses\n",
    "plt.figure(figsize=(12,5))\n",
    "plt.subplot(1,2,1)\n",
    "plt.plot(scores)\n",
    "plt.title('Scores')\n",
    "plt.subplot(1,2,2)\n",
    "plt.plot(losses)\n",
    "plt.title('Losses')\n",
    "plt.show()"
   ]
  },
  {
   "cell_type": "markdown",
   "metadata": {},
   "source": [
    "Adding an exploration profile makes the loss go down, however the score goes down with the loss too"
   ]
  },
  {
   "cell_type": "markdown",
   "metadata": {
    "id": "JkG9iDZTIhzc"
   },
   "source": [
    "# Final test"
   ]
  },
  {
   "cell_type": "code",
   "execution_count": null,
   "metadata": {
    "id": "vJKgnu3_IjWE"
   },
   "outputs": [
    {
     "name": "stdout",
     "output_type": "stream",
     "text": [
      "AVERAGE SCORE: 111.5\n"
     ]
    }
   ],
   "source": [
    "# Initialize the Gym environment\n",
    "env = gym.make('CartPole-v1') \n",
    "env.seed(1) # Set a random seed for the environment (reproducible results)\n",
    "\n",
    "# This is for creating the output video in Colab, not required outside Colab\n",
    "if colab:\n",
    "  env = wrap_env(env, video_callable=lambda episode_id: True) # Save a video every episode\n",
    "\n",
    "# Let's try for a total of 10 episodes\n",
    "scores = []\n",
    "for num_episode in range(10): \n",
    "    # Reset the environment and get the initial state\n",
    "    _ = env.reset()\n",
    "    state, prev_frame = get_frame(env, None, resize=(x,y))\n",
    "    # Reset the score. The final score will be the total amount of steps before the pole falls\n",
    "    score = 0\n",
    "    done = False\n",
    "    # Go on until the pole falls off or the score reach 490\n",
    "    while not done:\n",
    "      # Choose the best action (temperature 0)\n",
    "      action, q_values = choose_action_epsilon_greedy(policy_net, state, epsilon=0) if use_epsilon_greedy else choose_action_softmax(policy_net, state, temperature=0) \n",
    "      # Apply the action and get the next state, the reward and a flag \"done\" that is True if the game is ended\n",
    "      _, reward, done, info = env.step(action)\n",
    "      state, prev_frame = get_frame(env, prev_frame, resize=(x,y))\n",
    "      # # plot prev_frame in grayscale\n",
    "      # plt.imshow(prev_frame, cmap='gray')\n",
    "      # plt.show()\n",
    "      # plt.close()\n",
    "      # Update the final score (+1 for each step)\n",
    "      score += reward \n",
    "    # Print the final score\n",
    "    #print(f\"EPISODE {num_episode + 1} - FINAL SCORE: {score}\") \n",
    "    scores.append(score)  \n",
    "env.close()\n",
    "\n",
    "#print the average score\n",
    "print(f\"AVERAGE SCORE: {np.mean(scores)}\")"
   ]
  },
  {
   "cell_type": "code",
   "execution_count": null,
   "metadata": {},
   "outputs": [
    {
     "name": "stderr",
     "output_type": "stream",
     "text": [
      "/home/irong/nn_deep_learning_2021/dl_env/lib/python3.7/site-packages/gym/envs/classic_control/cartpole.py:151: UserWarning: \u001b[33mWARN: You are calling 'step()' even though this environment has already returned done = True. You should always call 'reset()' once you receive 'done = True' -- any further steps are undefined behavior.\u001b[0m\n",
      "  \"You are calling 'step()' even though this \"\n"
     ]
    }
   ],
   "source": [
    "#let an agent play for a few episodes   \n",
    "#doesn't work in colab, but works in local\n",
    "if not colab:\n",
    "    env = gym.make('CartPole-v1')\n",
    "    #env.seed(42)\n",
    "\n",
    "    show_render = True\n",
    "\n",
    "    scores = []\n",
    "    # Reset the environment and get the initial state\n",
    "    _ = env.reset()\n",
    "    state, prev_frame = get_frame(env, None, device=device, resize=(x,y))\n",
    "    # Reset the score. The final score will be the total amount of steps before the pole falls\n",
    "    # Go on\n",
    "    for i in range(1000):\n",
    "        # Choose the best action (temperature 0)\n",
    "        action, q_values = choose_action_epsilon_greedy(policy_net, state, epsilon=0) if use_epsilon_greedy else choose_action_softmax(policy_net, state, temperature=0) \n",
    "        # Apply the action and get the next state, the reward and a flag \"done\" that is True if the game is ended\n",
    "        _, reward, done, info = env.step(action)\n",
    "        state, prev_frame = get_frame(env, prev_frame, device=device, resize=(x,y))\n",
    "\n",
    "    env.close()"
   ]
  },
  {
   "cell_type": "code",
   "execution_count": null,
   "metadata": {
    "id": "mxdtGJutLqlw"
   },
   "outputs": [],
   "source": [
    "# Display the videos, not required outside Colab\n",
    "if colab: \n",
    "    show_videos()"
   ]
  }
 ],
 "metadata": {
  "interpreter": {
   "hash": "cee89b7c6bc96453738565335b56b694d8a30ac65e979633b683f8408c8233c6"
  },
  "kernelspec": {
   "display_name": "Python 3.7.12 64-bit ('dl_env': venv)",
   "language": "python",
   "name": "python3"
  },
  "language_info": {
   "codemirror_mode": {
    "name": "ipython",
    "version": 3
   },
   "file_extension": ".py",
   "mimetype": "text/x-python",
   "name": "python",
   "nbconvert_exporter": "python",
   "pygments_lexer": "ipython3",
   "version": "3.7.12"
  },
  "orig_nbformat": 4
 },
 "nbformat": 4,
 "nbformat_minor": 2
}
