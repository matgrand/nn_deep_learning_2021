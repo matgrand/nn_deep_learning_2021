{
 "cells": [
  {
   "cell_type": "markdown",
   "metadata": {},
   "source": [
    "# HOMEWORK 3 NEURAL NETWORKS AND DEEP LEARNING\n",
    "\n",
    "---\n",
    "A.A. 2021/22 (6 CFU) - Dr. Alberto Testolin, Dr. Umberto Michieli\n",
    "---\n",
    "Student: Matteo Grandin\n",
    "---\n",
    "id: 2020374"
   ]
  },
  {
   "cell_type": "markdown",
   "metadata": {},
   "source": [
    "# Reinforced Learning"
   ]
  },
  {
   "cell_type": "markdown",
   "metadata": {},
   "source": [
    "### General overview\n",
    "In this homework you will learn how to implement and test neural network models for\n",
    "solving reinforcement learning problems. The basic tasks for the homework will require to implement some\n",
    "extensions to the code that you have seen in the Lab. The advanced tasks will require to train and test your\n",
    "learning agent on a different type of input (image pixels) or Gym environment. You can just choose one of\n",
    "the advanced tasks to get the maximum grade. If you are interested in improving your skills, feel free to try\n",
    "both advanced tasks. Given the higher computational complexity of RL, in this homework you don’t need to\n",
    "tune learning hyperparameters using search procedures and cross-validation; however, you are encouraged\n",
    "to play with model hyperparameters to find a satisfactory configuration.\n",
    "\n",
    "\n",
    "- 3 pt: use the notebook of Lab 07 to study how the exploration profile (either using eps-greedy or\n",
    "softmax) impacts the learning curve. Tune a bit the model hyperparameters or tweak the reward\n",
    "function to speed-up learning convergence (i.e., reach the same accuracy with fewer training episodes).\n",
    "\n",
    "YOU CAN DO JUST 1 OR BOTH\n",
    "- 5 pt: extend the notebook used in Lab 07, in order to learn to control the CartPole environment using\n",
    "directly the screen pixels, rather than the compact state representation used during the Lab (cart\n",
    "position, cart velocity, pole angle, pole angular velocity). NB: this will require to change the\n",
    "“observation_space” and to look for smart ways of encoding the pixels in a compact way to reduce\n",
    "computational complexity (e.g., crop the image around the pole, use difference of consecutive frames\n",
    "as input to consider temporal context, etc.).\n",
    "\n",
    "OR\n",
    "\n",
    "- 5 pt: train a deep RL agent on a different Gym environment. You are free to choose whatever Gym\n",
    "environment you like from the available list, or even explore other simulation platforms."
   ]
  },
  {
   "cell_type": "code",
   "execution_count": 21,
   "metadata": {},
   "outputs": [],
   "source": [
    "# Boolean value to check if we are in colab or not\n",
    "colab = False "
   ]
  },
  {
   "cell_type": "code",
   "execution_count": 22,
   "metadata": {
    "id": "jBelL8nBZVsn"
   },
   "outputs": [
    {
     "name": "stdout",
     "output_type": "stream",
     "text": [
      "Requirement already satisfied: gym in /home/irong/nn_deep_learning_2021/dl_env/lib/python3.7/site-packages (0.21.0)\n",
      "Requirement already satisfied: importlib-metadata>=4.8.1 in /home/irong/nn_deep_learning_2021/dl_env/lib/python3.7/site-packages (from gym) (4.8.2)\n",
      "Requirement already satisfied: cloudpickle>=1.2.0 in /home/irong/nn_deep_learning_2021/dl_env/lib/python3.7/site-packages (from gym) (2.0.0)\n",
      "Requirement already satisfied: numpy>=1.18.0 in /home/irong/nn_deep_learning_2021/dl_env/lib/python3.7/site-packages (from gym) (1.19.5)\n",
      "Requirement already satisfied: typing-extensions>=3.6.4 in /home/irong/nn_deep_learning_2021/dl_env/lib/python3.7/site-packages (from importlib-metadata>=4.8.1->gym) (4.0.1)\n",
      "Requirement already satisfied: zipp>=0.5 in /home/irong/nn_deep_learning_2021/dl_env/lib/python3.7/site-packages (from importlib-metadata>=4.8.1->gym) (3.6.0)\n",
      "Note: you may need to restart the kernel to use updated packages.\n"
     ]
    }
   ],
   "source": [
    "if colab:\n",
    "    !pip install gym\n",
    "else:\n",
    "    %pip install gym"
   ]
  },
  {
   "cell_type": "code",
   "execution_count": 23,
   "metadata": {
    "id": "a7EkHQ0VsNnJ"
   },
   "outputs": [],
   "source": [
    "import random\n",
    "import torch\n",
    "import numpy as np\n",
    "import gym\n",
    "import matplotlib.pyplot as plt\n",
    "from tqdm.notebook import tqdm\n",
    "\n",
    "from torch import nn\n",
    "from collections import deque # this python module implements exactly what we need for the replay memeory\n"
   ]
  },
  {
   "cell_type": "code",
   "execution_count": 24,
   "metadata": {
    "id": "E0oXbzI2ZAfv"
   },
   "outputs": [],
   "source": [
    "if colab:\n",
    "    !apt update\n",
    "    !apt-get install python-opengl -y\n",
    "    !apt install xvfb -y\n",
    "    !pip install pyvirtualdisplay\n",
    "    !pip install piglet\n",
    "    import glob\n",
    "    import io\n",
    "    import base64\n",
    "    import os\n",
    "    from IPython.display import HTML\n",
    "    from IPython import display as ipythondisplay\n",
    "    from pyvirtualdisplay import Display\n",
    "    from gym.wrappers import Monitor\n",
    "\n",
    "    display = Display(visible=0, size=(1400, 900))\n",
    "    display.start()\n",
    "\n",
    "    if type(os.environ.get(\"DISPLAY\")) is not str or len(os.environ.get(\"DISPLAY\"))==0:\n",
    "        !bash ../xvfb start\n",
    "        %env DISPLAY=:1\n",
    "\n",
    "    \"\"\"\n",
    "    Utility functions to enable video recording of gym environment and displaying it\n",
    "    To enable video, just do \"env = wrap_env(env)\"\"\n",
    "    \"\"\"\n",
    "\n",
    "    def show_videos():\n",
    "        mp4list = glob.glob('video/*.mp4')\n",
    "        mp4list.sort()\n",
    "        for mp4 in mp4list:\n",
    "            print(f\"\\nSHOWING VIDEO {mp4}\")\n",
    "            video = io.open(mp4, 'r+b').read()\n",
    "            encoded = base64.b64encode(video)\n",
    "            ipythondisplay.display(HTML(data='''<video alt=\"test\" autoplay \n",
    "                        loop controls style=\"height: 400px;\">\n",
    "                        <source src=\"data:video/mp4;base64,{0}\" type=\"video/mp4\" />\n",
    "                    </video>'''.format(encoded.decode('ascii'))))\n",
    "            \n",
    "    def wrap_env(env, video_callable=None):\n",
    "        env = Monitor(env, './video', force=True, video_callable=video_callable)\n",
    "        return env"
   ]
  },
  {
   "cell_type": "code",
   "execution_count": 25,
   "metadata": {
    "id": "1axKWEBl8uik"
   },
   "outputs": [],
   "source": [
    "class ReplayMemory(object):\n",
    "\n",
    "    def __init__(self, capacity):\n",
    "        self.memory = deque(maxlen=capacity) # Define a queue with maxlen \"capacity\"\n",
    "\n",
    "    def push(self, state, action, next_state, reward):\n",
    "        # TODO: Add the tuple (state, action, next_state, reward) to the queue\n",
    "        self.memory.append((state, action, next_state, reward))\n",
    "\n",
    "    def sample(self, batch_size):\n",
    "        batch_size = min(batch_size, len(self)) # Get all the samples if the requested batch_size is higher than the number of sample currently in the memory\n",
    "        return random.sample(self.memory, batch_size) # Randomly select \"batch_size\" samples\n",
    "\n",
    "    def __len__(self):\n",
    "        return len(self.memory) # Return the number of samples currently stored in the memory"
   ]
  },
  {
   "cell_type": "code",
   "execution_count": 26,
   "metadata": {
    "id": "W41rXekb8x7K"
   },
   "outputs": [],
   "source": [
    "class DQN(nn.Module):\n",
    "\n",
    "    def __init__(self, state_space_dim, action_space_dim):\n",
    "        super().__init__()\n",
    "\n",
    "        self.linear = nn.Sequential(\n",
    "            #inpt layer\n",
    "            nn.Linear(state_space_dim, 128),\n",
    "            nn.Tanh(),\n",
    "            #hidden layer\n",
    "            nn.Linear(128, 128),\n",
    "            nn.Tanh(),\n",
    "            #outpt layer\n",
    "            nn.Linear(128, action_space_dim),\n",
    "                )\n",
    "\n",
    "    def forward(self, x):\n",
    "        return self.linear(x)"
   ]
  },
  {
   "cell_type": "code",
   "execution_count": 27,
   "metadata": {
    "id": "tLPAsTT4gpeW"
   },
   "outputs": [],
   "source": [
    "# Define an example network\n",
    "net = DQN(state_space_dim=4, action_space_dim=2)"
   ]
  },
  {
   "cell_type": "markdown",
   "metadata": {
    "id": "ynfEXqjGfbpl"
   },
   "source": [
    "## Exploration Policy"
   ]
  },
  {
   "cell_type": "code",
   "execution_count": 28,
   "metadata": {
    "id": "ZXfh_Ub1fv4c"
   },
   "outputs": [],
   "source": [
    "def choose_action_epsilon_greedy(net, state, epsilon):\n",
    "    \n",
    "    if epsilon > 1 or epsilon < 0:\n",
    "        raise Exception('The epsilon value must be between 0 and 1')\n",
    "                \n",
    "    # Evaluate the network output from the current state\n",
    "    with torch.no_grad():\n",
    "        net.eval()\n",
    "        state = torch.tensor(state, dtype=torch.float32) # Convert the state to tensor\n",
    "        net_out = net(state)\n",
    "\n",
    "    # Get the best action (argmax of the network output)\n",
    "    best_action = int(net_out.argmax())\n",
    "    # Get the number of possible actions\n",
    "    action_space_dim = net_out.shape[-1]\n",
    "\n",
    "    # Select a non optimal action with probability epsilon, otherwise choose the best action\n",
    "    if random.random() < epsilon:\n",
    "        # List of non-optimal actions\n",
    "        non_optimal_actions = [a for a in range(action_space_dim) if a != best_action]\n",
    "        # Select randomly\n",
    "        action = random.choice(non_optimal_actions)\n",
    "    else:\n",
    "        # Select best action\n",
    "        action = best_action\n",
    "        \n",
    "    return action, net_out.numpy()"
   ]
  },
  {
   "cell_type": "code",
   "execution_count": 29,
   "metadata": {
    "id": "taW_cjBsf4sW"
   },
   "outputs": [],
   "source": [
    "def choose_action_softmax(net, state, temperature):\n",
    "    \n",
    "    if temperature < 0:\n",
    "        raise Exception('The temperature value must be greater than or equal to 0 ')\n",
    "        \n",
    "    # If the temperature is 0, just select the best action using the eps-greedy policy with epsilon = 0\n",
    "    if temperature == 0:\n",
    "        return choose_action_epsilon_greedy(net, state, 0)\n",
    "    \n",
    "    # Evaluate the network output from the current state\n",
    "    with torch.no_grad():\n",
    "        net.eval()\n",
    "        state = torch.tensor(state, dtype=torch.float32)\n",
    "        net_out = net(state)\n",
    "\n",
    "    # Apply softmax with temp\n",
    "    temperature = max(temperature, 1e-8) # set a minimum to the temperature for numerical stability\n",
    "    softmax_out = nn.functional.softmax(net_out / temperature, dim=0).numpy()\n",
    "                \n",
    "    # Sample the action using softmax output as mass pdf\n",
    "    all_possible_actions = np.arange(0, softmax_out.shape[-1])\n",
    "    action = np.random.choice(all_possible_actions, p=softmax_out) # this samples a random element from \"all_possible_actions\" with the probability distribution p (softmax_out in this case)\n",
    "    \n",
    "    return action, net_out.numpy()"
   ]
  },
  {
   "cell_type": "markdown",
   "metadata": {
    "id": "QMXhJfZcpqIA"
   },
   "source": [
    "### Exploration profile"
   ]
  },
  {
   "cell_type": "code",
   "execution_count": 30,
   "metadata": {
    "id": "G-f78CC3ptt2"
   },
   "outputs": [
    {
     "data": {
      "text/plain": [
       "Text(0, 0.5, 'Exploration profile (Softmax temperature)')"
      ]
     },
     "execution_count": 30,
     "metadata": {},
     "output_type": "execute_result"
    },
    {
     "data": {
      "image/png": "[encoded data removed]",
      "text/plain": [
       "<Figure size 864x576 with 1 Axes>"
      ]
     },
     "metadata": {
      "needs_background": "light"
     },
     "output_type": "display_data"
    }
   ],
   "source": [
    "### Define exploration profile\n",
    "initial_value = 5\n",
    "num_iterations = 300 #1000\n",
    "exp_decay = np.exp(-np.log(initial_value) / num_iterations * 6) # We compute the exponential decay in such a way the shape of the exploration profile does not depend on the number of iterations\n",
    "exploration_profile = [initial_value * (exp_decay ** i) for i in range(num_iterations)]\n",
    "\n",
    "### Plot exploration profile\n",
    "plt.figure(figsize=(12,8))\n",
    "plt.plot(exploration_profile)\n",
    "plt.grid()\n",
    "plt.xlabel('Iteration')\n",
    "plt.ylabel('Exploration profile (Softmax temperature)')"
   ]
  },
  {
   "cell_type": "markdown",
   "metadata": {
    "id": "zjKmdFhowRbj"
   },
   "source": [
    "# Gym Environment (CartPole-v1)"
   ]
  },
  {
   "cell_type": "code",
   "execution_count": 31,
   "metadata": {
    "id": "Ar0yNaNrCnjn"
   },
   "outputs": [
    {
     "name": "stdout",
     "output_type": "stream",
     "text": [
      "STATE SPACE SIZE: 4\n",
      "ACTION SPACE SIZE: 2\n"
     ]
    }
   ],
   "source": [
    "### Create environment\n",
    "env = gym.make('CartPole-v1') # Initialize the Gym environment\n",
    "env.seed(0) # Set a random seed for the environment (reproducible results)\n",
    "\n",
    "# Get the shapes of the state space (observation_space) and action space (action_space)\n",
    "state_space_dim = env.observation_space.shape[0]\n",
    "action_space_dim = env.action_space.n\n",
    "\n",
    "print(f\"STATE SPACE SIZE: {state_space_dim}\")\n",
    "print(f\"ACTION SPACE SIZE: {action_space_dim}\")"
   ]
  },
  {
   "cell_type": "code",
   "execution_count": 32,
   "metadata": {
    "id": "2g4NatpgSpbc"
   },
   "outputs": [
    {
     "name": "stdout",
     "output_type": "stream",
     "text": [
      "EPISODE 1 - FINAL SCORE: 20.0\n",
      "EPISODE 2 - FINAL SCORE: 13.0\n",
      "EPISODE 3 - FINAL SCORE: 19.0\n",
      "EPISODE 4 - FINAL SCORE: 46.0\n",
      "EPISODE 5 - FINAL SCORE: 12.0\n",
      "EPISODE 6 - FINAL SCORE: 23.0\n",
      "EPISODE 7 - FINAL SCORE: 12.0\n",
      "EPISODE 8 - FINAL SCORE: 52.0\n",
      "EPISODE 9 - FINAL SCORE: 20.0\n",
      "EPISODE 10 - FINAL SCORE: 16.0\n"
     ]
    }
   ],
   "source": [
    "# Initialize the Gym environment\n",
    "env = gym.make('CartPole-v1') \n",
    "env.seed(0) # Set a random seed for the environment (reproducible results)\n",
    "\n",
    "# This is for creating the output video in Colab, not required outside Colab\n",
    "if colab:\n",
    "  env = wrap_env(env, video_callable=lambda episode_id: True)\n",
    "\n",
    "# Let's try for a total of 10 episodes\n",
    "for num_episode in range(10): \n",
    "    # Reset the environment and get the initial state\n",
    "    state = env.reset()\n",
    "    # Reset the score. The final score will be the total amount of steps before the pole falls\n",
    "    score = 0\n",
    "    done = False\n",
    "    # Go on until the pole falls off or the score reach 490\n",
    "    while not done and score < 490:\n",
    "      # Choose a random action\n",
    "      action = random.choice([0, 1])\n",
    "      # Apply the action and get the next state, the reward and a flag \"done\" that is True if the game is ended\n",
    "      next_state, reward, done, info = env.step(action)\n",
    "      # Visually render the environment (optional, comment this line to speed up the simulation)\n",
    "      env.render()\n",
    "      # Update the final score (+1 for each step)\n",
    "      score += reward \n",
    "      # Set the current state for the next iteration\n",
    "      state = next_state\n",
    "      # Check if the episode ended (the pole fell down)\n",
    "    # Print the final score\n",
    "    print(f\"EPISODE {num_episode + 1} - FINAL SCORE: {score}\") \n",
    "\n",
    "env.close()\n"
   ]
  },
  {
   "cell_type": "code",
   "execution_count": 33,
   "metadata": {
    "id": "AnX-nFLiVPH6"
   },
   "outputs": [],
   "source": [
    "# Display the videos, not required outside Colab\n",
    "if colab: \n",
    "    show_videos()"
   ]
  },
  {
   "cell_type": "markdown",
   "metadata": {
    "id": "9KXpjzf2vdeL"
   },
   "source": [
    "# Network update"
   ]
  },
  {
   "cell_type": "code",
   "execution_count": 34,
   "metadata": {
    "id": "lVpk-g0i9d-B"
   },
   "outputs": [],
   "source": [
    "# Set random seeds\n",
    "torch.manual_seed(0)\n",
    "np.random.seed(0)\n",
    "random.seed(0)\n",
    "\n",
    "### PARAMETERS\n",
    "gamma = 0.97   # gamma parameter for the long term reward\n",
    "replay_memory_capacity = 10000   # Replay memory capacity\n",
    "lr = 1e-2   # Optimizer learning rate\n",
    "target_net_update_steps = 10   # Number of episodes to wait before updating the target network\n",
    "batch_size = 128   # Number of samples to take from the replay memory for each update\n",
    "bad_state_penalty = 0   # Penalty to the reward when we are in a bad state (in this case when the pole falls down) \n",
    "min_samples_for_training = 1000   # Minimum samples in the replay memory to enable the training"
   ]
  },
  {
   "cell_type": "code",
   "execution_count": 35,
   "metadata": {
    "id": "2k3ZQuh8xHo7"
   },
   "outputs": [],
   "source": [
    "### Initialize the replay memory\n",
    "replay_mem = ReplayMemory(replay_memory_capacity)    \n",
    "\n",
    "### Initialize the policy network\n",
    "policy_net = DQN(state_space_dim, action_space_dim)\n",
    "\n",
    "### Initialize the target network with the same weights of the policy network\n",
    "target_net = DQN(state_space_dim, action_space_dim)\n",
    "target_net.load_state_dict(policy_net.state_dict()) # This will copy the weights of the policy network to the target network\n",
    "\n",
    "### Initialize the optimizer\n",
    "optimizer = torch.optim.SGD(policy_net.parameters(), lr=lr) # The optimizer will update ONLY the parameters of the policy network\n",
    "\n",
    "### Initialize the loss function (Huber loss)\n",
    "loss_fn = nn.SmoothL1Loss()"
   ]
  },
  {
   "cell_type": "code",
   "execution_count": 36,
   "metadata": {
    "id": "Sj1hEvPOvkBX"
   },
   "outputs": [],
   "source": [
    "def update_step(policy_net, target_net, replay_mem, gamma, optimizer, loss_fn, batch_size):\n",
    "        \n",
    "    # Sample the data from the replay memory\n",
    "    batch = replay_mem.sample(batch_size)\n",
    "    batch_size = len(batch)\n",
    "\n",
    "    # Create tensors for each element of the batch\n",
    "    states      = torch.tensor([s[0] for s in batch], dtype=torch.float32)\n",
    "    actions     = torch.tensor([s[1] for s in batch], dtype=torch.int64)\n",
    "    rewards     = torch.tensor([s[3] for s in batch], dtype=torch.float32)\n",
    "\n",
    "    # Compute a mask of non-final states (all the elements where the next state is not None)\n",
    "    non_final_next_states = torch.tensor([s[2] for s in batch if s[2] is not None], dtype=torch.float32) # the next state can be None if the game has ended\n",
    "    non_final_mask = torch.tensor([s[2] is not None for s in batch], dtype=torch.bool)\n",
    "\n",
    "    # Compute all the Q values (forward pass)\n",
    "    policy_net.train()\n",
    "    q_values = policy_net(states)\n",
    "    # Select the proper Q value for the corresponding action taken Q(s_t, a)\n",
    "    state_action_values = q_values.gather(1, actions.unsqueeze(1))\n",
    "\n",
    "    # Compute the value function of the next states using the target network V(s_{t+1}) = max_a( Q_target(s_{t+1}, a)) )\n",
    "    with torch.no_grad():\n",
    "      target_net.eval()\n",
    "      q_values_target = target_net(non_final_next_states)\n",
    "    next_state_max_q_values = torch.zeros(batch_size)\n",
    "    next_state_max_q_values[non_final_mask] = q_values_target.max(dim=1)[0]\n",
    "\n",
    "    # Compute the expected Q values\n",
    "    expected_state_action_values = rewards + (next_state_max_q_values * gamma)\n",
    "    expected_state_action_values = expected_state_action_values.unsqueeze(1) # Set the required tensor shape\n",
    "\n",
    "    # Compute the Huber loss\n",
    "    loss = loss_fn(state_action_values, expected_state_action_values)\n",
    "\n",
    "    # Optimize the model\n",
    "    optimizer.zero_grad()\n",
    "    loss.backward()\n",
    "    # Apply gradient clipping (clip all the gradients greater than 2 for training stability)\n",
    "    nn.utils.clip_grad_norm_(policy_net.parameters(), 2)\n",
    "    optimizer.step()"
   ]
  },
  {
   "cell_type": "code",
   "execution_count": 37,
   "metadata": {
    "id": "WF6Zf53FoRDZ"
   },
   "outputs": [
    {
     "data": {
      "application/vnd.jupyter.widget-view+json": {
       "model_id": "b35e841938504c34bef43bef0c3df4a7",
       "version_major": 2,
       "version_minor": 0
      },
      "text/plain": [
       "  0%|          | 0/300 [00:00<?, ?it/s]"
      ]
     },
     "metadata": {},
     "output_type": "display_data"
    },
    {
     "name": "stdout",
     "output_type": "stream",
     "text": [
      "Updating target network...\n",
      "EPISODE: 1 - FINAL SCORE: 12 - Temperature: 5.0\n",
      "EPISODE: 2 - FINAL SCORE: 17 - Temperature: 4.841618928628149\n",
      "EPISODE: 3 - FINAL SCORE: 41 - Temperature: 4.688254770010078\n",
      "EPISODE: 4 - FINAL SCORE: 19 - Temperature: 4.5397486073424\n",
      "EPISODE: 5 - FINAL SCORE: 24 - Temperature: 4.395946557704448\n",
      "EPISODE: 6 - FINAL SCORE: 16 - Temperature: 4.2566996126039225\n",
      "EPISODE: 7 - FINAL SCORE: 30 - Temperature: 4.121863483573453\n",
      "EPISODE: 8 - FINAL SCORE: 29 - Temperature: 3.9912984526580777\n",
      "EPISODE: 9 - FINAL SCORE: 15 - Temperature: 3.864869227638718\n",
      "EPISODE: 10 - FINAL SCORE: 21 - Temperature: 3.7424448018416143\n",
      "Updating target network...\n",
      "EPISODE: 11 - FINAL SCORE: 31 - Temperature: 3.623898318388477\n",
      "EPISODE: 12 - FINAL SCORE: 59 - Temperature: 3.509106938746674\n",
      "EPISODE: 13 - FINAL SCORE: 29 - Temperature: 3.397951715443255\n",
      "EPISODE: 14 - FINAL SCORE: 26 - Temperature: 3.2903174688109105\n",
      "EPISODE: 15 - FINAL SCORE: 18 - Temperature: 3.186092667638153\n",
      "EPISODE: 16 - FINAL SCORE: 14 - Temperature: 3.085169313600047\n",
      "EPISODE: 17 - FINAL SCORE: 17 - Temperature: 2.9874428293497406\n",
      "EPISODE: 18 - FINAL SCORE: 27 - Temperature: 2.8928119501548273\n",
      "EPISODE: 19 - FINAL SCORE: 20 - Temperature: 2.8011786189662646\n",
      "EPISODE: 20 - FINAL SCORE: 67 - Temperature: 2.712447884811105\n",
      "Updating target network...\n",
      "EPISODE: 21 - FINAL SCORE: 16 - Temperature: 2.626527804403766\n",
      "EPISODE: 22 - FINAL SCORE: 25 - Temperature: 2.5433293468738816\n",
      "EPISODE: 23 - FINAL SCORE: 18 - Temperature: 2.4627663015120103\n",
      "EPISODE: 24 - FINAL SCORE: 28 - Temperature: 2.3847551884376177\n",
      "EPISODE: 25 - FINAL SCORE: 11 - Temperature: 2.3092151720967515\n",
      "EPISODE: 26 - FINAL SCORE: 30 - Temperature: 2.2360679774997885\n",
      "EPISODE: 27 - FINAL SCORE: 13 - Temperature: 2.1652378091124476\n",
      "EPISODE: 28 - FINAL SCORE: 23 - Temperature: 2.0966512723160338\n",
      "EPISODE: 29 - FINAL SCORE: 14 - Temperature: 2.0302372973555203\n",
      "EPISODE: 30 - FINAL SCORE: 26 - Temperature: 1.9659270656966688\n",
      "Updating target network...\n",
      "EPISODE: 31 - FINAL SCORE: 13 - Temperature: 1.903653938715877\n",
      "EPISODE: 32 - FINAL SCORE: 26 - Temperature: 1.8433533886488642\n",
      "EPISODE: 33 - FINAL SCORE: 22 - Temperature: 1.7849629317266367\n",
      "EPISODE: 34 - FINAL SCORE: 16 - Temperature: 1.7284220634294556\n",
      "EPISODE: 35 - FINAL SCORE: 16 - Temperature: 1.6736721957917151\n",
      "EPISODE: 36 - FINAL SCORE: 66 - Temperature: 1.620656596692761\n",
      "EPISODE: 37 - FINAL SCORE: 18 - Temperature: 1.5693203310707495\n"
     ]
    },
    {
     "name": "stderr",
     "output_type": "stream",
     "text": [
      "/home/irong/nn_deep_learning_2021/dl_env/lib/python3.7/site-packages/ipykernel_launcher.py:8: UserWarning: Creating a tensor from a list of numpy.ndarrays is extremely slow. Please consider converting the list to a single numpy.ndarray with numpy.array() before converting to a tensor. (Triggered internally at  ../torch/csrc/utils/tensor_new.cpp:201.)\n",
      "  \n"
     ]
    },
    {
     "name": "stdout",
     "output_type": "stream",
     "text": [
      "EPISODE: 38 - FINAL SCORE: 91 - Temperature: 1.519610203998627\n",
      "EPISODE: 39 - FINAL SCORE: 31 - Temperature: 1.471474705563247\n",
      "EPISODE: 40 - FINAL SCORE: 11 - Temperature: 1.42486395749051\n",
      "Updating target network...\n",
      "EPISODE: 41 - FINAL SCORE: 31 - Temperature: 1.3797296614612136\n",
      "EPISODE: 42 - FINAL SCORE: 12 - Temperature: 1.3360250490640642\n",
      "EPISODE: 43 - FINAL SCORE: 18 - Temperature: 1.293704833333985\n",
      "EPISODE: 44 - FINAL SCORE: 9 - Temperature: 1.2527251618255093\n",
      "EPISODE: 45 - FINAL SCORE: 11 - Temperature: 1.2130435711726293\n",
      "EPISODE: 46 - FINAL SCORE: 34 - Temperature: 1.1746189430880176\n",
      "EPISODE: 47 - FINAL SCORE: 25 - Temperature: 1.1374114617560276\n",
      "EPISODE: 48 - FINAL SCORE: 13 - Temperature: 1.101382572575319\n",
      "EPISODE: 49 - FINAL SCORE: 17 - Temperature: 1.066494942208366\n",
      "EPISODE: 50 - FINAL SCORE: 25 - Temperature: 1.032712419896442\n",
      "Updating target network...\n",
      "EPISODE: 51 - FINAL SCORE: 18 - Temperature: 0.9999999999999988\n",
      "EPISODE: 52 - FINAL SCORE: 18 - Temperature: 0.9683237857256287\n",
      "EPISODE: 53 - FINAL SCORE: 19 - Temperature: 0.9376509540020144\n",
      "EPISODE: 54 - FINAL SCORE: 23 - Temperature: 0.907949721468479\n",
      "EPISODE: 55 - FINAL SCORE: 33 - Temperature: 0.8791893115408888\n",
      "EPISODE: 56 - FINAL SCORE: 21 - Temperature: 0.8513399225207835\n",
      "EPISODE: 57 - FINAL SCORE: 20 - Temperature: 0.8243726967146894\n",
      "EPISODE: 58 - FINAL SCORE: 8 - Temperature: 0.7982596905316146\n",
      "EPISODE: 59 - FINAL SCORE: 23 - Temperature: 0.7729738455277428\n",
      "EPISODE: 60 - FINAL SCORE: 38 - Temperature: 0.748488960368322\n",
      "Updating target network...\n",
      "EPISODE: 61 - FINAL SCORE: 23 - Temperature: 0.7247796636776946\n",
      "EPISODE: 62 - FINAL SCORE: 43 - Temperature: 0.701821387749334\n",
      "EPISODE: 63 - FINAL SCORE: 27 - Temperature: 0.6795903430886502\n",
      "EPISODE: 64 - FINAL SCORE: 44 - Temperature: 0.6580634937621814\n",
      "EPISODE: 65 - FINAL SCORE: 32 - Temperature: 0.6372185335276298\n",
      "EPISODE: 66 - FINAL SCORE: 44 - Temperature: 0.6170338627200087\n",
      "EPISODE: 67 - FINAL SCORE: 50 - Temperature: 0.5974885658699474\n",
      "EPISODE: 68 - FINAL SCORE: 10 - Temperature: 0.5785623900309649\n",
      "EPISODE: 69 - FINAL SCORE: 27 - Temperature: 0.5602357237932523\n",
      "EPISODE: 70 - FINAL SCORE: 61 - Temperature: 0.5424895769622203\n",
      "Updating target network...\n",
      "EPISODE: 71 - FINAL SCORE: 20 - Temperature: 0.5253055608807526\n",
      "EPISODE: 72 - FINAL SCORE: 23 - Temperature: 0.5086658693747756\n",
      "EPISODE: 73 - FINAL SCORE: 37 - Temperature: 0.49255326030240154\n",
      "EPISODE: 74 - FINAL SCORE: 48 - Temperature: 0.476951037687523\n",
      "EPISODE: 75 - FINAL SCORE: 61 - Temperature: 0.4618430344193498\n",
      "EPISODE: 76 - FINAL SCORE: 19 - Temperature: 0.4472135954999572\n",
      "EPISODE: 77 - FINAL SCORE: 20 - Temperature: 0.43304756182248905\n",
      "EPISODE: 78 - FINAL SCORE: 46 - Temperature: 0.4193302544632063\n",
      "EPISODE: 79 - FINAL SCORE: 24 - Temperature: 0.4060474594711036\n",
      "EPISODE: 80 - FINAL SCORE: 82 - Temperature: 0.3931854131393333\n",
      "Updating target network...\n",
      "EPISODE: 81 - FINAL SCORE: 28 - Temperature: 0.38073078774317504\n",
      "EPISODE: 82 - FINAL SCORE: 15 - Temperature: 0.3686706777297724\n",
      "EPISODE: 83 - FINAL SCORE: 15 - Temperature: 0.3569925863453269\n",
      "EPISODE: 84 - FINAL SCORE: 31 - Temperature: 0.34568441268589073\n",
      "EPISODE: 85 - FINAL SCORE: 33 - Temperature: 0.3347344391583426\n",
      "EPISODE: 86 - FINAL SCORE: 25 - Temperature: 0.3241313193385519\n",
      "EPISODE: 87 - FINAL SCORE: 35 - Temperature: 0.3138640662141496\n",
      "EPISODE: 88 - FINAL SCORE: 54 - Temperature: 0.30392204079972507\n",
      "EPISODE: 89 - FINAL SCORE: 60 - Temperature: 0.2942949411126491\n",
      "EPISODE: 90 - FINAL SCORE: 20 - Temperature: 0.2849727914981017\n",
      "Updating target network...\n",
      "EPISODE: 91 - FINAL SCORE: 35 - Temperature: 0.2759459322922424\n",
      "EPISODE: 92 - FINAL SCORE: 46 - Temperature: 0.2672050098128125\n",
      "EPISODE: 93 - FINAL SCORE: 18 - Temperature: 0.25874096666679663\n",
      "EPISODE: 94 - FINAL SCORE: 21 - Temperature: 0.25054503236510156\n",
      "EPISODE: 95 - FINAL SCORE: 51 - Temperature: 0.24260871423452557\n",
      "EPISODE: 96 - FINAL SCORE: 48 - Temperature: 0.23492378861760327\n",
      "EPISODE: 97 - FINAL SCORE: 36 - Temperature: 0.22748229235120526\n",
      "EPISODE: 98 - FINAL SCORE: 40 - Temperature: 0.22027651451506355\n",
      "EPISODE: 99 - FINAL SCORE: 39 - Temperature: 0.213298988441673\n",
      "EPISODE: 100 - FINAL SCORE: 39 - Temperature: 0.20654248397928815\n",
      "Updating target network...\n",
      "EPISODE: 101 - FINAL SCORE: 96 - Temperature: 0.19999999999999957\n",
      "EPISODE: 102 - FINAL SCORE: 26 - Temperature: 0.19366475714512552\n",
      "EPISODE: 103 - FINAL SCORE: 50 - Temperature: 0.18753019080040265\n",
      "EPISODE: 104 - FINAL SCORE: 80 - Temperature: 0.18158994429369557\n",
      "EPISODE: 105 - FINAL SCORE: 76 - Temperature: 0.17583786230817755\n",
      "EPISODE: 106 - FINAL SCORE: 150 - Temperature: 0.17026798450415653\n",
      "EPISODE: 107 - FINAL SCORE: 44 - Temperature: 0.1648745393429377\n",
      "EPISODE: 108 - FINAL SCORE: 85 - Temperature: 0.15965193810632275\n",
      "EPISODE: 109 - FINAL SCORE: 67 - Temperature: 0.15459476910554837\n",
      "EPISODE: 110 - FINAL SCORE: 63 - Temperature: 0.14969779207366424\n",
      "Updating target network...\n",
      "EPISODE: 111 - FINAL SCORE: 50 - Temperature: 0.14495593273553872\n",
      "EPISODE: 112 - FINAL SCORE: 85 - Temperature: 0.14036427754986663\n",
      "EPISODE: 113 - FINAL SCORE: 47 - Temperature: 0.13591806861772987\n",
      "EPISODE: 114 - FINAL SCORE: 42 - Temperature: 0.1316126987524361\n",
      "EPISODE: 115 - FINAL SCORE: 73 - Temperature: 0.12744370670552582\n",
      "EPISODE: 116 - FINAL SCORE: 36 - Temperature: 0.1234067725440016\n",
      "EPISODE: 117 - FINAL SCORE: 31 - Temperature: 0.11949771317398936\n",
      "EPISODE: 118 - FINAL SCORE: 68 - Temperature: 0.11571247800619283\n",
      "EPISODE: 119 - FINAL SCORE: 69 - Temperature: 0.11204714475865032\n",
      "EPISODE: 120 - FINAL SCORE: 83 - Temperature: 0.10849791539244395\n",
      "Updating target network...\n",
      "EPISODE: 121 - FINAL SCORE: 48 - Temperature: 0.10506111217615041\n",
      "EPISODE: 122 - FINAL SCORE: 33 - Temperature: 0.10173317387495502\n",
      "EPISODE: 123 - FINAL SCORE: 73 - Temperature: 0.09851065206048018\n",
      "EPISODE: 124 - FINAL SCORE: 35 - Temperature: 0.09539020753750449\n",
      "EPISODE: 125 - FINAL SCORE: 36 - Temperature: 0.09236860688386986\n",
      "EPISODE: 126 - FINAL SCORE: 63 - Temperature: 0.08944271909999134\n",
      "EPISODE: 127 - FINAL SCORE: 108 - Temperature: 0.08660951236449771\n",
      "EPISODE: 128 - FINAL SCORE: 41 - Temperature: 0.08386605089264117\n",
      "EPISODE: 129 - FINAL SCORE: 62 - Temperature: 0.08120949189422062\n",
      "EPISODE: 130 - FINAL SCORE: 84 - Temperature: 0.07863708262786658\n",
      "Updating target network...\n",
      "EPISODE: 131 - FINAL SCORE: 59 - Temperature: 0.07614615754863491\n",
      "EPISODE: 132 - FINAL SCORE: 91 - Temperature: 0.0737341355459544\n",
      "EPISODE: 133 - FINAL SCORE: 74 - Temperature: 0.07139851726906529\n",
      "EPISODE: 134 - FINAL SCORE: 78 - Temperature: 0.06913688253717806\n",
      "EPISODE: 135 - FINAL SCORE: 48 - Temperature: 0.06694688783166845\n",
      "EPISODE: 136 - FINAL SCORE: 59 - Temperature: 0.06482626386771029\n",
      "EPISODE: 137 - FINAL SCORE: 83 - Temperature: 0.06277281324282984\n",
      "EPISODE: 138 - FINAL SCORE: 59 - Temperature: 0.060784408159944944\n",
      "EPISODE: 139 - FINAL SCORE: 108 - Temperature: 0.05885898822252975\n",
      "EPISODE: 140 - FINAL SCORE: 82 - Temperature: 0.056994558299620274\n",
      "Updating target network...\n",
      "EPISODE: 141 - FINAL SCORE: 74 - Temperature: 0.05518918645844841\n",
      "EPISODE: 142 - FINAL SCORE: 50 - Temperature: 0.05344100196256244\n",
      "EPISODE: 143 - FINAL SCORE: 101 - Temperature: 0.05174819333335927\n",
      "EPISODE: 144 - FINAL SCORE: 83 - Temperature: 0.050109006473020246\n",
      "EPISODE: 145 - FINAL SCORE: 58 - Temperature: 0.04852174284690505\n",
      "EPISODE: 146 - FINAL SCORE: 52 - Temperature: 0.04698475772352061\n",
      "EPISODE: 147 - FINAL SCORE: 66 - Temperature: 0.045496458470241\n",
      "EPISODE: 148 - FINAL SCORE: 101 - Temperature: 0.04405530290301266\n",
      "EPISODE: 149 - FINAL SCORE: 86 - Temperature: 0.04265979768833455\n",
      "EPISODE: 150 - FINAL SCORE: 150 - Temperature: 0.04130849679585758\n",
      "Updating target network...\n",
      "EPISODE: 151 - FINAL SCORE: 79 - Temperature: 0.03999999999999986\n",
      "EPISODE: 152 - FINAL SCORE: 58 - Temperature: 0.03873295142902506\n",
      "EPISODE: 153 - FINAL SCORE: 131 - Temperature: 0.03750603816008049\n",
      "EPISODE: 154 - FINAL SCORE: 111 - Temperature: 0.036317988858739075\n",
      "EPISODE: 155 - FINAL SCORE: 99 - Temperature: 0.03516757246163547\n",
      "EPISODE: 156 - FINAL SCORE: 68 - Temperature: 0.03405359690083126\n",
      "EPISODE: 157 - FINAL SCORE: 76 - Temperature: 0.032974907868587505\n",
      "EPISODE: 158 - FINAL SCORE: 85 - Temperature: 0.03193038762126451\n",
      "EPISODE: 159 - FINAL SCORE: 212 - Temperature: 0.030918953821109638\n",
      "EPISODE: 160 - FINAL SCORE: 76 - Temperature: 0.029939558414732816\n",
      "Updating target network...\n",
      "EPISODE: 161 - FINAL SCORE: 47 - Temperature: 0.028991186547107715\n",
      "EPISODE: 162 - FINAL SCORE: 54 - Temperature: 0.028072855509973293\n",
      "EPISODE: 163 - FINAL SCORE: 99 - Temperature: 0.027183613723545944\n",
      "EPISODE: 164 - FINAL SCORE: 97 - Temperature: 0.026322539750487196\n",
      "EPISODE: 165 - FINAL SCORE: 187 - Temperature: 0.025488741341105136\n",
      "EPISODE: 166 - FINAL SCORE: 132 - Temperature: 0.024681354508800293\n",
      "EPISODE: 167 - FINAL SCORE: 69 - Temperature: 0.023899542634797842\n",
      "EPISODE: 168 - FINAL SCORE: 190 - Temperature: 0.02314249560123854\n",
      "EPISODE: 169 - FINAL SCORE: 84 - Temperature: 0.02240942895173004\n",
      "EPISODE: 170 - FINAL SCORE: 180 - Temperature: 0.021699583078488762\n",
      "Updating target network...\n",
      "EPISODE: 171 - FINAL SCORE: 121 - Temperature: 0.021012222435230057\n",
      "EPISODE: 172 - FINAL SCORE: 182 - Temperature: 0.02034663477499098\n",
      "EPISODE: 173 - FINAL SCORE: 154 - Temperature: 0.019702130412096015\n",
      "EPISODE: 174 - FINAL SCORE: 218 - Temperature: 0.01907804150750088\n",
      "EPISODE: 175 - FINAL SCORE: 271 - Temperature: 0.01847372137677395\n",
      "EPISODE: 176 - FINAL SCORE: 198 - Temperature: 0.017888543819998246\n",
      "EPISODE: 177 - FINAL SCORE: 192 - Temperature: 0.017321902472899522\n",
      "EPISODE: 178 - FINAL SCORE: 124 - Temperature: 0.016773210178528213\n",
      "EPISODE: 179 - FINAL SCORE: 227 - Temperature: 0.016241898378844107\n",
      "EPISODE: 180 - FINAL SCORE: 128 - Temperature: 0.015727416525573294\n",
      "Updating target network...\n",
      "EPISODE: 181 - FINAL SCORE: 166 - Temperature: 0.015229231509726967\n",
      "EPISODE: 182 - FINAL SCORE: 177 - Temperature: 0.014746827109190863\n",
      "EPISODE: 183 - FINAL SCORE: 334 - Temperature: 0.014279703453813042\n",
      "EPISODE: 184 - FINAL SCORE: 249 - Temperature: 0.013827376507435598\n",
      "EPISODE: 185 - FINAL SCORE: 106 - Temperature: 0.013389377566333675\n",
      "EPISODE: 186 - FINAL SCORE: 163 - Temperature: 0.012965252773542045\n",
      "EPISODE: 187 - FINAL SCORE: 135 - Temperature: 0.012554562648565954\n",
      "EPISODE: 188 - FINAL SCORE: 134 - Temperature: 0.012156881631988975\n",
      "EPISODE: 189 - FINAL SCORE: 129 - Temperature: 0.011771797644505937\n",
      "EPISODE: 190 - FINAL SCORE: 125 - Temperature: 0.011398911659924042\n",
      "Updating target network...\n",
      "EPISODE: 191 - FINAL SCORE: 139 - Temperature: 0.01103783729168967\n",
      "EPISODE: 192 - FINAL SCORE: 163 - Temperature: 0.010688200392512476\n",
      "EPISODE: 193 - FINAL SCORE: 189 - Temperature: 0.010349638666671842\n",
      "EPISODE: 194 - FINAL SCORE: 146 - Temperature: 0.01002180129460404\n",
      "EPISODE: 195 - FINAL SCORE: 226 - Temperature: 0.009704348569381\n",
      "EPISODE: 196 - FINAL SCORE: 157 - Temperature: 0.00939695154470411\n",
      "EPISODE: 197 - FINAL SCORE: 195 - Temperature: 0.00909929169404819\n",
      "EPISODE: 198 - FINAL SCORE: 151 - Temperature: 0.008811060580602522\n",
      "EPISODE: 199 - FINAL SCORE: 290 - Temperature: 0.0085319595376669\n",
      "EPISODE: 200 - FINAL SCORE: 297 - Temperature: 0.008261699359171508\n",
      "Updating target network...\n",
      "EPISODE: 201 - FINAL SCORE: 347 - Temperature: 0.007999999999999964\n",
      "EPISODE: 202 - FINAL SCORE: 188 - Temperature: 0.007746590285805003\n",
      "EPISODE: 203 - FINAL SCORE: 257 - Temperature: 0.00750120763201609\n",
      "EPISODE: 204 - FINAL SCORE: 373 - Temperature: 0.007263597771747806\n",
      "EPISODE: 205 - FINAL SCORE: 150 - Temperature: 0.0070335144923270865\n",
      "EPISODE: 206 - FINAL SCORE: 226 - Temperature: 0.006810719380166245\n",
      "EPISODE: 207 - FINAL SCORE: 225 - Temperature: 0.006594981573717493\n",
      "EPISODE: 208 - FINAL SCORE: 191 - Temperature: 0.006386077524252895\n",
      "EPISODE: 209 - FINAL SCORE: 155 - Temperature: 0.006183790764221921\n",
      "EPISODE: 210 - FINAL SCORE: 162 - Temperature: 0.0059879116829465555\n",
      "Updating target network...\n",
      "EPISODE: 211 - FINAL SCORE: 158 - Temperature: 0.0057982373094215365\n",
      "EPISODE: 212 - FINAL SCORE: 166 - Temperature: 0.005614571101994653\n",
      "EPISODE: 213 - FINAL SCORE: 120 - Temperature: 0.005436722744709183\n",
      "EPISODE: 214 - FINAL SCORE: 137 - Temperature: 0.005264507950097433\n",
      "EPISODE: 215 - FINAL SCORE: 130 - Temperature: 0.005097748268221022\n",
      "EPISODE: 216 - FINAL SCORE: 146 - Temperature: 0.004936270901760053\n",
      "EPISODE: 217 - FINAL SCORE: 115 - Temperature: 0.004779908526959563\n",
      "EPISODE: 218 - FINAL SCORE: 152 - Temperature: 0.004628499120247703\n",
      "EPISODE: 219 - FINAL SCORE: 198 - Temperature: 0.004481885790346003\n",
      "EPISODE: 220 - FINAL SCORE: 123 - Temperature: 0.004339916615697747\n",
      "Updating target network...\n",
      "EPISODE: 221 - FINAL SCORE: 140 - Temperature: 0.0042024444870460064\n",
      "EPISODE: 222 - FINAL SCORE: 149 - Temperature: 0.0040693269549981915\n",
      "EPISODE: 223 - FINAL SCORE: 126 - Temperature: 0.0039404260824191985\n",
      "EPISODE: 224 - FINAL SCORE: 95 - Temperature: 0.003815608301500171\n",
      "EPISODE: 225 - FINAL SCORE: 109 - Temperature: 0.003694744275354786\n",
      "EPISODE: 226 - FINAL SCORE: 108 - Temperature: 0.0035777087639996454\n",
      "EPISODE: 227 - FINAL SCORE: 113 - Temperature: 0.0034643804945799\n",
      "EPISODE: 228 - FINAL SCORE: 201 - Temperature: 0.0033546420357056387\n",
      "EPISODE: 229 - FINAL SCORE: 177 - Temperature: 0.0032483796757688177\n",
      "EPISODE: 230 - FINAL SCORE: 180 - Temperature: 0.003145483305114655\n",
      "Updating target network...\n",
      "EPISODE: 231 - FINAL SCORE: 297 - Temperature: 0.0030458463019453898\n",
      "EPISODE: 232 - FINAL SCORE: 107 - Temperature: 0.0029493654218381692\n",
      "EPISODE: 233 - FINAL SCORE: 129 - Temperature: 0.002855940690762605\n",
      "EPISODE: 234 - FINAL SCORE: 108 - Temperature: 0.0027654753014871164\n",
      "EPISODE: 235 - FINAL SCORE: 112 - Temperature: 0.0026778755132667318\n",
      "EPISODE: 236 - FINAL SCORE: 89 - Temperature: 0.002593050554708406\n",
      "EPISODE: 237 - FINAL SCORE: 33 - Temperature: 0.002510912529713188\n",
      "EPISODE: 238 - FINAL SCORE: 90 - Temperature: 0.0024313763263977923\n",
      "EPISODE: 239 - FINAL SCORE: 80 - Temperature: 0.0023543595289011844\n",
      "EPISODE: 240 - FINAL SCORE: 25 - Temperature: 0.0022797823319848057\n",
      "Updating target network...\n",
      "EPISODE: 241 - FINAL SCORE: 23 - Temperature: 0.0022075674583379315\n",
      "EPISODE: 242 - FINAL SCORE: 17 - Temperature: 0.0021376400785024924\n",
      "EPISODE: 243 - FINAL SCORE: 19 - Temperature: 0.0020699277333343664\n",
      "EPISODE: 244 - FINAL SCORE: 18 - Temperature: 0.0020043602589208055\n",
      "EPISODE: 245 - FINAL SCORE: 19 - Temperature: 0.0019408697138761978\n",
      "EPISODE: 246 - FINAL SCORE: 17 - Temperature: 0.0018793903089408199\n",
      "EPISODE: 247 - FINAL SCORE: 21 - Temperature: 0.0018198583388096357\n",
      "EPISODE: 248 - FINAL SCORE: 18 - Temperature: 0.0017622121161205023\n",
      "EPISODE: 249 - FINAL SCORE: 21 - Temperature: 0.0017063919075333781\n",
      "EPISODE: 250 - FINAL SCORE: 23 - Temperature: 0.0016523398718342995\n",
      "Updating target network...\n",
      "EPISODE: 251 - FINAL SCORE: 22 - Temperature: 0.001599999999999991\n",
      "EPISODE: 252 - FINAL SCORE: 21 - Temperature: 0.0015493180571609986\n",
      "EPISODE: 253 - FINAL SCORE: 24 - Temperature: 0.0015002415264032162\n",
      "EPISODE: 254 - FINAL SCORE: 24 - Temperature: 0.0014527195543495596\n",
      "EPISODE: 255 - FINAL SCORE: 67 - Temperature: 0.0014067028984654157\n",
      "EPISODE: 256 - FINAL SCORE: 70 - Temperature: 0.0013621438760332474\n",
      "EPISODE: 257 - FINAL SCORE: 28 - Temperature: 0.0013189963147434971\n",
      "EPISODE: 258 - FINAL SCORE: 27 - Temperature: 0.0012772155048505775\n",
      "EPISODE: 259 - FINAL SCORE: 24 - Temperature: 0.0012367581528443827\n",
      "EPISODE: 260 - FINAL SCORE: 27 - Temperature: 0.0011975823365893098\n",
      "Updating target network...\n",
      "EPISODE: 261 - FINAL SCORE: 25 - Temperature: 0.001159647461884306\n",
      "EPISODE: 262 - FINAL SCORE: 18 - Temperature: 0.0011229142203989292\n",
      "EPISODE: 263 - FINAL SCORE: 21 - Temperature: 0.0010873445489418354\n",
      "EPISODE: 264 - FINAL SCORE: 30 - Temperature: 0.0010529015900194853\n",
      "EPISODE: 265 - FINAL SCORE: 27 - Temperature: 0.0010195496536442032\n",
      "EPISODE: 266 - FINAL SCORE: 33 - Temperature: 0.0009872541803520093\n",
      "EPISODE: 267 - FINAL SCORE: 19 - Temperature: 0.0009559817053919114\n",
      "EPISODE: 268 - FINAL SCORE: 21 - Temperature: 0.0009256998240495395\n",
      "EPISODE: 269 - FINAL SCORE: 24 - Temperature: 0.0008963771580691995\n",
      "EPISODE: 270 - FINAL SCORE: 58 - Temperature: 0.0008679833231395486\n",
      "Updating target network...\n",
      "EPISODE: 271 - FINAL SCORE: 23 - Temperature: 0.0008404888974092004\n",
      "EPISODE: 272 - FINAL SCORE: 30 - Temperature: 0.0008138653909996374\n",
      "EPISODE: 273 - FINAL SCORE: 23 - Temperature: 0.0007880852164838388\n",
      "EPISODE: 274 - FINAL SCORE: 26 - Temperature: 0.0007631216603000333\n",
      "EPISODE: 275 - FINAL SCORE: 29 - Temperature: 0.0007389488550709563\n",
      "EPISODE: 276 - FINAL SCORE: 21 - Temperature: 0.0007155417527999282\n",
      "EPISODE: 277 - FINAL SCORE: 33 - Temperature: 0.0006928760989159792\n",
      "EPISODE: 278 - FINAL SCORE: 24 - Temperature: 0.0006709284071411269\n",
      "EPISODE: 279 - FINAL SCORE: 24 - Temperature: 0.0006496759351537628\n",
      "EPISODE: 280 - FINAL SCORE: 29 - Temperature: 0.0006290966610229304\n",
      "Updating target network...\n",
      "EPISODE: 281 - FINAL SCORE: 59 - Temperature: 0.0006091692603890773\n",
      "EPISODE: 282 - FINAL SCORE: 35 - Temperature: 0.0005898730843676332\n",
      "EPISODE: 283 - FINAL SCORE: 39 - Temperature: 0.0005711881381525204\n",
      "EPISODE: 284 - FINAL SCORE: 52 - Temperature: 0.0005530950602974226\n",
      "EPISODE: 285 - FINAL SCORE: 45 - Temperature: 0.0005355751026533458\n",
      "EPISODE: 286 - FINAL SCORE: 79 - Temperature: 0.0005186101109416806\n",
      "EPISODE: 287 - FINAL SCORE: 68 - Temperature: 0.0005021825059426371\n",
      "EPISODE: 288 - FINAL SCORE: 59 - Temperature: 0.0004862752652795579\n",
      "EPISODE: 289 - FINAL SCORE: 70 - Temperature: 0.00047087190578023644\n",
      "EPISODE: 290 - FINAL SCORE: 52 - Temperature: 0.0004559564663969606\n",
      "Updating target network...\n",
      "EPISODE: 291 - FINAL SCORE: 33 - Temperature: 0.0004415134916675858\n",
      "EPISODE: 292 - FINAL SCORE: 30 - Temperature: 0.000427528015700498\n",
      "EPISODE: 293 - FINAL SCORE: 36 - Temperature: 0.00041398554666687275\n",
      "EPISODE: 294 - FINAL SCORE: 46 - Temperature: 0.00040087205178416065\n",
      "EPISODE: 295 - FINAL SCORE: 40 - Temperature: 0.0003881739427752391\n",
      "EPISODE: 296 - FINAL SCORE: 37 - Temperature: 0.00037587806178816357\n",
      "EPISODE: 297 - FINAL SCORE: 62 - Temperature: 0.00036397166776192674\n",
      "EPISODE: 298 - FINAL SCORE: 45 - Temperature: 0.00035244242322410004\n",
      "EPISODE: 299 - FINAL SCORE: 53 - Temperature: 0.00034127838150667524\n",
      "EPISODE: 300 - FINAL SCORE: 59 - Temperature: 0.00033046797436685953\n"
     ]
    }
   ],
   "source": [
    "# Initialize the Gym environment\n",
    "env = gym.make('CartPole-v1') \n",
    "env.seed(0) # Set a random seed for the environment (reproducible results)\n",
    "\n",
    "# This is for creating the output video in Colab, not required outside Colab\n",
    "if colab:\n",
    "    env = wrap_env(env, video_callable=lambda episode_id: episode_id % 100 == 0) # Save a video every 100 episodes\n",
    "\n",
    "for episode_num, tau in enumerate(tqdm(exploration_profile)):\n",
    "\n",
    "    # Reset the environment and get the initial state\n",
    "    state = env.reset()\n",
    "    # Reset the score. The final score will be the total amount of steps before the pole falls\n",
    "    score = 0\n",
    "    done = False\n",
    "\n",
    "    # Go on until the pole falls off\n",
    "    while not done:\n",
    "\n",
    "      # Choose the action following the policy\n",
    "      action, q_values = choose_action_softmax(policy_net, state, temperature=tau)\n",
    "      \n",
    "      # Apply the action and get the next state, the reward and a flag \"done\" that is True if the game is ended\n",
    "      next_state, reward, done, info = env.step(action)\n",
    "\n",
    "      # We apply a (linear) penalty when the cart is far from center\n",
    "      pos_weight = 1\n",
    "      reward = reward - pos_weight * np.abs(state[0]) \n",
    "\n",
    "      # Update the final score (+1 for each step)\n",
    "      score += 1\n",
    "\n",
    "      # Apply penalty for bad state\n",
    "      if done: # if the pole has fallen down \n",
    "          reward += bad_state_penalty\n",
    "          next_state = None\n",
    "\n",
    "      # Update the replay memory\n",
    "      replay_mem.push(state, action, next_state, reward)\n",
    "\n",
    "      # Update the network\n",
    "      if len(replay_mem) > min_samples_for_training: # we enable the training only if we have enough samples in the replay memory, otherwise the training will use the same samples too often\n",
    "          update_step(policy_net, target_net, replay_mem, gamma, optimizer, loss_fn, batch_size)\n",
    "\n",
    "      # Visually render the environment (disable to speed up the training)\n",
    "      env.render()\n",
    "\n",
    "      # Set the current state for the next iteration\n",
    "      state = next_state\n",
    "\n",
    "    # Update the target network every target_net_update_steps episodes\n",
    "    if episode_num % target_net_update_steps == 0:\n",
    "        print('Updating target network...')\n",
    "        target_net.load_state_dict(policy_net.state_dict()) # This will copy the weights of the policy network to the target network\n",
    "\n",
    "    # Print the final score\n",
    "    print(f\"EPISODE: {episode_num + 1} - FINAL SCORE: {score} - Temperature: {tau}\") # Print the final score\n",
    "\n",
    "env.close()"
   ]
  },
  {
   "cell_type": "code",
   "execution_count": 38,
   "metadata": {
    "id": "7FQjjVTiP2T6"
   },
   "outputs": [],
   "source": [
    "# Display the videos, not required outside Colab\n",
    "if colab:\n",
    "    show_videos()"
   ]
  },
  {
   "cell_type": "markdown",
   "metadata": {
    "id": "JkG9iDZTIhzc"
   },
   "source": [
    "# Final test"
   ]
  },
  {
   "cell_type": "code",
   "execution_count": 41,
   "metadata": {
    "id": "vJKgnu3_IjWE"
   },
   "outputs": [
    {
     "name": "stdout",
     "output_type": "stream",
     "text": [
      "EPISODE 1 - FINAL SCORE: 47.0\n",
      "EPISODE 2 - FINAL SCORE: 43.0\n",
      "EPISODE 3 - FINAL SCORE: 86.0\n",
      "EPISODE 4 - FINAL SCORE: 73.0\n",
      "EPISODE 5 - FINAL SCORE: 82.0\n",
      "EPISODE 6 - FINAL SCORE: 81.0\n",
      "EPISODE 7 - FINAL SCORE: 40.0\n",
      "EPISODE 8 - FINAL SCORE: 94.0\n",
      "EPISODE 9 - FINAL SCORE: 60.0\n",
      "EPISODE 10 - FINAL SCORE: 99.0\n"
     ]
    }
   ],
   "source": [
    "# Initialize the Gym environment\n",
    "env = gym.make('CartPole-v1') \n",
    "env.seed(1) # Set a random seed for the environment (reproducible results)\n",
    "\n",
    "# This is for creating the output video in Colab, not required outside Colab\n",
    "if colab:\n",
    "  env = wrap_env(env, video_callable=lambda episode_id: True) # Save a video every episode\n",
    "\n",
    "# Let's try for a total of 10 episodes\n",
    "for num_episode in range(10): \n",
    "    # Reset the environment and get the initial state\n",
    "    state = env.reset()\n",
    "    # Reset the score. The final score will be the total amount of steps before the pole falls\n",
    "    score = 0\n",
    "    done = False\n",
    "    # Go on until the pole falls off or the score reach 490\n",
    "    while not done:\n",
    "      # Choose the best action (temperature 0)\n",
    "      action, q_values = choose_action_softmax(policy_net, state, temperature=0)\n",
    "      # Apply the action and get the next state, the reward and a flag \"done\" that is True if the game is ended\n",
    "      next_state, reward, done, info = env.step(action)\n",
    "      # Visually render the environment\n",
    "      env.render()\n",
    "      # Update the final score (+1 for each step)\n",
    "      score += reward \n",
    "      # Set the current state for the next iteration\n",
    "      state = next_state\n",
    "      # Check if the episode ended (the pole fell down)\n",
    "    # Print the final score\n",
    "    print(f\"EPISODE {num_episode + 1} - FINAL SCORE: {score}\") \n",
    "env.close()"
   ]
  },
  {
   "cell_type": "code",
   "execution_count": 42,
   "metadata": {
    "id": "mxdtGJutLqlw"
   },
   "outputs": [],
   "source": [
    "# Display the videos, not required outside Colab\n",
    "if colab: \n",
    "    show_videos()"
   ]
  }
 ],
 "metadata": {
  "interpreter": {
   "hash": "cee89b7c6bc96453738565335b56b694d8a30ac65e979633b683f8408c8233c6"
  },
  "kernelspec": {
   "display_name": "Python 3.7.12 64-bit ('dl_env': venv)",
   "language": "python",
   "name": "python3"
  },
  "language_info": {
   "codemirror_mode": {
    "name": "ipython",
    "version": 3
   },
   "file_extension": ".py",
   "mimetype": "text/x-python",
   "name": "python",
   "nbconvert_exporter": "python",
   "pygments_lexer": "ipython3",
   "version": "3.7.12"
  },
  "orig_nbformat": 4
 },
 "nbformat": 4,
 "nbformat_minor": 2
}
