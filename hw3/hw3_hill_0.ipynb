{
 "cells": [
  {
   "cell_type": "markdown",
   "metadata": {},
   "source": [
    "# HOMEWORK 3 NEURAL NETWORKS AND DEEP LEARNING\n",
    "\n",
    "---\n",
    "A.A. 2021/22 (6 CFU) - Dr. Alberto Testolin, Dr. Umberto Michieli\n",
    "---\n",
    "Student: Matteo Grandin\n",
    "---\n",
    "id: 2020374"
   ]
  },
  {
   "cell_type": "markdown",
   "metadata": {},
   "source": [
    "# Reinforced Learning"
   ]
  },
  {
   "cell_type": "markdown",
   "metadata": {},
   "source": [
    "### General overview\n",
    "In this homework you will learn how to implement and test neural network models for\n",
    "solving reinforcement learning problems. The basic tasks for the homework will require to implement some\n",
    "extensions to the code that you have seen in the Lab. The advanced tasks will require to train and test your\n",
    "learning agent on a different type of input (image pixels) or Gym environment. You can just choose one of\n",
    "the advanced tasks to get the maximum grade. If you are interested in improving your skills, feel free to try\n",
    "both advanced tasks. Given the higher computational complexity of RL, in this homework you don’t need to\n",
    "tune learning hyperparameters using search procedures and cross-validation; however, you are encouraged\n",
    "to play with model hyperparameters to find a satisfactory configuration.\n",
    "\n",
    "\n",
    "- 3 pt: use the notebook of Lab 07 to study how the exploration profile (either using eps-greedy or\n",
    "softmax) impacts the learning curve. Tune a bit the model hyperparameters or tweak the reward\n",
    "function to speed-up learning convergence (i.e., reach the same accuracy with fewer training episodes).\n",
    "\n",
    "YOU CAN DO JUST 1 OR BOTH\n",
    "- 5 pt: extend the notebook used in Lab 07, in order to learn to control the CartPole environment using\n",
    "directly the screen pixels, rather than the compact state representation used during the Lab (cart\n",
    "position, cart velocity, pole angle, pole angular velocity). NB: this will require to change the\n",
    "“observation_space” and to look for smart ways of encoding the pixels in a compact way to reduce\n",
    "computational complexity (e.g., crop the image around the pole, use difference of consecutive frames\n",
    "as input to consider temporal context, etc.).\n",
    "\n",
    "OR\n",
    "\n",
    "- 5 pt: train a deep RL agent on a different Gym environment. You are free to choose whatever Gym\n",
    "environment you like from the available list, or even explore other simulation platforms."
   ]
  },
  {
   "cell_type": "code",
   "execution_count": 23,
   "metadata": {},
   "outputs": [],
   "source": [
    "# Boolean value to check if we are in colab or not\n",
    "colab = False \n",
    "show_video = False\n",
    "show_render = False"
   ]
  },
  {
   "cell_type": "code",
   "execution_count": 24,
   "metadata": {
    "id": "jBelL8nBZVsn"
   },
   "outputs": [
    {
     "name": "stdout",
     "output_type": "stream",
     "text": [
      "Requirement already satisfied: gym in /home/irong/nn_deep_learning_2021/dl_env/lib/python3.7/site-packages (0.21.0)\n",
      "Requirement already satisfied: numpy>=1.18.0 in /home/irong/nn_deep_learning_2021/dl_env/lib/python3.7/site-packages (from gym) (1.19.5)\n",
      "Requirement already satisfied: importlib-metadata>=4.8.1 in /home/irong/nn_deep_learning_2021/dl_env/lib/python3.7/site-packages (from gym) (4.8.2)\n",
      "Requirement already satisfied: cloudpickle>=1.2.0 in /home/irong/nn_deep_learning_2021/dl_env/lib/python3.7/site-packages (from gym) (2.0.0)\n",
      "Requirement already satisfied: typing-extensions>=3.6.4 in /home/irong/nn_deep_learning_2021/dl_env/lib/python3.7/site-packages (from importlib-metadata>=4.8.1->gym) (4.0.1)\n",
      "Requirement already satisfied: zipp>=0.5 in /home/irong/nn_deep_learning_2021/dl_env/lib/python3.7/site-packages (from importlib-metadata>=4.8.1->gym) (3.6.0)\n",
      "Note: you may need to restart the kernel to use updated packages.\n"
     ]
    }
   ],
   "source": [
    "if colab:\n",
    "    !pip install gym\n",
    "else:\n",
    "    %pip install gym"
   ]
  },
  {
   "cell_type": "code",
   "execution_count": 25,
   "metadata": {
    "id": "a7EkHQ0VsNnJ"
   },
   "outputs": [],
   "source": [
    "import random\n",
    "import torch\n",
    "import numpy as np\n",
    "import gym\n",
    "import matplotlib.pyplot as plt\n",
    "from tqdm.notebook import tqdm\n",
    "\n",
    "from torch import nn\n",
    "from collections import deque # this python module implements exactly what we need for the replay memeory\n",
    "\n",
    "#use gpu if available\n",
    "device = torch.device(\"cuda:0\" if torch.cuda.is_available() else \"cpu\")"
   ]
  },
  {
   "cell_type": "code",
   "execution_count": 26,
   "metadata": {
    "id": "E0oXbzI2ZAfv"
   },
   "outputs": [],
   "source": [
    "if colab:\n",
    "    !apt update\n",
    "    !apt-get install python-opengl -y\n",
    "    !apt install xvfb -y\n",
    "    !pip install pyvirtualdisplay\n",
    "    !pip install piglet\n",
    "    import glob\n",
    "    import io\n",
    "    import base64\n",
    "    import os\n",
    "    from IPython.display import HTML\n",
    "    from IPython import display as ipythondisplay\n",
    "    from pyvirtualdisplay import Display\n",
    "    from gym.wrappers import Monitor\n",
    "\n",
    "    display = Display(visible=0, size=(1400, 900))\n",
    "    display.start()\n",
    "\n",
    "    if type(os.environ.get(\"DISPLAY\")) is not str or len(os.environ.get(\"DISPLAY\"))==0:\n",
    "        !bash ../xvfb start\n",
    "        %env DISPLAY=:1\n",
    "\n",
    "    \"\"\"\n",
    "    Utility functions to enable video recording of gym environment and displaying it\n",
    "    To enable video, just do \"env = wrap_env(env)\"\"\n",
    "    \"\"\"\n",
    "\n",
    "    def show_videos():\n",
    "        mp4list = glob.glob('video/*.mp4')\n",
    "        mp4list.sort()\n",
    "        for mp4 in mp4list:\n",
    "            print(f\"\\nSHOWING VIDEO {mp4}\")\n",
    "            video = io.open(mp4, 'r+b').read()\n",
    "            encoded = base64.b64encode(video)\n",
    "            ipythondisplay.display(HTML(data='''<video alt=\"test\" autoplay \n",
    "                        loop controls style=\"height: 400px;\">\n",
    "                        <source src=\"data:video/mp4;base64,{0}\" type=\"video/mp4\" />\n",
    "                    </video>'''.format(encoded.decode('ascii'))))\n",
    "            \n",
    "    def wrap_env(env, video_callable=None):\n",
    "        env = Monitor(env, './video', force=True, video_callable=video_callable)\n",
    "        return env"
   ]
  },
  {
   "cell_type": "code",
   "execution_count": 27,
   "metadata": {
    "id": "1axKWEBl8uik"
   },
   "outputs": [],
   "source": [
    "class ReplayMemory(object):\n",
    "\n",
    "    def __init__(self, capacity):\n",
    "        self.memory = deque(maxlen=capacity) # Define a queue with maxlen \"capacity\"\n",
    "\n",
    "    def push(self, state, action, next_state, reward):\n",
    "        # TODO: Add the tuple (state, action, next_state, reward) to the queue\n",
    "        self.memory.append((state, action, next_state, reward))\n",
    "\n",
    "    def sample(self, batch_size):\n",
    "        batch_size = min(batch_size, len(self)) # Get all the samples if the requested batch_size is higher than the number of sample currently in the memory\n",
    "        return random.sample(self.memory, batch_size) # Randomly select \"batch_size\" samples\n",
    "\n",
    "    def __len__(self):\n",
    "        return len(self.memory) # Return the number of samples currently stored in the memory"
   ]
  },
  {
   "cell_type": "code",
   "execution_count": 28,
   "metadata": {
    "id": "W41rXekb8x7K"
   },
   "outputs": [],
   "source": [
    "class DQN(nn.Module):\n",
    "\n",
    "    def __init__(self, state_space_dim, action_space_dim):\n",
    "        super().__init__()\n",
    "        n_hid = 128\n",
    "        self.linear = nn.Sequential(\n",
    "            #inpt layer\n",
    "            nn.Linear(state_space_dim, n_hid),\n",
    "            nn.Tanh(),\n",
    "            #nn.Dropout(0.2), #bad\n",
    "            #hidden layer\n",
    "            nn.Linear(n_hid, n_hid),\n",
    "            nn.Tanh(),\n",
    "            #nn.Dropout(0.2), #bad\n",
    "            #outpt layer\n",
    "            nn.Linear(n_hid, action_space_dim),\n",
    "                )\n",
    "\n",
    "    def forward(self, x):\n",
    "        return self.linear(x)"
   ]
  },
  {
   "cell_type": "markdown",
   "metadata": {
    "id": "ynfEXqjGfbpl"
   },
   "source": [
    "## Exploration Policy"
   ]
  },
  {
   "cell_type": "code",
   "execution_count": 29,
   "metadata": {
    "id": "ZXfh_Ub1fv4c"
   },
   "outputs": [],
   "source": [
    "def choose_action_epsilon_greedy(net, state, epsilon):\n",
    "    if epsilon > 1 or epsilon < 0:\n",
    "        raise Exception('The epsilon value must be between 0 and 1')\n",
    "                \n",
    "    # Evaluate the network output from the current state\n",
    "    with torch.no_grad():\n",
    "        net.eval()\n",
    "        state = torch.tensor(state, dtype=torch.float32,device=device) # Convert the state to tensor\n",
    "        net_out = net(state)\n",
    "\n",
    "    # Get the best action (argmax of the network output)\n",
    "    best_action = int(net_out.argmax())\n",
    "    # Get the number of possible actions\n",
    "    action_space_dim = net_out.shape[-1]\n",
    "\n",
    "    # Select a non optimal action with probability epsilon, otherwise choose the best action\n",
    "    if random.random() < epsilon:\n",
    "        # List of non-optimal actions\n",
    "        non_optimal_actions = [a for a in range(action_space_dim) if a != best_action]\n",
    "        # Select randomly\n",
    "        action = random.choice(non_optimal_actions)\n",
    "    else:\n",
    "        # Select best action\n",
    "        action = best_action\n",
    "        \n",
    "    return action, net_out.cpu().numpy()"
   ]
  },
  {
   "cell_type": "code",
   "execution_count": 30,
   "metadata": {
    "id": "taW_cjBsf4sW"
   },
   "outputs": [],
   "source": [
    "def choose_action_softmax(net, state, temperature):\n",
    "    if temperature < 0:\n",
    "        raise Exception('The temperature value must be greater than or equal to 0 ')\n",
    "        \n",
    "    # If the temperature is 0, just select the best action using the eps-greedy policy with epsilon = 0\n",
    "    if temperature == 0:\n",
    "        return choose_action_epsilon_greedy(net, state, 0)\n",
    "    \n",
    "    # Evaluate the network output from the current state\n",
    "    with torch.no_grad():\n",
    "        net.eval()\n",
    "        state = torch.tensor(state, dtype=torch.float32, device=device)\n",
    "        net_out = net(state)\n",
    "\n",
    "    # Apply softmax with temp\n",
    "    temperature = max(temperature, 1e-8) # set a minimum to the temperature for numerical stability\n",
    "    softmax_out = nn.functional.softmax(net_out / temperature, dim=0).cpu().numpy()\n",
    "                \n",
    "    # Sample the action using softmax output as mass pdf\n",
    "    all_possible_actions = np.arange(0, softmax_out.shape[-1])\n",
    "    action = np.random.choice(all_possible_actions, p=softmax_out) # this samples a random element from \"all_possible_actions\" with the probability distribution p (softmax_out in this case)\n",
    "    \n",
    "    return action, net_out.cpu().numpy()"
   ]
  },
  {
   "cell_type": "markdown",
   "metadata": {
    "id": "QMXhJfZcpqIA"
   },
   "source": [
    "### Exploration profile"
   ]
  },
  {
   "cell_type": "code",
   "execution_count": 31,
   "metadata": {
    "id": "G-f78CC3ptt2"
   },
   "outputs": [
    {
     "data": {
      "text/plain": [
       "Text(0, 0.5, 'Exploration profile (Softmax temperature)')"
      ]
     },
     "execution_count": 31,
     "metadata": {},
     "output_type": "execute_result"
    },
    {
     "data": {
      "image/png": "[encoded data removed]",
      "text/plain": [
       "<Figure size 864x216 with 1 Axes>"
      ]
     },
     "metadata": {
      "needs_background": "light"
     },
     "output_type": "display_data"
    }
   ],
   "source": [
    "### Define exploration profile\n",
    "def get_exploration_profile(initial_value=0.5, num_iterations=1000, speed = 3): # speed = speed of convergence, bigger is faster to reach 0\n",
    "    if initial_value < 0:\n",
    "        raise Exception('The initial value must be > 0')\n",
    "    if initial_value > 1:\n",
    "        exp_decay = np.exp(-np.log(initial_value) / num_iterations * speed) # We compute the exponential decay in such a way the shape of the exploration profile does not depend on the number of iterations\n",
    "    else :\n",
    "        exp_decay = np.exp(np.log(initial_value) / num_iterations * speed)\n",
    "    exploration_profile = [initial_value * (exp_decay ** i) for i in range(num_iterations)]\n",
    "    return exploration_profile\n",
    "\n",
    "exploration_profile = get_exploration_profile()\n",
    "\n",
    "### Plot exploration profile\n",
    "plt.figure(figsize=(12,3))\n",
    "plt.plot(exploration_profile)\n",
    "plt.grid()\n",
    "plt.xlabel('Iteration')\n",
    "plt.ylabel('Exploration profile (Softmax temperature)')"
   ]
  },
  {
   "cell_type": "markdown",
   "metadata": {
    "id": "zjKmdFhowRbj"
   },
   "source": [
    "# Gym Environment ('MountainCar-v0')"
   ]
  },
  {
   "cell_type": "code",
   "execution_count": 32,
   "metadata": {
    "id": "Ar0yNaNrCnjn"
   },
   "outputs": [],
   "source": [
    "### Create environment\n",
    "chosen_env = 'MountainCar-v0'\n",
    "env = gym.make(chosen_env) # Initialize the Gym environment\n",
    "env.seed(0) # Set a random seed for the environment (reproducible results)\n",
    "\n",
    "# Get the shapes of the state space (observation_space) and action space (action_space)\n",
    "state_space_dim = env.observation_space.shape[0]\n",
    "action_space_dim = env.action_space.n\n",
    "\n",
    "if colab:\n",
    "  env = wrap_env(env, video_callable=lambda episode_id: True)"
   ]
  },
  {
   "cell_type": "markdown",
   "metadata": {
    "id": "9KXpjzf2vdeL"
   },
   "source": [
    "# Network update"
   ]
  },
  {
   "cell_type": "code",
   "execution_count": 33,
   "metadata": {
    "id": "lVpk-g0i9d-B"
   },
   "outputs": [],
   "source": [
    "# Set random seeds\n",
    "torch.manual_seed(0)\n",
    "np.random.seed(0)\n",
    "random.seed(0)\n",
    "\n",
    "### PARAMETERS\n",
    "gamma = 0.97  #0.97 gamma parameter for the long term reward \n",
    "replay_memory_capacity = 10000   #10000 Replay memory capacity \n",
    "lr = 2e-2   #1e-2 Optimizer learning rate \n",
    "target_net_update_steps = 10   #10 Number of episodes to wait before updating the target network \n",
    "batch_size = 128   #128 Number of samples to take from the replay memory for each update \n",
    "bad_state_penalty = 0   #0 Penalty to the reward when we are in a bad state (in this case when the pole falls down)\n",
    "min_samples_for_training = 800   #1000 Minimum samples in the replay memory to enable the training \n",
    "use_epsilon_greedy = True   #False Use epsilon greedy exploration or not \n",
    "#set up exploration profile for softmax\n",
    "initial_value = 0.5 #5 Initial temperature/epsilon value for the exploration profile \n",
    "num_iterations = 150 # Number of episodes 1000, \n",
    "convergence_speed = 1 #6 Speed of convergence of the exploration profile  \n",
    "exploration_profile = get_exploration_profile(initial_value, num_iterations, speed = convergence_speed)"
   ]
  },
  {
   "cell_type": "markdown",
   "metadata": {},
   "source": [
    "lowering target_net_update_steps from 10 to 8 had a huge impact, learning rate could be set higher too and gamma could be lowered."
   ]
  },
  {
   "cell_type": "code",
   "execution_count": 34,
   "metadata": {
    "id": "2k3ZQuh8xHo7"
   },
   "outputs": [],
   "source": [
    "### Initialize the replay memory\n",
    "replay_mem = ReplayMemory(replay_memory_capacity)    \n",
    "\n",
    "### Initialize the policy network\n",
    "policy_net = DQN(state_space_dim, action_space_dim).to(device)\n",
    "\n",
    "### Initialize the target network with the same weights of the policy network\n",
    "target_net = DQN(state_space_dim, action_space_dim).to(device)\n",
    "target_net.load_state_dict(policy_net.state_dict()) # This will copy the weights of the policy network to the target network\n",
    "\n",
    "### Initialize the optimizer\n",
    "optimizer = torch.optim.SGD(policy_net.parameters(), lr=lr) # The optimizer will update ONLY the parameters of the policy network\n",
    "\n",
    "### Initialize the loss function (Huber loss)\n",
    "loss_fn = nn.SmoothL1Loss()"
   ]
  },
  {
   "cell_type": "code",
   "execution_count": 35,
   "metadata": {
    "id": "Sj1hEvPOvkBX"
   },
   "outputs": [],
   "source": [
    "def update_step(policy_net, target_net, replay_mem, gamma, optimizer, loss_fn, batch_size):\n",
    "        \n",
    "    # Sample the data from the replay memory\n",
    "    batch = replay_mem.sample(batch_size)\n",
    "    batch_size = len(batch)\n",
    "\n",
    "    # Create tensors for each element of the batch\n",
    "    states      = torch.tensor([s[0] for s in batch], dtype=torch.float32, device=device)\n",
    "    actions     = torch.tensor([s[1] for s in batch], dtype=torch.int64, device=device)\n",
    "    rewards     = torch.tensor([s[3] for s in batch], dtype=torch.float32, device=device)\n",
    "\n",
    "    # Compute a mask of non-final states (all the elements where the next state is not None)\n",
    "    non_final_next_states = torch.tensor([s[2] for s in batch if s[2] is not None], dtype=torch.float32, device=device) # the next state can be None if the game has ended\n",
    "    non_final_mask = torch.tensor([s[2] is not None for s in batch], dtype=torch.bool, device=device)\n",
    "\n",
    "    # Compute all the Q values (forward pass)\n",
    "    policy_net.train()\n",
    "    q_values = policy_net(states)\n",
    "    # Select the proper Q value for the corresponding action taken Q(s_t, a)\n",
    "    state_action_values = q_values.gather(1, actions.unsqueeze(1))\n",
    "\n",
    "    # Compute the value function of the next states using the target network V(s_{t+1}) = max_a( Q_target(s_{t+1}, a)) )\n",
    "    with torch.no_grad():\n",
    "      target_net.eval()\n",
    "      q_values_target = target_net(non_final_next_states)\n",
    "    next_state_max_q_values = torch.zeros(batch_size, device=device)\n",
    "    next_state_max_q_values[non_final_mask] = q_values_target.max(dim=1)[0]\n",
    "\n",
    "    # Compute the expected Q values\n",
    "    expected_state_action_values = rewards + (next_state_max_q_values * gamma)\n",
    "    expected_state_action_values = expected_state_action_values.unsqueeze(1) # Set the required tensor shape\n",
    "\n",
    "    # Compute the Huber loss\n",
    "    loss = loss_fn(state_action_values, expected_state_action_values)\n",
    "\n",
    "    # Optimize the model\n",
    "    optimizer.zero_grad()\n",
    "    loss.backward()\n",
    "    # Apply gradient clipping (clip all the gradients greater than 2 for training stability)\n",
    "    nn.utils.clip_grad_norm_(policy_net.parameters(), 2)\n",
    "    optimizer.step()\n",
    "    return loss.item()"
   ]
  },
  {
   "cell_type": "code",
   "execution_count": 36,
   "metadata": {
    "id": "WF6Zf53FoRDZ"
   },
   "outputs": [
    {
     "data": {
      "application/vnd.jupyter.widget-view+json": {
       "model_id": "8069f46f890b46839e6b339abb8d4c70",
       "version_major": 2,
       "version_minor": 0
      },
      "text/plain": [
       "  0%|          | 0/150 [00:00<?, ?it/s]"
      ]
     },
     "metadata": {},
     "output_type": "display_data"
    },
    {
     "name": "stdout",
     "output_type": "stream",
     "text": [
      "EPISODE: 1 - FINAL SCORE: 0.836942833662033 - Temperature: 0.5\n",
      "EPISODE: 2 - FINAL SCORE: 0.8675926744937896 - Temperature: 0.49769483955161453\n",
      "EPISODE: 3 - FINAL SCORE: 0.6104109406471252 - Temperature: 0.49540030663261464\n",
      "EPISODE: 4 - FINAL SCORE: 0.6854962825775146 - Temperature: 0.4931163522466796\n",
      "EPISODE: 5 - FINAL SCORE: 0.773848009109497 - Temperature: 0.4908429276233773\n",
      "EPISODE: 6 - FINAL SCORE: 0.8164666414260864 - Temperature: 0.488579984217123\n",
      "EPISODE: 7 - FINAL SCORE: 0.6525083303451538 - Temperature: 0.48632747370614277\n",
      "EPISODE: 8 - FINAL SCORE: 0.8150676608085632 - Temperature: 0.48408534799144154\n",
      "EPISODE: 9 - FINAL SCORE: 0.8344451606273651 - Temperature: 0.48185355919577594\n",
      "EPISODE: 10 - FINAL SCORE: 0.6324075579643249 - Temperature: 0.4796320596626322\n",
      "EPISODE: 11 - FINAL SCORE: 0.7039040446281433 - Temperature: 0.4774208019552083\n",
      "EPISODE: 12 - FINAL SCORE: 0.6250701069831848 - Temperature: 0.4752197388554011\n",
      "EPISODE: 13 - FINAL SCORE: 0.5930023908615112 - Temperature: 0.473028823362798\n",
      "EPISODE: 14 - FINAL SCORE: 0.6376994371414184 - Temperature: 0.4708480086936735\n",
      "EPISODE: 15 - FINAL SCORE: 0.5922315239906311 - Temperature: 0.4686772482799901\n",
      "EPISODE: 16 - FINAL SCORE: 0.8579110622406005 - Temperature: 0.46651649576840376\n",
      "EPISODE: 17 - FINAL SCORE: 0.8489744782447814 - Temperature: 0.4643657050192743\n",
      "EPISODE: 18 - FINAL SCORE: 0.5001067638397216 - Temperature: 0.46222483010568016\n",
      "EPISODE: 19 - FINAL SCORE: 0.8613849997520446 - Temperature: 0.4600938253124376\n",
      "EPISODE: 20 - FINAL SCORE: 0.6757343530654907 - Temperature: 0.45797264513512437\n",
      "EPISODE: 21 - FINAL SCORE: 0.7169693529605865 - Temperature: 0.45586124427910846\n",
      "EPISODE: 22 - FINAL SCORE: 0.6781558513641357 - Temperature: 0.45375957765858044\n",
      "EPISODE: 23 - FINAL SCORE: 0.8613460183143615 - Temperature: 0.4516676003955912\n",
      "EPISODE: 24 - FINAL SCORE: 0.9057942152023315 - Temperature: 0.44958526781909297\n",
      "EPISODE: 25 - FINAL SCORE: 0.6514549374580383 - Temperature: 0.4475125354639863\n",
      "EPISODE: 26 - FINAL SCORE: 0.6631827473640441 - Temperature: 0.4454493590701697\n",
      "EPISODE: 27 - FINAL SCORE: 0.603799295425415 - Temperature: 0.4433956945815953\n",
      "EPISODE: 28 - FINAL SCORE: 0.694032621383667 - Temperature: 0.4413514981453275\n",
      "EPISODE: 29 - FINAL SCORE: 0.7264504253864288 - Temperature: 0.4393167261106069\n",
      "EPISODE: 30 - FINAL SCORE: 0.7594284236431121 - Temperature: 0.43729133502791817\n",
      "EPISODE: 31 - FINAL SCORE: 0.822955322265625 - Temperature: 0.4352752816480621\n",
      "EPISODE: 32 - FINAL SCORE: 0.8968567967414856 - Temperature: 0.4332685229212322\n",
      "EPISODE: 33 - FINAL SCORE: 0.7785900056362152 - Temperature: 0.43127101599609535\n",
      "EPISODE: 34 - FINAL SCORE: 0.7746296346187591 - Temperature: 0.4292827182188769\n",
      "EPISODE: 35 - FINAL SCORE: 0.6735732674598693 - Temperature: 0.4273035871324498\n",
      "EPISODE: 36 - FINAL SCORE: 0.8902323067188262 - Temperature: 0.4253335804754279\n",
      "EPISODE: 37 - FINAL SCORE: 0.7540412664413452 - Temperature: 0.42337265618126363\n",
      "EPISODE: 38 - FINAL SCORE: 0.7725074410438537 - Temperature: 0.42142077237734976\n",
      "EPISODE: 39 - FINAL SCORE: 0.7146271586418151 - Temperature: 0.4194778873841251\n",
      "EPISODE: 40 - FINAL SCORE: 0.7404153168201446 - Temperature: 0.41754395971418473\n",
      "EPISODE: 41 - FINAL SCORE: 0.5716734051704406 - Temperature: 0.41561894807139393\n",
      "EPISODE: 42 - FINAL SCORE: 0.5843272924423217 - Temperature: 0.41370281135000647\n",
      "EPISODE: 43 - FINAL SCORE: 0.839336496591568 - Temperature: 0.4117955086337866\n",
      "EPISODE: 44 - FINAL SCORE: 0.9127400040626525 - Temperature: 0.4098969991951359\n",
      "EPISODE: 45 - FINAL SCORE: 0.6141945242881774 - Temperature: 0.4080072424942228\n",
      "EPISODE: 46 - FINAL SCORE: 0.6926639199256897 - Temperature: 0.40612619817811785\n",
      "EPISODE: 47 - FINAL SCORE: 0.6913883209228515 - Temperature: 0.4042538260799311\n",
      "EPISODE: 48 - FINAL SCORE: 0.5436453938484191 - Temperature: 0.4023900862179552\n",
      "EPISODE: 49 - FINAL SCORE: 0.7687134563922882 - Temperature: 0.4005349387948111\n",
      "EPISODE: 50 - FINAL SCORE: 0.677427065372467 - Temperature: 0.39868834419659854\n",
      "EPISODE: 51 - FINAL SCORE: 0.8456196308135986 - Temperature: 0.39685026299204995\n",
      "EPISODE: 52 - FINAL SCORE: 0.9730235159397125 - Temperature: 0.39502065593168867\n",
      "EPISODE: 53 - FINAL SCORE: 0.7453273057937622 - Temperature: 0.3931994839469906\n",
      "EPISODE: 54 - FINAL SCORE: 0.6841683506965637 - Temperature: 0.3913867081495503\n",
      "EPISODE: 55 - FINAL SCORE: 0.7836512148380279 - Temperature: 0.38958228983025\n",
      "EPISODE: 56 - FINAL SCORE: 0.6638872742652893 - Temperature: 0.3877861904584337\n",
      "EPISODE: 57 - FINAL SCORE: 0.7239321589469909 - Temperature: 0.38599837168108403\n",
      "EPISODE: 58 - FINAL SCORE: 0.586095106601715 - Temperature: 0.38421879532200315\n",
      "EPISODE: 59 - FINAL SCORE: 0.8423379480838775 - Temperature: 0.38244742338099796\n",
      "EPISODE: 60 - FINAL SCORE: 0.8642854511737823 - Temperature: 0.38068421803306834\n",
      "EPISODE: 61 - FINAL SCORE: 0.8853505671024322 - Temperature: 0.3789291416275996\n",
      "EPISODE: 62 - FINAL SCORE: 0.9966637909412384 - Temperature: 0.3771821566875584\n",
      "EPISODE: 63 - FINAL SCORE: 0.7508020520210266 - Temperature: 0.3754432259086926\n",
      "EPISODE: 64 - FINAL SCORE: 0.7080174803733825 - Temperature: 0.3737123121587347\n",
      "EPISODE: 65 - FINAL SCORE: 0.6840916395187377 - Temperature: 0.3719893784766087\n",
      "EPISODE: 66 - FINAL SCORE: 0.738606584072113 - Temperature: 0.37027438807164115\n",
      "EPISODE: 67 - FINAL SCORE: 0.712119323015213 - Temperature: 0.3685673043227754\n",
      "EPISODE: 68 - FINAL SCORE: 0.6602463841438293 - Temperature: 0.3668680907777896\n",
      "EPISODE: 69 - FINAL SCORE: 0.7690119564533233 - Temperature: 0.36517671115251826\n",
      "EPISODE: 70 - FINAL SCORE: 0.8225903332233429 - Temperature: 0.3634931293300777\n",
      "EPISODE: 71 - FINAL SCORE: 0.7884092152118682 - Temperature: 0.3618173093600946\n",
      "EPISODE: 72 - FINAL SCORE: 0.7185469686985015 - Temperature: 0.3601492154579383\n",
      "EPISODE: 73 - FINAL SCORE: 0.7981208086013794 - Temperature: 0.35848881200395694\n",
      "EPISODE: 74 - FINAL SCORE: 0.8082457602024078 - Temperature: 0.3568360635427165\n",
      "EPISODE: 75 - FINAL SCORE: 0.7602947175502777 - Temperature: 0.35519093478224406\n",
      "EPISODE: 76 - FINAL SCORE: 0.7938705205917358 - Temperature: 0.35355339059327384\n",
      "EPISODE: 77 - FINAL SCORE: 0.6202005267143249 - Temperature: 0.3519233960084975\n",
      "EPISODE: 78 - FINAL SCORE: 0.6467783570289611 - Temperature: 0.3503009162218169\n",
      "EPISODE: 79 - FINAL SCORE: 0.6311323761940002 - Temperature: 0.34868591658760145\n",
      "EPISODE: 80 - FINAL SCORE: 0.7467911958694458 - Temperature: 0.3470783626199479\n",
      "EPISODE: 81 - FINAL SCORE: 1.15709577947855 - Temperature: 0.3454782199919441\n",
      "EPISODE: 82 - FINAL SCORE: 0.8039292216300964 - Temperature: 0.343885454534936\n",
      "EPISODE: 83 - FINAL SCORE: 1.1085275754332542 - Temperature: 0.34230003223779804\n",
      "EPISODE: 84 - FINAL SCORE: 0.8239910721778869 - Temperature: 0.34072191924620676\n",
      "EPISODE: 85 - FINAL SCORE: 0.6501540064811706 - Temperature: 0.33915108186191806\n",
      "EPISODE: 86 - FINAL SCORE: 0.7428559184074401 - Temperature: 0.3375874865420476\n",
      "EPISODE: 87 - FINAL SCORE: 0.6642383456230163 - Temperature: 0.33603109989835445\n",
      "EPISODE: 88 - FINAL SCORE: 0.6903749227523803 - Temperature: 0.3344818886965281\n",
      "EPISODE: 89 - FINAL SCORE: 0.88117356300354 - Temperature: 0.3329398198554791\n",
      "EPISODE: 90 - FINAL SCORE: 0.6848244190216064 - Temperature: 0.33140486044663225\n",
      "EPISODE: 91 - FINAL SCORE: 0.8826502978801727 - Temperature: 0.32987697769322366\n",
      "EPISODE: 92 - FINAL SCORE: 0.9560220211744308 - Temperature: 0.328356138969601\n",
      "EPISODE: 93 - FINAL SCORE: 0.8390339136123657 - Temperature: 0.3268423118005264\n",
      "EPISODE: 94 - FINAL SCORE: 0.7937701165676116 - Temperature: 0.3253354638604835\n",
      "EPISODE: 95 - FINAL SCORE: 0.6987691044807434 - Temperature: 0.3238355629729869\n",
      "EPISODE: 96 - FINAL SCORE: 0.838633519411087 - Temperature: 0.3223425771098949\n",
      "EPISODE: 97 - FINAL SCORE: 0.7036419332027435 - Temperature: 0.3208564743907262\n",
      "EPISODE: 98 - FINAL SCORE: 0.866439414024353 - Temperature: 0.31937722308197836\n",
      "EPISODE: 99 - FINAL SCORE: 0.7665842592716217 - Temperature: 0.31790479159645085\n",
      "EPISODE: 100 - FINAL SCORE: 0.9907949984073638 - Temperature: 0.3164391484925701\n",
      "EPISODE: 101 - FINAL SCORE: 0.4456852793693542 - Temperature: 0.3149802624737184\n",
      "EPISODE: 102 - FINAL SCORE: 1.5108389675617218 - Temperature: 0.31352810238756545\n",
      "EPISODE: 103 - FINAL SCORE: 0.9487914264202117 - Temperature: 0.3120826372254031\n",
      "EPISODE: 104 - FINAL SCORE: 0.7034384131431579 - Temperature: 0.31064383612148344\n",
      "EPISODE: 105 - FINAL SCORE: 0.8154920160770416 - Temperature: 0.30921166835235947\n",
      "EPISODE: 106 - FINAL SCORE: 1.017690074443817 - Temperature: 0.3077861033362292\n",
      "EPISODE: 107 - FINAL SCORE: 0.7522359907627105 - Temperature: 0.3063671106322825\n",
      "EPISODE: 108 - FINAL SCORE: 0.9986484169960022 - Temperature: 0.3049546599400511\n",
      "EPISODE: 109 - FINAL SCORE: 1.104271863400936 - Temperature: 0.30354872109876185\n",
      "EPISODE: 110 - FINAL SCORE: 0.5828529119491577 - Temperature: 0.3021492640866921\n",
      "EPISODE: 111 - FINAL SCORE: 1.0288049846887588 - Temperature: 0.30075625902052927\n",
      "EPISODE: 112 - FINAL SCORE: 0.6879712462425231 - Temperature: 0.2993696761547323\n",
      "EPISODE: 113 - FINAL SCORE: 0.588725459575653 - Temperature: 0.2979894858808966\n",
      "EPISODE: 114 - FINAL SCORE: 0.4673491239547729 - Temperature: 0.29661565872712187\n",
      "EPISODE: 115 - FINAL SCORE: 0.9841638028621673 - Temperature: 0.29524816535738274\n",
      "EPISODE: 116 - FINAL SCORE: 0.6893725514411926 - Temperature: 0.2938869765709023\n",
      "EPISODE: 117 - FINAL SCORE: 0.7597214102745056 - Temperature: 0.29253206330152864\n",
      "EPISODE: 118 - FINAL SCORE: 0.53501398563385 - Temperature: 0.29118339661711407\n",
      "EPISODE: 119 - FINAL SCORE: 0.7634824931621551 - Temperature: 0.28984094771889746\n",
      "EPISODE: 120 - FINAL SCORE: 0.714340192079544 - Temperature: 0.2885046879408891\n",
      "EPISODE: 121 - FINAL SCORE: 0.9684146165847778 - Temperature: 0.2871745887492589\n",
      "EPISODE: 122 - FINAL SCORE: 0.9687617689371109 - Temperature: 0.2858506217417266\n",
      "EPISODE: 123 - FINAL SCORE: 0.7774555504322052 - Temperature: 0.2845327586469557\n",
      "EPISODE: 124 - FINAL SCORE: 0.7465218126773834 - Temperature: 0.2832209713239498\n",
      "EPISODE: 125 - FINAL SCORE: 0.893040132522583 - Temperature: 0.2819152317614512\n",
      "EPISODE: 126 - FINAL SCORE: 0.6197674393653869 - Temperature: 0.28061551207734337\n",
      "EPISODE: 127 - FINAL SCORE: 0.7398877263069152 - Temperature: 0.2793217845180551\n",
      "EPISODE: 128 - FINAL SCORE: 0.8410660743713378 - Temperature: 0.2780340214579682\n",
      "EPISODE: 129 - FINAL SCORE: 0.8303692758083343 - Temperature: 0.2767521953988273\n",
      "EPISODE: 130 - FINAL SCORE: 1.5611000776290893 - Temperature: 0.27547627896915283\n",
      "EPISODE: 131 - FINAL SCORE: 1.2938927605748176 - Temperature: 0.27420624492365664\n",
      "EPISODE: 132 - FINAL SCORE: 1.2354158207774162 - Temperature: 0.27294206614266\n",
      "EPISODE: 133 - FINAL SCORE: 0.6820916652679443 - Temperature: 0.27168371563151467\n",
      "EPISODE: 134 - FINAL SCORE: 1.2669640228152275 - Temperature: 0.2704311665200263\n",
      "EPISODE: 135 - FINAL SCORE: 0.7581885874271392 - Temperature: 0.2691843920618809\n",
      "EPISODE: 136 - FINAL SCORE: 1.0972176983952522 - Temperature: 0.26794336563407345\n",
      "EPISODE: 137 - FINAL SCORE: 1.561316055059433 - Temperature: 0.2667080607363395\n",
      "EPISODE: 138 - FINAL SCORE: 1.6620318412780761 - Temperature: 0.26547845099058953\n",
      "EPISODE: 139 - FINAL SCORE: 0.8574924290180206 - Temperature: 0.26425451014034523\n",
      "EPISODE: 140 - FINAL SCORE: 0.9447634041309356 - Temperature: 0.26303621205017924\n",
      "EPISODE: 141 - FINAL SCORE: 0.78096244931221 - Temperature: 0.2618235307051568\n",
      "EPISODE: 142 - FINAL SCORE: 0.9105494737625122 - Temperature: 0.26061644021028046\n",
      "EPISODE: 143 - FINAL SCORE: 0.6575174450874328 - Temperature: 0.259414914789937\n",
      "EPISODE: 144 - FINAL SCORE: 0.7978484749794006 - Temperature: 0.25821892878734687\n",
      "EPISODE: 145 - FINAL SCORE: 1.0097392320632934 - Temperature: 0.25702845666401675\n",
      "EPISODE: 146 - FINAL SCORE: 0.9991244047880172 - Temperature: 0.25584347299919385\n",
      "EPISODE: 147 - FINAL SCORE: 0.9865899503231048 - Temperature: 0.2546639524893232\n",
      "EPISODE: 148 - FINAL SCORE: 0.7442562401294708 - Temperature: 0.25348986994750744\n",
      "EPISODE: 149 - FINAL SCORE: 0.8180469095706939 - Temperature: 0.2523212003029687\n",
      "EPISODE: 150 - FINAL SCORE: 0.8521042585372924 - Temperature: 0.25115791860051356\n"
     ]
    }
   ],
   "source": [
    "# Initialize the Gym environment\n",
    "env = gym.make(chosen_env) \n",
    "env.seed(0) # Set a random seed for the environment (reproducible results)\n",
    "\n",
    "# This is for creating the output video in Colab, not required outside Colab\n",
    "if colab:\n",
    "    env = wrap_env(env, video_callable=lambda episode_id: episode_id % 100 == 0) # Save a video every 100 episodes\n",
    "\n",
    "#list of losses and scores\n",
    "losses, scores = [],[]\n",
    "for episode_num, tau in enumerate(tqdm(exploration_profile)):\n",
    "    if use_epsilon_greedy:\n",
    "        epsilon = tau\n",
    "\n",
    "    # Reset the environment and get the initial state\n",
    "    state = env.reset()\n",
    "    # Reset the score, score will be the maximum position reached\n",
    "    position = -0.5\n",
    "    max_speed = 0\n",
    "    done = False\n",
    "    score = -1\n",
    "    episode_loss = []\n",
    "    while not done:\n",
    "        # Choose the action following the policy\n",
    "        action, q_values = choose_action_epsilon_greedy(policy_net, state, epsilon) if use_epsilon_greedy else choose_action_softmax(policy_net, state, temperature=tau)\n",
    "        \n",
    "        # Apply the action and get the next state, the reward and a flag \"done\" that is True if the game is ended\n",
    "        next_state, reward, done, info = env.step(action)\n",
    "\n",
    "        ## SCORE UPDATE AND REWARD UPDATE\n",
    "        curr_position = -1\n",
    "        \n",
    "        if done: # more than 200 steps or car arrived at the end (>= 0.5)\n",
    "            next_state = None\n",
    "            curr_position = -1\n",
    "            curr_speed = -1\n",
    "            score = max(score, state[0]+1.2)\n",
    "        else:\n",
    "            curr_position = next_state[0]\n",
    "            curr_speed = next_state[1]\n",
    "\n",
    "        # big reward if it achieves the goal\n",
    "        if reward == 0:\n",
    "            reward += 30\n",
    "        else:\n",
    "            reward = -0.1\n",
    "\n",
    "        #reward if it beats it's previous score\n",
    "        if curr_position > position:\n",
    "            reward += 1 + 2*(curr_position - position)\n",
    "            position = curr_position\n",
    "\n",
    "        #reward if it achieves a higher speed\n",
    "        if curr_speed > max_speed:\n",
    "            reward += 1 + 1*(curr_speed - max_speed)\n",
    "            max_speed = curr_speed\n",
    "\n",
    "        # Update the replay memory\n",
    "        replay_mem.push(state, action, next_state, reward)\n",
    "\n",
    "        # Update the network\n",
    "        if len(replay_mem) > min_samples_for_training: # we enable the training only if we have enough samples in the replay memory, otherwise the training will use the same samples too often\n",
    "            loss = update_step(policy_net, target_net, replay_mem, gamma, optimizer, loss_fn, batch_size)\n",
    "            episode_loss.append(loss)\n",
    "            \n",
    "        # Visually render the environment (disable to speed up the training)\n",
    "        if not colab and show_render:\n",
    "            env.render()\n",
    "\n",
    "        # Set the current state for the next iteration\n",
    "        state = next_state\n",
    "    #end of while loop\n",
    "\n",
    "    #get episode loss\n",
    "    average_episode_loss = np.mean(episode_loss)\n",
    "    losses.append(average_episode_loss)\n",
    "    #get episode score\n",
    "    scores.append(score)\n",
    "\n",
    "    # Update the target network every target_net_update_steps episodes\n",
    "    if episode_num % target_net_update_steps == 0:\n",
    "        #print('Updating target network...')\n",
    "        target_net.load_state_dict(policy_net.state_dict()) # This will copy the weights of the policy network to the target network\n",
    "\n",
    "    # Print the final score\n",
    "    print(f\"EPISODE: {episode_num + 1} - FINAL SCORE: {score} - Temperature/epsilon: {tau}\") # Print the final score\n",
    "\n",
    "env.close()"
   ]
  },
  {
   "cell_type": "markdown",
   "metadata": {},
   "source": [
    "Reward function is key, in this case the idea is that the agent get rewards only when it beats himself "
   ]
  },
  {
   "cell_type": "code",
   "execution_count": 37,
   "metadata": {
    "id": "7FQjjVTiP2T6"
   },
   "outputs": [],
   "source": [
    "# Display the videos, not required outside Colab\n",
    "if colab and show_video:\n",
    "    show_videos()"
   ]
  },
  {
   "cell_type": "code",
   "execution_count": 38,
   "metadata": {},
   "outputs": [
    {
     "data": {
      "image/png": "[encoded data removed]",
      "text/plain": [
       "<Figure size 864x360 with 2 Axes>"
      ]
     },
     "metadata": {
      "needs_background": "light"
     },
     "output_type": "display_data"
    }
   ],
   "source": [
    "#plot scores and losses\n",
    "plt.figure(figsize=(12,5))\n",
    "plt.subplot(1,2,1)\n",
    "plt.plot(scores)\n",
    "plt.title('Scores')\n",
    "plt.subplot(1,2,2)\n",
    "plt.plot(losses)\n",
    "plt.title('Losses')\n",
    "plt.show()"
   ]
  },
  {
   "cell_type": "markdown",
   "metadata": {},
   "source": [
    "Adding an exploration profile makes the loss go down, however the score goes down with the loss too"
   ]
  },
  {
   "cell_type": "markdown",
   "metadata": {
    "id": "JkG9iDZTIhzc"
   },
   "source": [
    "# Final test"
   ]
  },
  {
   "cell_type": "code",
   "execution_count": 39,
   "metadata": {
    "id": "vJKgnu3_IjWE"
   },
   "outputs": [
    {
     "name": "stdout",
     "output_type": "stream",
     "text": [
      "AVERAGE SCORE: 1.4635824859142301\n"
     ]
    }
   ],
   "source": [
    "# Initialize the Gym environment\n",
    "env = gym.make(chosen_env) \n",
    "env.seed(1) # Set a random seed for the environment (reproducible results)\n",
    "\n",
    "# This is for creating the output video in Colab, not required outside Colab\n",
    "if colab:\n",
    "  env = wrap_env(env, video_callable=lambda episode_id: True) # Save a video every episode\n",
    "\n",
    "show_render = True\n",
    "\n",
    "# Let's try for a total of 10 episodes\n",
    "scores = []\n",
    "for num_episode in range(10): \n",
    "    # Reset the environment and get the initial state\n",
    "    state = env.reset()\n",
    "    # Reset the score. The final score will be the total amount of steps before the pole falls\n",
    "    score = -0.5\n",
    "    done = False\n",
    "    # Go on until the pole falls off or the score reach 490\n",
    "    while not done:\n",
    "      # Choose the best action (temperature 0)\n",
    "      action, q_values = choose_action_epsilon_greedy(policy_net, state, epsilon=0) if use_epsilon_greedy else choose_action_softmax(policy_net, state, temperature=0) \n",
    "      # Apply the action and get the next state, the reward and a flag \"done\" that is True if the game is ended\n",
    "      next_state, reward, done, info = env.step(action)\n",
    "      # Visually render the environment\n",
    "      if not colab and show_render:\n",
    "        env.render()\n",
    "      # Update the final score (+1 for each step)\n",
    "      score = max(score, next_state[0]+1.2)\n",
    "      # Set the current state for the next iteration\n",
    "      state = next_state\n",
    "    # Print the final score\n",
    "    #print(f\"EPISODE {num_episode + 1} - FINAL SCORE: {score}\") \n",
    "    scores.append(score)  \n",
    "env.close()\n",
    "\n",
    "#print the average score\n",
    "print(f\"AVERAGE SCORE: {np.mean(scores)}\")"
   ]
  },
  {
   "cell_type": "code",
   "execution_count": 40,
   "metadata": {},
   "outputs": [],
   "source": [
    "#let an agent play for a few episodes   \n",
    "#doesn't work in colab, but works in local\n",
    "if not colab:\n",
    "  env = gym.make(chosen_env)\n",
    "  #env.seed(42)\n",
    "\n",
    "  show_render = True\n",
    "\n",
    "  scores = []\n",
    "  # Reset the environment and get the initial state\n",
    "  state = env.reset()\n",
    "  # Reset the score. The final score will be the total amount of steps before the pole falls\n",
    "  # Go on\n",
    "  for i in range(1000):\n",
    "      # Choose the best action (temperature 0)\n",
    "      action, q_values = choose_action_epsilon_greedy(policy_net, state, epsilon=0) if use_epsilon_greedy else choose_action_softmax(policy_net, state, temperature=0) \n",
    "      # Apply the action and get the next state, the reward and a flag \"done\" that is True if the game is ended\n",
    "      next_state, reward, done, info = env.step(action)\n",
    "      # Visually render the environment\n",
    "      if not colab and show_render:\n",
    "          env.render()\n",
    "      # Set the current state for the next iteration\n",
    "      state = next_state\n",
    "  env.close()\n",
    "\n",
    "  show_render = False"
   ]
  },
  {
   "cell_type": "code",
   "execution_count": 41,
   "metadata": {
    "id": "mxdtGJutLqlw"
   },
   "outputs": [],
   "source": [
    "# Display the videos, not required outside Colab\n",
    "if colab: \n",
    "    show_videos()"
   ]
  }
 ],
 "metadata": {
  "interpreter": {
   "hash": "cee89b7c6bc96453738565335b56b694d8a30ac65e979633b683f8408c8233c6"
  },
  "kernelspec": {
   "display_name": "Python 3.7.12 64-bit ('dl_env': venv)",
   "language": "python",
   "name": "python3"
  },
  "language_info": {
   "codemirror_mode": {
    "name": "ipython",
    "version": 3
   },
   "file_extension": ".py",
   "mimetype": "text/x-python",
   "name": "python",
   "nbconvert_exporter": "python",
   "pygments_lexer": "ipython3",
   "version": "3.7.12"
  },
  "orig_nbformat": 4
 },
 "nbformat": 4,
 "nbformat_minor": 2
}
