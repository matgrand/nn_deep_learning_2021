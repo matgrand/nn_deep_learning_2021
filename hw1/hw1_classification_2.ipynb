{
 "cells": [
  {
   "cell_type": "markdown",
   "metadata": {},
   "source": [
    "### Classification Task"
   ]
  },
  {
   "cell_type": "code",
   "execution_count": 1,
   "metadata": {},
   "outputs": [
    {
     "name": "stdout",
     "output_type": "stream",
     "text": [
      "Selected device: cuda\n"
     ]
    }
   ],
   "source": [
    "import matplotlib.pyplot as plt # plotting library\n",
    "import numpy as np # this module is useful to work with numerical arrays\n",
    "import pandas as pd # this module is useful to work with tabular data\n",
    "import random # this module will be used to select random samples from a collection\n",
    "import os # this module will be used just to create directories in the local filesystem\n",
    "from tqdm import tqdm # this module is useful to plot progress bars\n",
    "\n",
    "import torch\n",
    "import torchvision\n",
    "import torch.nn.functional as F\n",
    "from torchvision import transforms\n",
    "from torch.utils.data import DataLoader\n",
    "from torch import nn\n",
    "from sklearn.model_selection import KFold # this module is useful to split data into training and test sets\n",
    "from torch.utils.data import SubsetRandomSampler\n",
    "\n",
    "# Check if the GPU is available\n",
    "device = torch.device(\"cuda\") if torch.cuda.is_available() else torch.device(\"cpu\")\n",
    "print(f'Selected device: {device}')"
   ]
  },
  {
   "cell_type": "markdown",
   "metadata": {},
   "source": [
    "## Dataset"
   ]
  },
  {
   "cell_type": "code",
   "execution_count": 2,
   "metadata": {},
   "outputs": [
    {
     "name": "stdout",
     "output_type": "stream",
     "text": [
      "Train dataset : Dataset FashionMNIST\n",
      "    Number of datapoints: 60000\n",
      "    Root location: classifier_data\n",
      "    Split: Train\n",
      "    StandardTransform\n",
      "Transform: ToTensor()\n",
      "Test dataset  : Dataset FashionMNIST\n",
      "    Number of datapoints: 10000\n",
      "    Root location: classifier_data\n",
      "    Split: Test\n",
      "    StandardTransform\n",
      "Transform: ToTensor()\n",
      "PyTorch tensor shape: torch.Size([1, 28, 28])\n",
      "PyTorch tensor type: torch.float32\n"
     ]
    }
   ],
   "source": [
    "train_dataset = torchvision.datasets.FashionMNIST('classifier_data', train=True, download=True, transform=transforms.ToTensor())\n",
    "test_dataset  = torchvision.datasets.FashionMNIST('classifier_data', train=False, download=True, transform=transforms.ToTensor())\n",
    "\n",
    "print(f\"Train dataset : {train_dataset}\")\n",
    "print(f\"Test dataset  : {test_dataset}\")\n",
    "\n",
    "label_names=['t-shirt','trouser','pullover','dress','coat','sandal','shirt',\n",
    "             'sneaker','bag','boot']\n",
    "sample_index = 0\n",
    "num_labels = len(label_names)\n",
    "image = train_dataset[sample_index][0]\n",
    "label = label_names[train_dataset[sample_index][1]]\n",
    "\n",
    "print(f'PyTorch tensor shape: {image.shape}')\n",
    "print(f'PyTorch tensor type: {image.dtype}')"
   ]
  },
  {
   "cell_type": "markdown",
   "metadata": {},
   "source": [
    "## Dataloader"
   ]
  },
  {
   "cell_type": "code",
   "execution_count": 3,
   "metadata": {},
   "outputs": [
    {
     "name": "stdout",
     "output_type": "stream",
     "text": [
      "TEST BATCH SHAPE\n",
      "Test dataloader size: 1 batches\n",
      "\t Data: torch.Size([10000, 1, 28, 28])\n",
      "\t Labels: torch.Size([10000])\n"
     ]
    }
   ],
   "source": [
    "# # Define train dataloader\n",
    "# train_dataloader = DataLoader(train_ds, batch_size=256, shuffle=False) # shuffle=True\n",
    "\n",
    "# # Define validation dataloader\n",
    "# validation_dataloader = DataLoader(validation_ds, batch_size=256, shuffle=False) # shuffle=True\n",
    "\n",
    "# Define test dataloader\n",
    "test_dataloader = DataLoader(test_dataset, batch_size=len(test_dataset), shuffle=False) #try big bs\n",
    "\n",
    "\n",
    "# batch_data, batch_labels = next(iter(train_dataloader))\n",
    "# print(f\"TRAIN BATCH SHAPE\")\n",
    "# print(f'Train dataloader size: {len(train_dataloader)} batches')\n",
    "# print(f\"\\t Data: {batch_data.shape}\")\n",
    "# print(f\"\\t Labels: {batch_labels.shape}\")\n",
    "\n",
    "# batch_data, batch_labels = next(iter(validation_dataloader))\n",
    "# print(f\"VALIDATION BATCH SHAPE\")\n",
    "# print(f'Validation dataloader size: {len(validation_dataloader)} batches')\n",
    "# print(f\"\\t Data: {batch_data.shape}\")\n",
    "# print(f\"\\t Labels: {batch_labels.shape}\")\n",
    "\n",
    "batch_data, batch_labels = next(iter(test_dataloader))\n",
    "print(f\"TEST BATCH SHAPE\")\n",
    "print(f'Test dataloader size: {len(test_dataloader)} batches')\n",
    "print(f\"\\t Data: {batch_data.shape}\")\n",
    "print(f\"\\t Labels: {batch_labels.shape}\")"
   ]
  },
  {
   "cell_type": "markdown",
   "metadata": {},
   "source": [
    "## Convolutional Network"
   ]
  },
  {
   "cell_type": "code",
   "execution_count": 4,
   "metadata": {},
   "outputs": [],
   "source": [
    "#good convolutinal neural network architecture, 88% accuracy with 150 epochs, v1\n",
    "class myCNN(nn.Module):\n",
    "    \n",
    "    def __init__(self):\n",
    "        super().__init__()\n",
    "        \n",
    "        ### Convolutional section\n",
    "        self.conv = nn.Sequential(\n",
    "            # First convolutional layer\n",
    "            nn.Conv2d(in_channels= 1, out_channels=6, kernel_size=5),\n",
    "            nn.ReLU(True),\n",
    "            nn.MaxPool2d(kernel_size=2, stride=2),\n",
    "            # Second convolutional layer\n",
    "            nn.Conv2d(in_channels=6, out_channels=12, kernel_size=5),\n",
    "            nn.ReLU(True),\n",
    "            nn.MaxPool2d(kernel_size=2, stride=2),\n",
    "        )\n",
    "        \n",
    "        ### Flatten layer\n",
    "        self.flatten = nn.Flatten(start_dim=1)\n",
    "\n",
    "        ### Linear section\n",
    "        self.lin = nn.Sequential(\n",
    "            # First linear layer\n",
    "            nn.Linear(in_features=12*4*4, out_features=64),\n",
    "            nn.ReLU(True),\n",
    "            nn.Dropout(p=0.5),\n",
    "            # Second linear\n",
    "            nn.Linear(in_features=64, out_features=32),\n",
    "            nn.ReLU(True),\n",
    "            nn.Dropout(p=0.5),\n",
    "\n",
    "            nn.Linear(in_features=32, out_features=10),\n",
    "            nn.ReLU(True),\n",
    "\n",
    "            # we don't need softmax since we'll use cross entropy loss\n",
    "        )\n",
    "        \n",
    "    def forward(self, x):\n",
    "        # Apply convolutions\n",
    "        x = self.conv(x)\n",
    "        # Flatten\n",
    "        x = self.flatten(x)\n",
    "        # # Apply linear layers\n",
    "        x = self.lin(x)\n",
    "        return x"
   ]
  },
  {
   "cell_type": "markdown",
   "metadata": {},
   "source": [
    "## Training"
   ]
  },
  {
   "cell_type": "code",
   "execution_count": 5,
   "metadata": {},
   "outputs": [],
   "source": [
    "# Training function\n",
    "def train_epoch(model, dataloader, loss_fn, optimizer, device):\n",
    "    # Set the model to training mode\n",
    "    model.train()\n",
    "    # Initialize the loss\n",
    "    running_loss = 0\n",
    "    train_loss = []\n",
    "    # Loop over the training batches\n",
    "    for (data, label) in tqdm(dataloader):\n",
    "        # target = onehot encoding of label\n",
    "        target = torch.eye(10)[label] \n",
    "        # Move the input and target data to the selected device\n",
    "        data, target = data.to(device), target.to(device)\n",
    "        # Zero the gradients\n",
    "        optimizer.zero_grad()\n",
    "        # Compute the output\n",
    "        output = model(data)\n",
    "        assert output.shape == target.shape\n",
    "        # Compute the loss\n",
    "        loss = loss_fn(output, target)\n",
    "        # Compute the gradients\n",
    "        loss.backward()\n",
    "        # Update the weights\n",
    "        optimizer.step()\n",
    "        #batch loss\n",
    "        loss_batch = loss.detach().cpu().numpy()\n",
    "        train_loss.append(loss_batch)\n",
    "    # Return the average training loss\n",
    "    train_loss = np.mean(train_loss)\n",
    "    #print(f\"Training loss: {train_loss}\")\n",
    "    return train_loss\n",
    "\n",
    "#validation function\n",
    "def validate_epoch(model, dataloader, loss_fn, device):\n",
    "    # Set the model to evaluation mode\n",
    "    model.eval()\n",
    "    # Initialize the validation loss\n",
    "    val_loss = []\n",
    "    # Loop over the validation batches\n",
    "    with torch.no_grad():\n",
    "        for (data, label) in dataloader:\n",
    "            # target = onehot encoding of label\n",
    "            target = torch.eye(10)[label] \n",
    "            # Move the input and target data to the selected device\n",
    "            data, target = data.to(device), target.to(device)\n",
    "            # Compute the output\n",
    "            output = model(data)\n",
    "            assert output.shape == target.shape\n",
    "            # Compute the loss\n",
    "            loss = loss_fn(output, target)\n",
    "            #batch loss\n",
    "            loss_batch = loss.detach().cpu().numpy()\n",
    "            val_loss.append(loss_batch)\n",
    "    # Return the average validation loss\n",
    "    val_loss = np.mean(val_loss)\n",
    "    #print(f\"Validation loss: {val_loss}\")\n",
    "    return val_loss\n",
    "\n",
    "#reset weights function\n",
    "def reset_weights(model):\n",
    "    for layer in model.modules():\n",
    "        if isinstance(layer, nn.Linear) or isinstance(layer, nn.Conv2d):\n",
    "            layer.reset_parameters()\n",
    "\n",
    "# plot and save validation loss\n",
    "def plot_and_save_losses_and_accuracy(comb_val_losses, model_name):\n",
    "    fig = plt.figure(figsize=(8,3))\n",
    "    plt.plot(comb_val_losses, label='Validation loss', color='red')\n",
    "    plt.ylim(0,2)\n",
    "    plt.title(f\"{model_name} Validation Loss\")\n",
    "    plt.xlabel(\"Epoch\")\n",
    "    plt.ylabel(\"Loss\")\n",
    "    plt.grid()\n",
    "    plt.legend()\n",
    "    fig.savefig(f\"images/{model_name}_val_loss.eps\", format=\"eps\", dpi=1000, bbox_inches=\"tight\")\n",
    "    plt.show()\n",
    "    plt.close()\n",
    "\n",
    "#get the percentage of correct predictions on the test set\n",
    "def get_accuracy(model, test_dataloader, loss_fn, device):\n",
    "    correct = 0\n",
    "    total = 0\n",
    "    model.eval()\n",
    "    losses = []\n",
    "    with torch.no_grad():\n",
    "        for (data, label) in test_dataloader:\n",
    "            # target = onehot encoding of label\n",
    "            target = torch.eye(10)[label]\n",
    "            # Move the input and target data to the selected device\n",
    "            data, label, target = data.to(device), label.to(device), target.to(device)\n",
    "            # Compute the output\n",
    "            output = model(data)\n",
    "            assert output.shape == target.shape\n",
    "            # Compute the loss\n",
    "            losses.append(loss_fn(output, target).detach().cpu().numpy())\n",
    "            # Get the index of the max log-probability\n",
    "            pred = output.argmax(dim=1, keepdim=True)\n",
    "            # Add to the total number of correct predictions\n",
    "            correct += pred.eq(label.view_as(pred)).sum().item()\n",
    "            # Add to the total number of predictions\n",
    "            total += data.shape[0]\n",
    "    # Return the accuracy and test loss\n",
    "    test_loss = np.mean(losses)\n",
    "    return correct/total, test_loss"
   ]
  },
  {
   "cell_type": "markdown",
   "metadata": {},
   "source": [
    "## Cross-validation Training and Hyperparameters Tuning"
   ]
  },
  {
   "cell_type": "code",
   "execution_count": 6,
   "metadata": {},
   "outputs": [],
   "source": [
    "torch.manual_seed(42)\n",
    "## Parameters\n",
    "#batch size\n",
    "batch_sizes = [256, 1024]#[32, 64, 128, 256, 512, 1024]\n",
    "#learning rate\n",
    "learning_rates = [5e-4, 1e-3, 5e-3, 1e-2] #[5e-4, 1e-3, 5e-3, 1e-2]\n",
    "#optimiizer\n",
    "optimizers = [torch.optim.Adam, torch.optim.SGD] #[torch.optim.Adam, torch.optim.SGD]\n",
    "optimizer_names = [\"Adam\", \"SGD\"]\n",
    "#epochs\n",
    "epochs = 2\n",
    "#k-folds\n",
    "k_folds = 2"
   ]
  },
  {
   "cell_type": "code",
   "execution_count": 7,
   "metadata": {},
   "outputs": [
    {
     "name": "stdout",
     "output_type": "stream",
     "text": [
      "_____________________1/16____________________\n",
      "Batch size: 256, learning rate: 0.0005, optimizer: Adam\n"
     ]
    },
    {
     "name": "stderr",
     "output_type": "stream",
     "text": [
      "100%|██████████| 118/118 [00:04<00:00, 26.14it/s]\n",
      "100%|██████████| 118/118 [00:04<00:00, 26.60it/s]\n",
      "100%|██████████| 118/118 [00:04<00:00, 25.97it/s]\n",
      "100%|██████████| 118/118 [00:04<00:00, 25.92it/s]\n",
      "100%|██████████| 235/235 [00:09<00:00, 26.01it/s]\n",
      "100%|██████████| 235/235 [00:09<00:00, 25.79it/s]\n"
     ]
    },
    {
     "name": "stdout",
     "output_type": "stream",
     "text": [
      "model name: CNN_256_Adam_5.0e-04\n",
      "Test loss: 0.9429\n",
      "Test accuracy: 65.2500\n"
     ]
    },
    {
     "name": "stderr",
     "output_type": "stream",
     "text": [
      "The PostScript backend does not support transparency; partially transparent artists will be rendered opaque.\n"
     ]
    },
    {
     "data": {
      "image/png": "[encoded data removed]",
      "text/plain": [
       "<Figure size 576x216 with 1 Axes>"
      ]
     },
     "metadata": {
      "needs_background": "light"
     },
     "output_type": "display_data"
    },
    {
     "name": "stdout",
     "output_type": "stream",
     "text": [
      "_____________________2/16____________________\n",
      "Batch size: 256, learning rate: 0.0005, optimizer: SGD\n"
     ]
    },
    {
     "name": "stderr",
     "output_type": "stream",
     "text": [
      "100%|██████████| 118/118 [00:05<00:00, 21.70it/s]\n",
      "100%|██████████| 118/118 [00:04<00:00, 23.98it/s]\n",
      "100%|██████████| 118/118 [00:05<00:00, 23.57it/s]\n",
      "100%|██████████| 118/118 [00:05<00:00, 21.03it/s]\n",
      "100%|██████████| 235/235 [00:09<00:00, 24.62it/s]\n",
      "100%|██████████| 235/235 [00:09<00:00, 25.29it/s]\n"
     ]
    },
    {
     "name": "stdout",
     "output_type": "stream",
     "text": [
      "model name: CNN_256_SGD_5.0e-04\n"
     ]
    },
    {
     "name": "stderr",
     "output_type": "stream",
     "text": [
      "The PostScript backend does not support transparency; partially transparent artists will be rendered opaque.\n"
     ]
    },
    {
     "name": "stdout",
     "output_type": "stream",
     "text": [
      "Test loss: 2.3053\n",
      "Test accuracy: 10.0000\n"
     ]
    },
    {
     "data": {
      "image/png": "[encoded data removed]",
      "text/plain": [
       "<Figure size 576x216 with 1 Axes>"
      ]
     },
     "metadata": {
      "needs_background": "light"
     },
     "output_type": "display_data"
    },
    {
     "name": "stdout",
     "output_type": "stream",
     "text": [
      "_____________________3/16____________________\n",
      "Batch size: 256, learning rate: 0.001, optimizer: Adam\n"
     ]
    },
    {
     "name": "stderr",
     "output_type": "stream",
     "text": [
      "100%|██████████| 118/118 [00:04<00:00, 24.94it/s]\n",
      "100%|██████████| 118/118 [00:05<00:00, 23.47it/s]\n",
      "100%|██████████| 118/118 [00:05<00:00, 22.77it/s]\n",
      "100%|██████████| 118/118 [00:05<00:00, 22.01it/s]\n",
      "100%|██████████| 235/235 [00:10<00:00, 23.32it/s]\n",
      "100%|██████████| 235/235 [00:10<00:00, 21.94it/s]\n"
     ]
    },
    {
     "name": "stdout",
     "output_type": "stream",
     "text": [
      "model name: CNN_256_Adam_1.0e-03\n"
     ]
    },
    {
     "name": "stderr",
     "output_type": "stream",
     "text": [
      "The PostScript backend does not support transparency; partially transparent artists will be rendered opaque.\n"
     ]
    },
    {
     "name": "stdout",
     "output_type": "stream",
     "text": [
      "Test loss: 0.7552\n",
      "Test accuracy: 70.0500\n"
     ]
    },
    {
     "data": {
      "image/png": "[encoded data removed]",
      "text/plain": [
       "<Figure size 576x216 with 1 Axes>"
      ]
     },
     "metadata": {
      "needs_background": "light"
     },
     "output_type": "display_data"
    },
    {
     "name": "stdout",
     "output_type": "stream",
     "text": [
      "_____________________4/16____________________\n",
      "Batch size: 256, learning rate: 0.001, optimizer: SGD\n"
     ]
    },
    {
     "name": "stderr",
     "output_type": "stream",
     "text": [
      "100%|██████████| 118/118 [00:04<00:00, 25.25it/s]\n",
      "100%|██████████| 118/118 [00:04<00:00, 25.36it/s]\n",
      " 37%|███▋      | 44/118 [00:02<00:04, 15.45it/s]"
     ]
    }
   ],
   "source": [
    "losses = np.zeros((len(batch_sizes), len(learning_rates), len(optimizers), epochs))\n",
    "num_tot_combinations = len(batch_sizes) * len(learning_rates) * len(optimizers)\n",
    "comb = 0\n",
    "for b, batch_size in enumerate(batch_sizes):\n",
    "    for l, lr in enumerate(learning_rates):\n",
    "        for o, (optim, optim_name) in enumerate(zip(optimizers, optimizer_names)):\n",
    "            print(f\"_____________________{comb+1}/{num_tot_combinations}____________________\")\n",
    "            print(f\"Batch size: {batch_size}, learning rate: {lr}, optimizer: {optimizer_names[o]}\")\n",
    "            comb += 1\n",
    "            #create model\n",
    "            model = myCNN().to(device)\n",
    "            #create loss function\n",
    "            loss_fn = nn.CrossEntropyLoss()\n",
    "            #create optimizer\n",
    "            optimizer = optim(model.parameters(), lr=lr)\n",
    "            #K-fold\n",
    "            kf = KFold(n_splits=k_folds, shuffle=True)\n",
    "            comb_val_losses = np.zeros(epochs)\n",
    "            for fold, (train_ids, val_ids) in enumerate(kf.split(train_dataset)):\n",
    "                #reset weights\n",
    "                reset_weights(model)\n",
    "                #create dataloaders\n",
    "                train_dataloader = DataLoader(train_dataset, batch_size=batch_size, \n",
    "                                        sampler=SubsetRandomSampler(train_ids))\n",
    "                val_dataloader = DataLoader(train_dataset, batch_size=len(val_ids), #try big bs for val\n",
    "                                        sampler=SubsetRandomSampler(val_ids))\n",
    "                #train model\n",
    "                val_loss_log = []\n",
    "                for epoch in range(epochs):\n",
    "                    train_loss = train_epoch(model, train_dataloader, loss_fn, optimizer, device)\n",
    "                    val_loss = validate_epoch(model, val_dataloader, loss_fn, device)\n",
    "                    val_loss_log.append(val_loss)\n",
    "                    #print(f\"Epoch {epoch+1}/{epochs}: train loss: {train_loss:.4f}, val loss: {val_loss:.4f}\")\n",
    "                comb_val_losses += np.array(val_loss_log) / k_folds\n",
    "            #store losses\n",
    "            losses[b, l, o, :] = comb_val_losses\n",
    "            #complete training on the whole dataset\n",
    "            reset_weights(model)\n",
    "            train_dataloader = DataLoader(train_dataset, batch_size=batch_size, shuffle=True)\n",
    "            for epoch in tqdm(range(epochs)):\n",
    "                _ = train_epoch(model, train_dataloader, loss_fn, optimizer, device)\n",
    "\n",
    "            #plot and save losses\n",
    "            model_name = f\"CNN_{batch_size}_{optim_name}_\"+'{:.1e}'.format(lr)\n",
    "            print(f\"model name: {model_name}\")\n",
    "            accuracy, test_loss = get_accuracy(model, test_dataloader, loss_fn, device)\n",
    "            print(f\"Test loss: {test_loss:.4f}\")\n",
    "            print(f\"Test accuracy: {(accuracy*100):.4f}\")\n",
    "            plot_and_save_losses_and_accuracy(comb_val_losses, model_name)\n",
    "\n"
   ]
  },
  {
   "cell_type": "markdown",
   "metadata": {},
   "source": [
    "# Final Training loop"
   ]
  },
  {
   "cell_type": "code",
   "execution_count": null,
   "metadata": {},
   "outputs": [],
   "source": [
    "#set seed\n",
    "torch.manual_seed(42)\n",
    "\n",
    "# Instantiate the model\n",
    "cnn = myCNN().to(device)\n",
    "\n",
    "# define the loss function\n",
    "loss_fn = nn.CrossEntropyLoss()\n",
    "\n",
    "#define optimizer\n",
    "optimizer = torch.optim.Adam(cnn.parameters(), lr=1e-3)"
   ]
  },
  {
   "cell_type": "code",
   "execution_count": null,
   "metadata": {},
   "outputs": [],
   "source": [
    "# decide to train or not\n",
    "load_good_model = False # if True do not train a new model, if False train a new model\n",
    "good_model_path = \"good_models/cnn_v1_epoch_10.pth\""
   ]
  },
  {
   "cell_type": "code",
   "execution_count": null,
   "metadata": {},
   "outputs": [],
   "source": [
    "#create a folder called training to save the model\n",
    "import pickle\n",
    "if not load_good_model:\n",
    "    if not os.path.exists('training'):\n",
    "        os.makedirs('training')\n",
    "    #clear the training folder\n",
    "    if os.listdir('training'):\n",
    "        for f in os.listdir('training'):\n",
    "            os.remove(os.path.join('training', f))\n",
    "\n",
    "# early stopping helper function\n",
    "def early_stopping(latest_val_losses, best_loss, model, cnt, epoch, increment=0.08, patience=5):\n",
    "    if epoch < 5:\n",
    "        return best_loss, cnt, False\n",
    "    curr_loss = np.mean(latest_val_losses)\n",
    "    if curr_loss < best_loss:\n",
    "        best_loss = curr_loss\n",
    "        #save the model\n",
    "        torch.save(model.state_dict(), f\"training/cnn_epoch_{epoch+1}.pth\")\n",
    "    elif curr_loss > (1+increment)*best_loss:\n",
    "        cnt += 1\n",
    "        if cnt >= patience:\n",
    "            print(f\"Early stopping at epoch {epoch}\")\n",
    "            return best_loss, cnt, True\n",
    "    else:  \n",
    "        cnt = 0\n",
    "    return best_loss, cnt, False           "
   ]
  },
  {
   "cell_type": "code",
   "execution_count": null,
   "metadata": {},
   "outputs": [],
   "source": [
    "# training loop\n",
    "if not load_good_model:\n",
    "    num_epochs = 5 #150\n",
    "    train_losses = []\n",
    "    val_losses = []\n",
    "    #for early stopping\n",
    "    early_stopping_cnt = 0\n",
    "    best_loss = np.inf \n",
    "    for epoch in range(num_epochs):\n",
    "        print(f\"\\nEpoch {epoch+1}/{num_epochs}\")\n",
    "        # Train the model\n",
    "        train_loss = train_epoch(cnn, train_dataloader, loss_fn, optimizer, device)\n",
    "        # Validate the model\n",
    "        val_loss = validate_epoch(cnn, validation_dataloader, loss_fn, device)\n",
    "        print(f\"Validation loss: {val_loss}\")\n",
    "        # Append the losses\n",
    "        train_losses.append(train_loss)\n",
    "        val_losses.append(val_loss)\n",
    "\n",
    "        # early stopping and saving the model\n",
    "        best_loss, early_stopping_cnt, early_stopping_flag = early_stopping(val_losses, best_loss, cnn, early_stopping_cnt, epoch)\n",
    "    \n",
    "    # Save the losses\n",
    "    with open('training/losses.pkl', 'wb') as f:\n",
    "        pickle.dump([train_losses, val_losses], f)\n",
    "else:\n",
    "    #load the model\n",
    "    cnn.load_state_dict(torch.load(good_model_path))\n",
    "    #load the losses\n",
    "    with open('good_models/losses.pkl', 'rb') as f:\n",
    "        [train_losses, val_losses] = pickle.load(f)\n",
    "    #validate the model\n",
    "    val_loss = validate_epoch(cnn, validation_dataloader, loss_fn, device)\n",
    "    #test the model\n",
    "    test_loss = validate_epoch(cnn, test_dataloader, loss_fn, device)"
   ]
  },
  {
   "cell_type": "markdown",
   "metadata": {},
   "source": [
    "## Losses and model accuracy"
   ]
  },
  {
   "cell_type": "code",
   "execution_count": null,
   "metadata": {},
   "outputs": [],
   "source": [
    "# Plot the training and validation losses\n",
    "fig, ax = plt.subplots(figsize=(12,8))\n",
    "ax.plot(train_losses, label='Training loss')\n",
    "ax.plot(val_losses, label='Validation loss')\n",
    "ax.set_xlabel('Epochs')\n",
    "ax.set_ylabel('Loss')\n",
    "ax.legend()\n",
    "plt.show()"
   ]
  },
  {
   "cell_type": "code",
   "execution_count": null,
   "metadata": {},
   "outputs": [],
   "source": [
    "# Evaluate the model on the test set\n",
    "test_loss = validate_epoch(cnn, test_dataloader, loss_fn, device) \n",
    "print(f\"Test loss: {test_loss}\")\n",
    "print(f\"Test accuracy: {100*get_accuracy(cnn, test_dataloader, device)} %\")"
   ]
  },
  {
   "cell_type": "markdown",
   "metadata": {},
   "source": [
    "## Confusion Matrices"
   ]
  },
  {
   "cell_type": "code",
   "execution_count": null,
   "metadata": {},
   "outputs": [],
   "source": [
    "# function to get all predictions\n",
    "def get_predictions(model, dataloader, device):\n",
    "    # Set the model to evaluation mode\n",
    "    model.eval()\n",
    "    # Initialize the predictions\n",
    "    predictions = []\n",
    "    # Loop over the test batches\n",
    "    with torch.no_grad():\n",
    "        for (data, label) in tqdm(dataloader):\n",
    "            # Move the input and target data to the selected device\n",
    "            data, label = data.to(device), label.to(device)\n",
    "            # Compute the output\n",
    "            output = model(data)\n",
    "            # Get the index of the max log-probability\n",
    "            pred = output.argmax(dim=1, keepdim=True)\n",
    "            # Add to the predictions\n",
    "            predictions.extend(pred.cpu().numpy().tolist())\n",
    "    return predictions\n",
    "\n",
    "#get train dataset predictions\n",
    "train_predictions = get_predictions(cnn, train_dataloader, device)\n",
    "# get test dataset predictions\n",
    "test_predictions = get_predictions(cnn, test_dataloader, device)\n",
    "\n",
    "#get the labels\n",
    "train_labels = []\n",
    "for data, label in tqdm(train_dataloader): #note: to have a reasonable cm, dataloader needs to be without shuffle\n",
    "    train_labels.extend(label.numpy())\n",
    "\n",
    "test_labels = []\n",
    "for data, label in tqdm(test_dataloader):\n",
    "    test_labels.extend(label.numpy())\n",
    "\n",
    "print(f\"Train labels: {train_labels[:10]}\")\n",
    "print(f\"Train predictions: {train_predictions[:10]}\")\n",
    "print(f\"Test labels: {test_labels[:10]}\")\n",
    "print(f\"Test predictions: {test_predictions[:10]}\")\n",
    "\n",
    "# calculate confusion matrix for train and test set \n",
    "import sklearn.metrics as metrics\n",
    "cm_train = metrics.confusion_matrix(train_labels, train_predictions)\n",
    "cm_test = metrics.confusion_matrix(test_labels, test_predictions)"
   ]
  },
  {
   "cell_type": "code",
   "execution_count": null,
   "metadata": {},
   "outputs": [],
   "source": [
    "def plot_confusion_matrix(cm,\n",
    "                          target_names,\n",
    "                          title='Confusion matrix',\n",
    "                          cmap=None,\n",
    "                          normalize=True):\n",
    "    import itertools\n",
    "    accuracy = np.trace(cm) / np.sum(cm).astype('float')\n",
    "    misclass = 1 - accuracy\n",
    "\n",
    "    if cmap is None:\n",
    "        cmap = plt.get_cmap('Blues')\n",
    "\n",
    "    plt.figure(figsize=(15, 10))\n",
    "    plt.imshow(cm, interpolation='nearest', cmap=cmap)\n",
    "    plt.title(title)\n",
    "    plt.colorbar()\n",
    "\n",
    "    if target_names is not None:\n",
    "        tick_marks = np.arange(len(target_names))\n",
    "        plt.xticks(tick_marks, target_names, rotation=45)\n",
    "        plt.yticks(tick_marks, target_names)\n",
    "\n",
    "    if normalize:\n",
    "        cm = cm.astype('float') / cm.sum(axis=1)[:, np.newaxis]\n",
    "\n",
    "\n",
    "    thresh = cm.max() / 1.5 if normalize else cm.max() / 2\n",
    "    for i, j in itertools.product(range(cm.shape[0]), range(cm.shape[1])):\n",
    "        if normalize:\n",
    "            plt.text(j, i, \"{:0.4f}\".format(cm[i, j]),\n",
    "                     horizontalalignment=\"center\",\n",
    "                     color=\"white\" if cm[i, j] > thresh else \"black\")\n",
    "        else:\n",
    "            plt.text(j, i, \"{:,}\".format(cm[i, j]),\n",
    "                     horizontalalignment=\"center\",\n",
    "                     color=\"white\" if cm[i, j] > thresh else \"black\")\n",
    "\n",
    "\n",
    "    plt.tight_layout()\n",
    "    plt.ylabel('True label')\n",
    "    plt.xlabel('Predicted label\\naccuracy={:0.4f}; misclass={:0.4f}'.format(accuracy, misclass))\n",
    "    plt.show()\n",
    "\n",
    "plot_confusion_matrix(cm_train, target_names=label_names, title='Confusion matrix - Train set')\n",
    "plot_confusion_matrix(cm_test, target_names=label_names, title='Confusion matrix - Test set')"
   ]
  },
  {
   "cell_type": "markdown",
   "metadata": {},
   "source": [
    "Apparently, shirts can be confused more easily with t-shirts, coats and pullover. "
   ]
  },
  {
   "cell_type": "markdown",
   "metadata": {},
   "source": [
    "## Activations"
   ]
  },
  {
   "cell_type": "code",
   "execution_count": null,
   "metadata": {},
   "outputs": [],
   "source": [
    "## VISUALIZE WEIGHT HISTOGRAMS, ACTIVATION PROFILES, AND RECEPTIVE FIELDS"
   ]
  }
 ],
 "metadata": {
  "interpreter": {
   "hash": "90f6c143e8a87fb0ac430896b2414bede909786474d0833e4fd2f6aa8ee32104"
  },
  "kernelspec": {
   "display_name": "Python 3.7.12 64-bit ('DL_env': venv)",
   "language": "python",
   "name": "python3"
  },
  "language_info": {
   "codemirror_mode": {
    "name": "ipython",
    "version": 3
   },
   "file_extension": ".py",
   "mimetype": "text/x-python",
   "name": "python",
   "nbconvert_exporter": "python",
   "pygments_lexer": "ipython3",
   "version": "3.7.12"
  },
  "orig_nbformat": 4
 },
 "nbformat": 4,
 "nbformat_minor": 2
}
